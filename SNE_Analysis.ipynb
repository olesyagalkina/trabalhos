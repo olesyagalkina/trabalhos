{
 "cells": [
  {
   "cell_type": "markdown",
   "metadata": {},
   "source": [
    "# Markov chain Monte Carlo–based Bayesian data analysis for type Ia Supernovae \n",
    "\n",
    "Author: Olesya Galkina"
   ]
  },
  {
   "cell_type": "markdown",
   "metadata": {},
   "source": [
    "Markov chain Monte Carlo (MCMC) and Bayesian statistics are two independent disciplines, the former being a method to sample from a distribution while the latter is a theory to interpret observed data.\n",
    "\n",
    "O que é H_0\n",
    "\n",
    "O que é Hubble tension ou Crise cosmológica. \n",
    "In recent years, the tension between different measurements of H_0 has garnered significant attention. While the Planck satellite mission, which analyzed the CMB, reported a value of H_0 around 67 km/s/Mpc, independent measurements using the local distance ladder technique, such as the SH0ES collaboration, have consistently obtained higher values, closer to 73 km/s/Mpc. This discrepancy, significant at the 5σ level and often referred to as the “Hubble tension,” has led to considerable interest in exploring cosmological models that can reconcile these conflicting results."
   ]
  },
  {
   "cell_type": "code",
   "execution_count": 1,
   "metadata": {},
   "outputs": [],
   "source": [
    "import pandas as pd\n",
    "import numpy as np\n",
    "import math\n",
    "\n",
    "# For data visualization\n",
    "import matplotlib.pyplot as plt\n",
    "import seaborn as sns\n",
    "%matplotlib inline\n",
    "\n",
    "from scipy import constants\n",
    "\n",
    "# For analysing Monte Carlo samples\n",
    "import emcee\n",
    "from emcee import EnsembleSampler\n",
    "\n",
    "# For plotting Monte Carlo samples\n",
    "import getdist\n",
    "from getdist import plots"
   ]
  },
  {
   "cell_type": "markdown",
   "metadata": {},
   "source": [
    "In this work we use the latest data from the Pantheon+SH0ES collaboration that provides $1701$ light curve measurements of $1550$ Supernova objects. The data set is available [here](https://github.com/PantheonPlusSH0ES/DataRelease/tree/main)."
   ]
  },
  {
   "cell_type": "code",
   "execution_count": 2,
   "metadata": {},
   "outputs": [
    {
     "data": {
      "text/plain": [
       "(1701, 47)"
      ]
     },
     "execution_count": 2,
     "metadata": {},
     "output_type": "execute_result"
    }
   ],
   "source": [
    "# Load the data\n",
    "\n",
    "file_path = \"/home/olesya/Документы/A_Rabota/Rabota/Cosmological Tensions/Data/Pantheon+SH0ES.dat\"\n",
    "df = pd.read_csv(file_path, delimiter='\\s+')\n",
    "\n",
    "df.shape"
   ]
  },
  {
   "cell_type": "code",
   "execution_count": 3,
   "metadata": {},
   "outputs": [
    {
     "data": {
      "text/html": [
       "<div>\n",
       "<style scoped>\n",
       "    .dataframe tbody tr th:only-of-type {\n",
       "        vertical-align: middle;\n",
       "    }\n",
       "\n",
       "    .dataframe tbody tr th {\n",
       "        vertical-align: top;\n",
       "    }\n",
       "\n",
       "    .dataframe thead th {\n",
       "        text-align: right;\n",
       "    }\n",
       "</style>\n",
       "<table border=\"1\" class=\"dataframe\">\n",
       "  <thead>\n",
       "    <tr style=\"text-align: right;\">\n",
       "      <th></th>\n",
       "      <th>CID</th>\n",
       "      <th>IDSURVEY</th>\n",
       "      <th>zHD</th>\n",
       "      <th>zHDERR</th>\n",
       "      <th>zCMB</th>\n",
       "      <th>zCMBERR</th>\n",
       "      <th>zHEL</th>\n",
       "      <th>zHELERR</th>\n",
       "      <th>m_b_corr</th>\n",
       "      <th>m_b_corr_err_DIAG</th>\n",
       "      <th>...</th>\n",
       "      <th>PKMJDERR</th>\n",
       "      <th>NDOF</th>\n",
       "      <th>FITCHI2</th>\n",
       "      <th>FITPROB</th>\n",
       "      <th>m_b_corr_err_RAW</th>\n",
       "      <th>m_b_corr_err_VPEC</th>\n",
       "      <th>biasCor_m_b</th>\n",
       "      <th>biasCorErr_m_b</th>\n",
       "      <th>biasCor_m_b_COVSCALE</th>\n",
       "      <th>biasCor_m_b_COVADD</th>\n",
       "    </tr>\n",
       "  </thead>\n",
       "  <tbody>\n",
       "    <tr>\n",
       "      <th>0</th>\n",
       "      <td>2011fe</td>\n",
       "      <td>51</td>\n",
       "      <td>0.00122</td>\n",
       "      <td>0.00084</td>\n",
       "      <td>0.00122</td>\n",
       "      <td>0.00002</td>\n",
       "      <td>0.00082</td>\n",
       "      <td>0.00002</td>\n",
       "      <td>9.74571</td>\n",
       "      <td>1.516210</td>\n",
       "      <td>...</td>\n",
       "      <td>0.1071</td>\n",
       "      <td>36</td>\n",
       "      <td>26.8859</td>\n",
       "      <td>0.864470</td>\n",
       "      <td>0.0991</td>\n",
       "      <td>1.4960</td>\n",
       "      <td>0.0381</td>\n",
       "      <td>0.005</td>\n",
       "      <td>1.0</td>\n",
       "      <td>0.003</td>\n",
       "    </tr>\n",
       "    <tr>\n",
       "      <th>1</th>\n",
       "      <td>2011fe</td>\n",
       "      <td>56</td>\n",
       "      <td>0.00122</td>\n",
       "      <td>0.00084</td>\n",
       "      <td>0.00122</td>\n",
       "      <td>0.00002</td>\n",
       "      <td>0.00082</td>\n",
       "      <td>0.00002</td>\n",
       "      <td>9.80286</td>\n",
       "      <td>1.517230</td>\n",
       "      <td>...</td>\n",
       "      <td>0.0579</td>\n",
       "      <td>101</td>\n",
       "      <td>88.3064</td>\n",
       "      <td>0.812220</td>\n",
       "      <td>0.0971</td>\n",
       "      <td>1.4960</td>\n",
       "      <td>-0.0252</td>\n",
       "      <td>0.003</td>\n",
       "      <td>1.0</td>\n",
       "      <td>0.004</td>\n",
       "    </tr>\n",
       "    <tr>\n",
       "      <th>2</th>\n",
       "      <td>2012cg</td>\n",
       "      <td>51</td>\n",
       "      <td>0.00256</td>\n",
       "      <td>0.00084</td>\n",
       "      <td>0.00256</td>\n",
       "      <td>0.00002</td>\n",
       "      <td>0.00144</td>\n",
       "      <td>0.00002</td>\n",
       "      <td>11.47030</td>\n",
       "      <td>0.781906</td>\n",
       "      <td>...</td>\n",
       "      <td>0.0278</td>\n",
       "      <td>165</td>\n",
       "      <td>233.5000</td>\n",
       "      <td>0.000358</td>\n",
       "      <td>0.0399</td>\n",
       "      <td>0.7134</td>\n",
       "      <td>0.0545</td>\n",
       "      <td>0.019</td>\n",
       "      <td>1.0</td>\n",
       "      <td>0.036</td>\n",
       "    </tr>\n",
       "    <tr>\n",
       "      <th>3</th>\n",
       "      <td>2012cg</td>\n",
       "      <td>56</td>\n",
       "      <td>0.00256</td>\n",
       "      <td>0.00084</td>\n",
       "      <td>0.00256</td>\n",
       "      <td>0.00002</td>\n",
       "      <td>0.00144</td>\n",
       "      <td>0.00002</td>\n",
       "      <td>11.49190</td>\n",
       "      <td>0.798612</td>\n",
       "      <td>...</td>\n",
       "      <td>0.0667</td>\n",
       "      <td>55</td>\n",
       "      <td>100.1220</td>\n",
       "      <td>0.000193</td>\n",
       "      <td>0.0931</td>\n",
       "      <td>0.7134</td>\n",
       "      <td>0.0622</td>\n",
       "      <td>0.028</td>\n",
       "      <td>1.0</td>\n",
       "      <td>0.040</td>\n",
       "    </tr>\n",
       "    <tr>\n",
       "      <th>4</th>\n",
       "      <td>1994DRichmond</td>\n",
       "      <td>50</td>\n",
       "      <td>0.00299</td>\n",
       "      <td>0.00084</td>\n",
       "      <td>0.00299</td>\n",
       "      <td>0.00004</td>\n",
       "      <td>0.00187</td>\n",
       "      <td>0.00004</td>\n",
       "      <td>11.52270</td>\n",
       "      <td>0.880798</td>\n",
       "      <td>...</td>\n",
       "      <td>0.0522</td>\n",
       "      <td>146</td>\n",
       "      <td>109.8390</td>\n",
       "      <td>0.988740</td>\n",
       "      <td>0.0567</td>\n",
       "      <td>0.6110</td>\n",
       "      <td>0.0650</td>\n",
       "      <td>0.009</td>\n",
       "      <td>1.0</td>\n",
       "      <td>0.006</td>\n",
       "    </tr>\n",
       "    <tr>\n",
       "      <th>5</th>\n",
       "      <td>1981B</td>\n",
       "      <td>50</td>\n",
       "      <td>0.00317</td>\n",
       "      <td>0.00084</td>\n",
       "      <td>0.00350</td>\n",
       "      <td>0.00001</td>\n",
       "      <td>0.00236</td>\n",
       "      <td>0.00001</td>\n",
       "      <td>11.54160</td>\n",
       "      <td>0.613941</td>\n",
       "      <td>...</td>\n",
       "      <td>0.2973</td>\n",
       "      <td>41</td>\n",
       "      <td>43.2260</td>\n",
       "      <td>0.376420</td>\n",
       "      <td>0.0732</td>\n",
       "      <td>0.5763</td>\n",
       "      <td>0.0206</td>\n",
       "      <td>0.007</td>\n",
       "      <td>1.0</td>\n",
       "      <td>0.013</td>\n",
       "    </tr>\n",
       "    <tr>\n",
       "      <th>6</th>\n",
       "      <td>2013aa</td>\n",
       "      <td>56</td>\n",
       "      <td>0.00331</td>\n",
       "      <td>0.00085</td>\n",
       "      <td>0.00478</td>\n",
       "      <td>0.00015</td>\n",
       "      <td>0.00411</td>\n",
       "      <td>0.00015</td>\n",
       "      <td>11.20740</td>\n",
       "      <td>0.594070</td>\n",
       "      <td>...</td>\n",
       "      <td>0.1580</td>\n",
       "      <td>31</td>\n",
       "      <td>27.5263</td>\n",
       "      <td>0.645500</td>\n",
       "      <td>0.1104</td>\n",
       "      <td>0.5586</td>\n",
       "      <td>0.0298</td>\n",
       "      <td>0.003</td>\n",
       "      <td>1.0</td>\n",
       "      <td>0.003</td>\n",
       "    </tr>\n",
       "    <tr>\n",
       "      <th>7</th>\n",
       "      <td>2013aa</td>\n",
       "      <td>5</td>\n",
       "      <td>0.00331</td>\n",
       "      <td>0.00085</td>\n",
       "      <td>0.00478</td>\n",
       "      <td>0.00015</td>\n",
       "      <td>0.00411</td>\n",
       "      <td>0.00015</td>\n",
       "      <td>11.29980</td>\n",
       "      <td>0.579622</td>\n",
       "      <td>...</td>\n",
       "      <td>0.1190</td>\n",
       "      <td>56</td>\n",
       "      <td>35.0505</td>\n",
       "      <td>0.987280</td>\n",
       "      <td>0.0620</td>\n",
       "      <td>0.5586</td>\n",
       "      <td>0.0727</td>\n",
       "      <td>0.007</td>\n",
       "      <td>1.0</td>\n",
       "      <td>0.003</td>\n",
       "    </tr>\n",
       "    <tr>\n",
       "      <th>8</th>\n",
       "      <td>2017cbv</td>\n",
       "      <td>5</td>\n",
       "      <td>0.00331</td>\n",
       "      <td>0.00085</td>\n",
       "      <td>0.00478</td>\n",
       "      <td>0.00015</td>\n",
       "      <td>0.00411</td>\n",
       "      <td>0.00015</td>\n",
       "      <td>11.14830</td>\n",
       "      <td>0.577815</td>\n",
       "      <td>...</td>\n",
       "      <td>0.0381</td>\n",
       "      <td>94</td>\n",
       "      <td>69.7345</td>\n",
       "      <td>0.971300</td>\n",
       "      <td>0.0580</td>\n",
       "      <td>0.5586</td>\n",
       "      <td>0.0516</td>\n",
       "      <td>0.004</td>\n",
       "      <td>1.0</td>\n",
       "      <td>0.003</td>\n",
       "    </tr>\n",
       "    <tr>\n",
       "      <th>9</th>\n",
       "      <td>2017cbv</td>\n",
       "      <td>18</td>\n",
       "      <td>0.00331</td>\n",
       "      <td>0.00085</td>\n",
       "      <td>0.00478</td>\n",
       "      <td>0.00015</td>\n",
       "      <td>0.00411</td>\n",
       "      <td>0.00015</td>\n",
       "      <td>11.25770</td>\n",
       "      <td>0.577916</td>\n",
       "      <td>...</td>\n",
       "      <td>0.0500</td>\n",
       "      <td>92</td>\n",
       "      <td>45.1690</td>\n",
       "      <td>0.999990</td>\n",
       "      <td>0.0607</td>\n",
       "      <td>0.5586</td>\n",
       "      <td>0.0216</td>\n",
       "      <td>0.003</td>\n",
       "      <td>1.0</td>\n",
       "      <td>0.003</td>\n",
       "    </tr>\n",
       "  </tbody>\n",
       "</table>\n",
       "<p>10 rows × 47 columns</p>\n",
       "</div>"
      ],
      "text/plain": [
       "             CID  IDSURVEY      zHD   zHDERR     zCMB  zCMBERR     zHEL  \\\n",
       "0         2011fe        51  0.00122  0.00084  0.00122  0.00002  0.00082   \n",
       "1         2011fe        56  0.00122  0.00084  0.00122  0.00002  0.00082   \n",
       "2         2012cg        51  0.00256  0.00084  0.00256  0.00002  0.00144   \n",
       "3         2012cg        56  0.00256  0.00084  0.00256  0.00002  0.00144   \n",
       "4  1994DRichmond        50  0.00299  0.00084  0.00299  0.00004  0.00187   \n",
       "5          1981B        50  0.00317  0.00084  0.00350  0.00001  0.00236   \n",
       "6         2013aa        56  0.00331  0.00085  0.00478  0.00015  0.00411   \n",
       "7         2013aa         5  0.00331  0.00085  0.00478  0.00015  0.00411   \n",
       "8        2017cbv         5  0.00331  0.00085  0.00478  0.00015  0.00411   \n",
       "9        2017cbv        18  0.00331  0.00085  0.00478  0.00015  0.00411   \n",
       "\n",
       "   zHELERR  m_b_corr  m_b_corr_err_DIAG  ...  PKMJDERR  NDOF   FITCHI2  \\\n",
       "0  0.00002   9.74571           1.516210  ...    0.1071    36   26.8859   \n",
       "1  0.00002   9.80286           1.517230  ...    0.0579   101   88.3064   \n",
       "2  0.00002  11.47030           0.781906  ...    0.0278   165  233.5000   \n",
       "3  0.00002  11.49190           0.798612  ...    0.0667    55  100.1220   \n",
       "4  0.00004  11.52270           0.880798  ...    0.0522   146  109.8390   \n",
       "5  0.00001  11.54160           0.613941  ...    0.2973    41   43.2260   \n",
       "6  0.00015  11.20740           0.594070  ...    0.1580    31   27.5263   \n",
       "7  0.00015  11.29980           0.579622  ...    0.1190    56   35.0505   \n",
       "8  0.00015  11.14830           0.577815  ...    0.0381    94   69.7345   \n",
       "9  0.00015  11.25770           0.577916  ...    0.0500    92   45.1690   \n",
       "\n",
       "    FITPROB  m_b_corr_err_RAW  m_b_corr_err_VPEC  biasCor_m_b  biasCorErr_m_b  \\\n",
       "0  0.864470            0.0991             1.4960       0.0381           0.005   \n",
       "1  0.812220            0.0971             1.4960      -0.0252           0.003   \n",
       "2  0.000358            0.0399             0.7134       0.0545           0.019   \n",
       "3  0.000193            0.0931             0.7134       0.0622           0.028   \n",
       "4  0.988740            0.0567             0.6110       0.0650           0.009   \n",
       "5  0.376420            0.0732             0.5763       0.0206           0.007   \n",
       "6  0.645500            0.1104             0.5586       0.0298           0.003   \n",
       "7  0.987280            0.0620             0.5586       0.0727           0.007   \n",
       "8  0.971300            0.0580             0.5586       0.0516           0.004   \n",
       "9  0.999990            0.0607             0.5586       0.0216           0.003   \n",
       "\n",
       "   biasCor_m_b_COVSCALE  biasCor_m_b_COVADD  \n",
       "0                   1.0               0.003  \n",
       "1                   1.0               0.004  \n",
       "2                   1.0               0.036  \n",
       "3                   1.0               0.040  \n",
       "4                   1.0               0.006  \n",
       "5                   1.0               0.013  \n",
       "6                   1.0               0.003  \n",
       "7                   1.0               0.003  \n",
       "8                   1.0               0.003  \n",
       "9                   1.0               0.003  \n",
       "\n",
       "[10 rows x 47 columns]"
      ]
     },
     "execution_count": 3,
     "metadata": {},
     "output_type": "execute_result"
    }
   ],
   "source": [
    "df.head(10)"
   ]
  },
  {
   "cell_type": "markdown",
   "metadata": {},
   "source": [
    "We are interested in following parameters:\n",
    "\n",
    " - `zCMB` velocity-corrected CMB-frame redshift $z$ (also called Hubble diagram redshift)\n",
    " - `zCMBERR` CMB redshift uncertainty\n",
    " - `zHEL` heliocentric redshift $z_{hel}$\n",
    " - `zHELERR` heliocentric redshift uncertainty\n",
    " - `m_b_corr` corrected apparent $m_b$ magnitude.\n",
    " - `m_b_corr_err_DIAG` corrected $m_b$ magnitude uncertainty as determined from the diagonal of the covariance matrix. "
   ]
  },
  {
   "cell_type": "code",
   "execution_count": 3,
   "metadata": {},
   "outputs": [
    {
     "data": {
      "image/png": "[encoded data removed]",
      "text/plain": [
       "<Figure size 800x500 with 1 Axes>"
      ]
     },
     "metadata": {},
     "output_type": "display_data"
    }
   ],
   "source": [
    "# Plot observed CMB corrected redshift vs observed magnitude\n",
    "\n",
    "plt.figure(figsize=(8, 5))\n",
    "plt.scatter(df['zCMB'], df['m_b_corr'], alpha=0.5)\n",
    "plt.title('CMB corrected redshift vs observed magnitude')\n",
    "plt.xlabel('CMB Redshift')\n",
    "plt.ylabel('Magnitude')\n",
    "plt.grid(False)\n",
    "\n",
    "plt.show()"
   ]
  },
  {
   "cell_type": "code",
   "execution_count": 4,
   "metadata": {},
   "outputs": [
    {
     "data": {
      "image/png": "[encoded data removed]",
      "text/plain": [
       "<Figure size 1000x600 with 1 Axes>"
      ]
     },
     "metadata": {},
     "output_type": "display_data"
    }
   ],
   "source": [
    "# Plot with error bars\n",
    "\n",
    "plt.figure(figsize=(10, 6))\n",
    "plt.errorbar(df['zCMB'], df['m_b_corr'], xerr=df['zCMBERR'], yerr=df['m_b_corr_err_DIAG'], fmt='o', alpha=0.5,\n",
    "             capsize=3, markersize=5)\n",
    "plt.title('CMB corrected redshift vs observed magnitude with error bars')\n",
    "plt.xlabel('CMB Redshift')\n",
    "plt.ylabel('The observed magnitude')\n",
    "plt.grid(False)\n",
    "\n",
    "plt.show()"
   ]
  },
  {
   "cell_type": "markdown",
   "metadata": {},
   "source": [
    "In our work we are interested in the Hubble constant $H_0$ in the redshift range $0.023<z<0.15$, we select the range and save it as numpy array.\n",
    "EXPLICAR"
   ]
  },
  {
   "cell_type": "code",
   "execution_count": 4,
   "metadata": {},
   "outputs": [
    {
     "name": "stdout",
     "output_type": "stream",
     "text": [
      "The CMB redshift range is:  0.00122 < z < 2.2613\n"
     ]
    }
   ],
   "source": [
    "# Verify the total range\n",
    "\n",
    "print('The CMB redshift range is: ', df['zCMB'].min(), '< z <', df['zCMB'].max())"
   ]
  },
  {
   "cell_type": "code",
   "execution_count": 5,
   "metadata": {},
   "outputs": [
    {
     "data": {
      "text/plain": [
       "(492,)"
      ]
     },
     "execution_count": 5,
     "metadata": {},
     "output_type": "execute_result"
    }
   ],
   "source": [
    "# Assign values in the selected range to 'z-values' using a boolean mask\n",
    "\n",
    "z_values = df.loc[(df['zCMB'] > 0.023) & (df['zCMB'] < 0.15), 'zCMB'].to_numpy()\n",
    "\n",
    "z_values.shape"
   ]
  },
  {
   "cell_type": "markdown",
   "metadata": {},
   "source": [
    "We have $492$ values out of $1701$ in this range."
   ]
  },
  {
   "cell_type": "code",
   "execution_count": 6,
   "metadata": {},
   "outputs": [
    {
     "data": {
      "image/png": "[encoded data removed]",
      "text/plain": [
       "<Figure size 640x480 with 1 Axes>"
      ]
     },
     "metadata": {},
     "output_type": "display_data"
    }
   ],
   "source": [
    "data = df.loc[(df['zCMB'] > 0.023) & (df['zCMB'] < 0.15), 'zCMB']\n",
    "num_bins = 20\n",
    "n, bins, patches = plt.hist(data, num_bins, \n",
    "                            density = 1, \n",
    "                            color ='green',\n",
    "                            alpha = 0.7)\n",
    "plt.show()"
   ]
  },
  {
   "cell_type": "markdown",
   "metadata": {},
   "source": [
    "Let's select others parameters in this range."
   ]
  },
  {
   "cell_type": "code",
   "execution_count": 7,
   "metadata": {},
   "outputs": [],
   "source": [
    "# Selects values from specific columns \n",
    "\n",
    "def select_values_in_range(df, column_name, lower_bound, upper_bound, other_columns):\n",
    "    selected_rows = df.loc[(df[column_name] > lower_bound) & (df[column_name] < upper_bound)]\n",
    "    selected_values = selected_rows[other_columns]\n",
    "    \n",
    "    return selected_values"
   ]
  },
  {
   "cell_type": "code",
   "execution_count": 8,
   "metadata": {},
   "outputs": [],
   "source": [
    "# Define the columns we want to select\n",
    "\n",
    "other_columns = ['zCMBERR', 'zHEL', 'zHELERR', 'm_b_corr', 'm_b_corr_err_DIAG']  "
   ]
  },
  {
   "cell_type": "code",
   "execution_count": 9,
   "metadata": {},
   "outputs": [
    {
     "data": {
      "text/html": [
       "<div>\n",
       "<style scoped>\n",
       "    .dataframe tbody tr th:only-of-type {\n",
       "        vertical-align: middle;\n",
       "    }\n",
       "\n",
       "    .dataframe tbody tr th {\n",
       "        vertical-align: top;\n",
       "    }\n",
       "\n",
       "    .dataframe thead th {\n",
       "        text-align: right;\n",
       "    }\n",
       "</style>\n",
       "<table border=\"1\" class=\"dataframe\">\n",
       "  <thead>\n",
       "    <tr style=\"text-align: right;\">\n",
       "      <th></th>\n",
       "      <th>zCMBERR</th>\n",
       "      <th>zHEL</th>\n",
       "      <th>zHELERR</th>\n",
       "      <th>m_b_corr</th>\n",
       "      <th>m_b_corr_err_DIAG</th>\n",
       "    </tr>\n",
       "  </thead>\n",
       "  <tbody>\n",
       "    <tr>\n",
       "      <th>317</th>\n",
       "      <td>0.00000</td>\n",
       "      <td>0.02229</td>\n",
       "      <td>0.00000</td>\n",
       "      <td>15.5184</td>\n",
       "      <td>0.301448</td>\n",
       "    </tr>\n",
       "    <tr>\n",
       "      <th>318</th>\n",
       "      <td>0.00000</td>\n",
       "      <td>0.02229</td>\n",
       "      <td>0.00000</td>\n",
       "      <td>15.6073</td>\n",
       "      <td>0.241616</td>\n",
       "    </tr>\n",
       "    <tr>\n",
       "      <th>323</th>\n",
       "      <td>0.00001</td>\n",
       "      <td>0.02290</td>\n",
       "      <td>0.00001</td>\n",
       "      <td>15.5908</td>\n",
       "      <td>0.218888</td>\n",
       "    </tr>\n",
       "    <tr>\n",
       "      <th>326</th>\n",
       "      <td>0.00001</td>\n",
       "      <td>0.02269</td>\n",
       "      <td>0.00001</td>\n",
       "      <td>16.0155</td>\n",
       "      <td>0.303676</td>\n",
       "    </tr>\n",
       "    <tr>\n",
       "      <th>327</th>\n",
       "      <td>0.00015</td>\n",
       "      <td>0.02331</td>\n",
       "      <td>0.00015</td>\n",
       "      <td>15.6054</td>\n",
       "      <td>0.199450</td>\n",
       "    </tr>\n",
       "    <tr>\n",
       "      <th>...</th>\n",
       "      <td>...</td>\n",
       "      <td>...</td>\n",
       "      <td>...</td>\n",
       "      <td>...</td>\n",
       "      <td>...</td>\n",
       "    </tr>\n",
       "    <tr>\n",
       "      <th>821</th>\n",
       "      <td>0.00050</td>\n",
       "      <td>0.14896</td>\n",
       "      <td>0.00050</td>\n",
       "      <td>19.9755</td>\n",
       "      <td>0.183004</td>\n",
       "    </tr>\n",
       "    <tr>\n",
       "      <th>822</th>\n",
       "      <td>0.00004</td>\n",
       "      <td>0.14927</td>\n",
       "      <td>0.00004</td>\n",
       "      <td>19.7852</td>\n",
       "      <td>0.155606</td>\n",
       "    </tr>\n",
       "    <tr>\n",
       "      <th>823</th>\n",
       "      <td>0.00050</td>\n",
       "      <td>0.14915</td>\n",
       "      <td>0.00050</td>\n",
       "      <td>19.7709</td>\n",
       "      <td>0.140105</td>\n",
       "    </tr>\n",
       "    <tr>\n",
       "      <th>824</th>\n",
       "      <td>0.00002</td>\n",
       "      <td>0.15021</td>\n",
       "      <td>0.00002</td>\n",
       "      <td>19.9076</td>\n",
       "      <td>0.172844</td>\n",
       "    </tr>\n",
       "    <tr>\n",
       "      <th>825</th>\n",
       "      <td>0.00500</td>\n",
       "      <td>0.15020</td>\n",
       "      <td>0.00500</td>\n",
       "      <td>19.8574</td>\n",
       "      <td>0.173123</td>\n",
       "    </tr>\n",
       "  </tbody>\n",
       "</table>\n",
       "<p>492 rows × 5 columns</p>\n",
       "</div>"
      ],
      "text/plain": [
       "     zCMBERR     zHEL  zHELERR  m_b_corr  m_b_corr_err_DIAG\n",
       "317  0.00000  0.02229  0.00000   15.5184           0.301448\n",
       "318  0.00000  0.02229  0.00000   15.6073           0.241616\n",
       "323  0.00001  0.02290  0.00001   15.5908           0.218888\n",
       "326  0.00001  0.02269  0.00001   16.0155           0.303676\n",
       "327  0.00015  0.02331  0.00015   15.6054           0.199450\n",
       "..       ...      ...      ...       ...                ...\n",
       "821  0.00050  0.14896  0.00050   19.9755           0.183004\n",
       "822  0.00004  0.14927  0.00004   19.7852           0.155606\n",
       "823  0.00050  0.14915  0.00050   19.7709           0.140105\n",
       "824  0.00002  0.15021  0.00002   19.9076           0.172844\n",
       "825  0.00500  0.15020  0.00500   19.8574           0.173123\n",
       "\n",
       "[492 rows x 5 columns]"
      ]
     },
     "execution_count": 9,
     "metadata": {},
     "output_type": "execute_result"
    }
   ],
   "source": [
    "# Call the function\n",
    "\n",
    "selected_values = select_values_in_range(df, 'zCMB', 0.023, 0.15, other_columns)\n",
    "selected_values"
   ]
  },
  {
   "cell_type": "markdown",
   "metadata": {},
   "source": [
    "### The luminosity distance\n",
    "\n",
    "The luminosity distance is a very important notion of distance for observation. It is based on the knowledge of the intrinsic luminosity _L_ of a source, which is therefore called _standard candle_. Type Ia supernovae are standard candles, for example.\n",
    "\n",
    "\n",
    "The luminosity distance $d_{L}(z, z_{hel})$ in a flat expanding Friedmann-Lemaitre-Robertson-Walker universe is defined as:\n",
    "$$\n",
    "d_{L}(z, z_{hel})=\\frac{1+z_{hel}}{1+z}d_L(z),\n",
    "$$\n",
    "with\n",
    "\n",
    "$$\n",
    "d_{L}(z)=\\frac{c}{H_0}\\left[z+\\frac{1}{2}(1-q_0)z^2-\\frac{1}{6}(3q_0^2+q_0-j_0-1)(z^3)\\right], \n",
    "$$\n",
    "\n",
    "where $z_{hel}$  is heliocentric redshift, $H_0$ is the Hubble constant, $q_0$ is a deceleration parameter and $j_0$ is a \"jerk parameter\" (third order derivative parameter).\n",
    "\n",
    "Let's calculate the luminosity distance (up to second order) assuming the value of the Hubble constant $H_0$ as measured by the _SH0ES_ collaboration and the following parameters:"
   ]
  },
  {
   "cell_type": "markdown",
   "metadata": {},
   "source": [
    "We use NumPy to perform vectorized operations and avoid using explicit loops."
   ]
  },
  {
   "cell_type": "code",
   "execution_count": 10,
   "metadata": {},
   "outputs": [],
   "source": [
    "# Function to calculate the luminosity distance d_L(z) \n",
    "cc = constants.c/1000.\n",
    "\n",
    "def lum_distance(z,H0,q0,j0):\n",
    "    dL = cc*z*(1+(1-q0)*(z/2)+(3*q0**2+q0-j0-1)*((z**2)/6))/H0\n",
    "    return dL"
   ]
  },
  {
   "cell_type": "code",
   "execution_count": 11,
   "metadata": {},
   "outputs": [],
   "source": [
    "# Transform selected_values['zHEL'] to NumPy array\n",
    "\n",
    "z_hel = selected_values['zHEL'].to_numpy()"
   ]
  },
  {
   "cell_type": "code",
   "execution_count": 12,
   "metadata": {},
   "outputs": [],
   "source": [
    "# Calculate the luminosity distance d_L(z,z_hel)\n",
    "\n",
    "def lum_distance_total(z,z_hel,H0,q0,j0):\n",
    "    dL_total = ((1+z_hel)/(1+z)) * lum_distance(z,H0,q0,j0)\n",
    "    return dL_total"
   ]
  },
  {
   "cell_type": "code",
   "execution_count": 13,
   "metadata": {},
   "outputs": [
    {
     "data": {
      "text/plain": [
       "array([ 97.47085372,  97.47085372,  99.5238392 ,  98.92174832,\n",
       "        99.23115713,  98.242963  ,  97.15894129,  96.76845493,\n",
       "        97.20069589,  97.20069589,  97.20069589,  96.67969304,\n",
       "        96.67969304,  96.51816727, 100.49525288, 102.44814139,\n",
       "        97.3395712 , 101.21948847,  96.53396688, 100.12123813,\n",
       "       102.58640381,  98.71238113, 101.90378883, 101.90378883,\n",
       "       101.158152  , 101.17392628, 101.17392628, 102.41912464,\n",
       "       101.35011129, 100.08261469, 100.08261469,  98.32324474,\n",
       "       100.86629421, 103.65154036, 103.65154036, 103.65154036,\n",
       "       100.2019598 , 102.44267646, 102.44267646, 102.44267646,\n",
       "       101.36987517, 101.36987517, 100.75791816, 100.66971323,\n",
       "       104.17316194, 106.85300952, 103.95490328, 103.95490328,\n",
       "       101.04648952, 103.95490328, 104.49866563, 102.29475427,\n",
       "       104.56678571, 104.56678571, 104.56678571, 103.29058461,\n",
       "       103.29058461, 106.65846696, 104.32744091, 104.32744091,\n",
       "       108.04484601, 105.60833404, 103.6238567 , 104.19032031,\n",
       "       108.45764417, 106.16770305, 105.83324317, 108.1185473 ,\n",
       "       108.1185473 , 108.1185473 , 109.61493507, 108.69212368,\n",
       "       108.69212368, 108.11484624, 108.61633083, 109.11177647,\n",
       "       109.11177647, 112.69983343, 110.62945355, 110.74496782,\n",
       "       114.31674435, 110.44342137, 111.30101478, 111.30101478,\n",
       "       111.30101478, 110.62298001, 111.60381147, 114.09278892,\n",
       "       113.84959338, 113.84959338, 113.84959338, 112.03506185,\n",
       "       116.24287179, 113.47267754, 115.83259132, 115.30190165,\n",
       "       118.47519051, 116.53176791, 118.85890898, 118.85890898,\n",
       "       118.85890898, 117.2207817 , 118.922757  , 118.922757  ,\n",
       "       116.62520356, 114.42068075, 114.42068075, 114.42068075,\n",
       "       117.63087184, 118.59886672, 116.48886642, 124.01866526,\n",
       "       120.00111842, 117.63054156, 118.77646703, 120.46165486,\n",
       "       119.31401055, 120.61195931, 119.47194138, 119.66187655,\n",
       "       121.45724314, 121.45960536, 120.55738504, 125.52167244,\n",
       "       121.26819282, 121.71159182, 128.16468623, 128.34091684,\n",
       "       121.68809911, 127.9730821 , 123.35520154, 125.3785659 ,\n",
       "       123.33739354, 124.54873319, 125.24121555, 125.24121555,\n",
       "       125.24121555, 127.1239141 , 126.19829292, 125.65180462,\n",
       "       124.72797972, 124.6655558 , 130.37716294, 126.30261946,\n",
       "       125.3065184 , 126.33712365, 130.04076068, 131.73716015,\n",
       "       129.11896855, 129.12147418, 129.12147418, 126.74354053,\n",
       "       130.75694035, 130.75694035, 131.68399882, 129.99787582,\n",
       "       132.61884625, 131.97386238, 131.97386238, 131.97386238,\n",
       "       136.36092819, 136.36092819, 136.36092819, 129.16015153,\n",
       "       130.48960593, 137.26415545, 131.34014576, 129.45185279,\n",
       "       129.67550273, 129.66419459, 129.66419459, 137.97976514,\n",
       "       134.79975241, 132.7589352 , 133.45253876, 134.65772662,\n",
       "       135.10788822, 135.10788822, 133.75940212, 133.75940212,\n",
       "       134.32043753, 136.76292239, 136.76292239, 136.76292239,\n",
       "       141.9249567 , 140.52544668, 135.08038894, 135.25062258,\n",
       "       136.64534906, 136.64534906, 139.39001581, 136.65363871,\n",
       "       136.65363871, 140.50677239, 138.75346487, 138.75346487,\n",
       "       139.49961154, 140.68984852, 139.80327879, 139.87537984,\n",
       "       139.26352588, 144.61612632, 141.34897194, 141.34897194,\n",
       "       150.25578889, 148.92955011, 141.82469812, 146.93380991,\n",
       "       143.56574885, 141.2511336 , 147.20659274, 150.71789165,\n",
       "       142.03557174, 142.03557174, 147.42137291, 145.37153775,\n",
       "       148.36542325, 149.42560576, 147.50149068, 147.50149068,\n",
       "       150.20092075, 147.54584992, 151.51604434, 149.40245452,\n",
       "       152.16030632, 150.81422054, 153.95342474, 153.95342474,\n",
       "       157.5225038 , 153.13554148, 153.13554148, 152.76004447,\n",
       "       154.42181492, 151.64096244, 153.90243236, 153.21200177,\n",
       "       153.21200177, 151.28821086, 156.59376762, 153.65389264,\n",
       "       154.25024909, 154.25024909, 159.09140069, 155.17159447,\n",
       "       153.7791549 , 157.58042558, 157.58042558, 160.32591207,\n",
       "       158.94492561, 166.59598812, 158.20897214, 162.02065858,\n",
       "       161.88099434, 163.58316039, 160.64621529, 165.95089751,\n",
       "       169.31604092, 164.61872858, 169.98293075, 169.98293075,\n",
       "       168.40204947, 171.52260632, 171.17699056, 170.36335176,\n",
       "       171.87785244, 170.37741602, 181.64834367, 179.82358253,\n",
       "       178.88694804, 180.11151945, 175.0371305 , 175.0371305 ,\n",
       "       180.97116862, 180.18114164, 183.50674365, 181.49039263,\n",
       "       181.49039263, 186.53643551, 182.63922502, 187.03293457,\n",
       "       186.86024053, 191.56648458, 185.47624642, 188.23142559,\n",
       "       188.1221429 , 191.0197736 , 191.14614409, 191.14614409,\n",
       "       190.56327602, 193.15013499, 196.53181357, 195.95584679,\n",
       "       193.09825573, 198.51197884, 198.39919853, 199.40946523,\n",
       "       199.40946523, 202.51501595, 198.69716269, 201.19026212,\n",
       "       202.7044798 , 203.25947246, 203.32348557, 203.51753541,\n",
       "       207.5279934 , 206.25707201, 214.02812903, 208.33296176,\n",
       "       209.8071174 , 213.76871059, 210.85536688, 212.33914407,\n",
       "       213.327033  , 210.79367256, 211.73606006, 216.17771008,\n",
       "       216.10562163, 212.8496217 , 219.52999263, 222.06416885,\n",
       "       220.29823432, 219.4940678 , 223.58188436, 223.58188436,\n",
       "       223.45948604, 227.59160958, 225.02236059, 226.02277031,\n",
       "       232.80383914, 232.00894859, 234.4535095 , 236.40197636,\n",
       "       235.72441671, 241.42280885, 242.64079913, 242.51253739,\n",
       "       241.38853475, 243.32540355, 247.12670236, 247.12670236,\n",
       "       244.8490435 , 250.18664582, 250.18664582, 254.82520179,\n",
       "       260.84786706, 263.15881303, 263.15881303, 260.93241875,\n",
       "       263.09144764, 263.09144764, 264.26844386, 274.31389194,\n",
       "       276.09097708, 275.15207036, 279.43763999, 284.39017223,\n",
       "       287.08109196, 289.81148752, 290.52923505, 292.0805773 ,\n",
       "       295.27009019, 298.15413185, 298.37311786, 305.79924615,\n",
       "       303.77331969, 303.77331969, 304.56977619, 307.43186786,\n",
       "       306.11895406, 305.27587944, 306.34305677, 306.95396869,\n",
       "       309.78764742, 308.60961214, 311.13325361, 311.79274321,\n",
       "       316.02824568, 320.67653694, 324.55709626, 323.54250405,\n",
       "       325.31663896, 325.31663896, 326.33452298, 327.10204844,\n",
       "       327.8637773 , 341.93756097, 340.47631107, 341.70337245,\n",
       "       341.70337245, 342.73560496, 343.66005494, 344.17983671,\n",
       "       346.55979746, 349.20992558, 355.25052736, 358.35561398,\n",
       "       360.41076418, 361.73331279, 365.61598207, 373.80526622,\n",
       "       378.91838388, 387.96917705, 395.03354232, 397.39883761,\n",
       "       403.48871875, 407.49000764, 439.35889169, 447.90825158,\n",
       "       452.03392415, 451.95599779, 455.61082696, 457.86313232,\n",
       "       458.49517445, 464.85315811, 472.06870439, 474.27596682,\n",
       "       474.747048  , 475.26363013, 477.35433683, 479.15710036,\n",
       "       483.91978442, 487.84174967, 500.93075678, 506.75415679,\n",
       "       519.39821964, 519.43705809, 524.56552056, 526.31459796,\n",
       "       527.56658523, 530.54421674, 536.94453289, 539.32973182,\n",
       "       539.60735914, 546.51715932, 546.70100993, 549.62985734,\n",
       "       551.90878133, 553.54184884, 554.56035098, 554.91444927,\n",
       "       555.27217852, 555.92759723, 559.35657938, 563.600255  ,\n",
       "       566.38500849, 570.69785722, 570.95942731, 571.10973803,\n",
       "       571.70554804, 580.85009212, 580.88573427, 582.38791971,\n",
       "       582.9761172 , 592.99377071, 597.91751726, 602.68586185,\n",
       "       603.02003161, 608.14094531, 610.99258693, 615.00042519,\n",
       "       617.07510047, 619.49516633, 620.02509083, 621.63280638,\n",
       "       625.57755582, 625.8344967 , 626.31691911, 626.82619346,\n",
       "       628.29809879, 628.28834491, 632.44692174, 638.37107506,\n",
       "       639.14669815, 640.08621376, 640.66797588, 649.94043032,\n",
       "       651.44755134, 652.01306739, 653.93701157, 655.2449096 ,\n",
       "       661.23886402, 665.64882335, 666.96587434, 671.18553848,\n",
       "       671.16135844, 672.54333037, 671.68868201, 674.95888582,\n",
       "       674.26244115, 675.37794223, 678.76993884, 680.56559195])"
      ]
     },
     "execution_count": 13,
     "metadata": {},
     "output_type": "execute_result"
    }
   ],
   "source": [
    "#check\n",
    "\n",
    "lum_distance_total(z_values,z_hel,73,-0.55,1)"
   ]
  },
  {
   "cell_type": "markdown",
   "metadata": {},
   "source": [
    "### The distance modulus\n",
    "\n",
    "The distance modulus $\\mu$ of a supernova at redshift $z$ is defined as:\n",
    "\n",
    "$$\n",
    "\\mu=m_B-M_B=5\\log_{10}\\left(\\frac{d_{L}(z,z_{hel})}{1 Mpc}\\right)+25,\n",
    "$$\n",
    "\n",
    "where $m_B$ is apparent magnitude and $M_B$ is the absolute magnitude (the hypothetical apparent magnitude of an object as if it were at a distance of $10$ $pc$). We use the Megaparsec ($Mpc$) as a more appropriate distance scale for cosmology."
   ]
  },
  {
   "cell_type": "code",
   "execution_count": 14,
   "metadata": {},
   "outputs": [
    {
     "name": "stdout",
     "output_type": "stream",
     "text": [
      "(492,)\n"
     ]
    }
   ],
   "source": [
    "# Transform selected_values['m_b_corr'] to NumPy array\n",
    "\n",
    "m_data = selected_values['m_b_corr'].to_numpy()\n",
    "print(m_data.shape)"
   ]
  },
  {
   "cell_type": "code",
   "execution_count": 15,
   "metadata": {},
   "outputs": [],
   "source": [
    "# Function to calculate the magnitude m_B\n",
    "\n",
    "def magnitude(z, z_hel, H0, q0, j0, M_B=-19.258):\n",
    "    lum_dist = lum_distance_total(z, z_hel, H0, q0, j0)\n",
    "    m_B = 5 * np.log10(lum_dist) + 25 + M_B\n",
    "    return m_B"
   ]
  },
  {
   "cell_type": "markdown",
   "metadata": {},
   "source": [
    "### Chi-square $\\chi^2$ statistic\n",
    "\n",
    "\n",
    "The $\\chi^2$ function defined as\n",
    "\n",
    "$$\n",
    "\\chi^2_{sne}(H_0,q_0,j_0)=\\left[\\mu_{i,data}-\\mu_{model}(z_i)\\right]\\Sigma^{-1}_{sne,ij}\\left[\\mu_{j,data}-\\mu_{model}(z_j)\\right],\n",
    "$$\n",
    "\n",
    "where $\\mu_{i,data}$ and $\\mu_{model}(z_i)$ are the _observed_ and _predicted_ distance moduli at the redshift $z_i$, respectively; $\\Sigma^{-1}_{sne,ij}$ is the supernova covariance matrix from the Pantheon+ SH0ES collaboration (considering both statistical and systematic errors). First, we explore the covariance matrix.\n"
   ]
  },
  {
   "cell_type": "markdown",
   "metadata": {},
   "source": [
    "#### Covariance matrix\n",
    "\n",
    "The format of the covariance (.cov) file is NxN lines, where the first line gives the number of rows/columns in the matrix ($N=1701$). We are interested in the Statistical+Systematic covariance matrix `STAT+SYS`, it includes all the covariance between SNe (and also Cepheid host covariance) due to systematic uncertainties. Let's import the matrix and transform it into a Numpy array format."
   ]
  },
  {
   "cell_type": "code",
   "execution_count": 17,
   "metadata": {},
   "outputs": [],
   "source": [
    "# Load the covariant matrix\n",
    "\n",
    "path = \"/home/olesya/Документы/A_Rabota/Rabota/Cosmological Tensions/Data/Pantheon+SH0ES_STAT+SYS.cov\"\n",
    "cov_matrix = np.loadtxt(path)\n",
    "n_sne = int(cov_matrix[0])\n",
    "cov_matrix = cov_matrix[1:].reshape((n_sne, n_sne))"
   ]
  },
  {
   "cell_type": "code",
   "execution_count": 18,
   "metadata": {},
   "outputs": [
    {
     "data": {
      "text/plain": [
       "(1701, 1701)"
      ]
     },
     "execution_count": 18,
     "metadata": {},
     "output_type": "execute_result"
    }
   ],
   "source": [
    "cov_matrix.shape"
   ]
  },
  {
   "cell_type": "code",
   "execution_count": 19,
   "metadata": {},
   "outputs": [
    {
     "data": {
      "text/plain": [
       "(492, 492)"
      ]
     },
     "execution_count": 19,
     "metadata": {},
     "output_type": "execute_result"
    }
   ],
   "source": [
    "# Get the indices of z_values in the original dataframe\n",
    "selected_indices = df[(df['zCMB'] > 0.023) & (df['zCMB'] < 0.15)].index\n",
    "\n",
    "# Select the corresponding rows and columns from the covariance matrix\n",
    "cov_matrix_selected = cov_matrix[selected_indices][:, selected_indices]\n",
    "\n",
    "# Verify the shape of the selected covariance matrix\n",
    "cov_matrix_selected.shape"
   ]
  },
  {
   "cell_type": "markdown",
   "metadata": {},
   "source": [
    "## Likelihood\n",
    "\n",
    "We define the likelihood $\\mathcal{L}_{sne}$ using the $\\chi^2$ :\n",
    "\n",
    "$$\n",
    "\\mathcal{L}_{sne}(H_0,q_0,j_0)=\\mathcal{N}e^{-\\frac{1}{2}\\chi^{2}},\n",
    "$$\n",
    "\n",
    "where $\\mathcal{N}=|2\\pi\\Sigma_{sne}|^{-\\frac{1}{2}}$ is a normalization constant. The likelihood represents the probability of having a dataset given a cosmological model. We are interested in the contrary, i.e.\n",
    "in the probability of having a certain cosmological model given a dataset. This is called **posterior probability**. \n",
    "\n",
    "Let's compute the Gaussian log-likelihood for the _observed_ and _predicted_ apparent magnitude at the redshifts $z_i$ e $z_{hel}$. For now, we omit the normalization constant."
   ]
  },
  {
   "cell_type": "code",
   "execution_count": 20,
   "metadata": {},
   "outputs": [],
   "source": [
    "# Calculate the inverse of the covariance matrix  \n",
    "\n",
    "cov_inv = np.linalg.inv(cov_matrix_selected)"
   ]
  },
  {
   "cell_type": "code",
   "execution_count": 21,
   "metadata": {},
   "outputs": [],
   "source": [
    "# Function to compute the logarithm of the likelihood\n",
    "# Input: vector of parameters H0, parameters q_0 and j_0\n",
    "# Output: the value of the likelihood at the specified parameter values\n",
    "\n",
    "def log_likelihood(parameters):\n",
    "    M_B, H0, q0, j0 = parameters\n",
    "    m_modelo = magnitude(z_values, z_hel, H0, q0, j0) #Calculate model magnitudes for observed data\n",
    "    diff = m_data - m_modelo #residuals\n",
    "    diff = np.array(diff)\n",
    "    log_likelihood_values = -0.5 * np.dot(diff, np.dot(diff, cov_inv))\n",
    "    \n",
    "    return log_likelihood_values"
   ]
  },
  {
   "cell_type": "code",
   "execution_count": 22,
   "metadata": {},
   "outputs": [
    {
     "data": {
      "text/plain": [
       "-228.5486782995299"
      ]
     },
     "execution_count": 22,
     "metadata": {},
     "output_type": "execute_result"
    }
   ],
   "source": [
    "# Check the function\n",
    "\n",
    "parameters = [-19.3,73,-0.55,1]\n",
    "log_likelihood(parameters)"
   ]
  },
  {
   "cell_type": "code",
   "execution_count": 23,
   "metadata": {},
   "outputs": [],
   "source": [
    "# Fix the parameters q_0, j_0, H_0\n",
    "\n",
    "q0_fix = -0.55\n",
    "j0_fix = 1.\n",
    "\n",
    "H0_range = np.linspace(65,85,25)\n",
    "#log_likelihood = np.vectorize(log_likelihood)"
   ]
  },
  {
   "cell_type": "markdown",
   "metadata": {},
   "source": [
    "### Posterior probability \n",
    "\n",
    "In this section we will sample the posterior probability using the algorithm EMCEE to implement the Markov Chain Monte Carlo (MCMC) method. MCMC is a method for fitting models to data. \n",
    "\n",
    "According to Bayes Theorem, the posterior probability is given by\n",
    "\n",
    "$$ \n",
    "P(\\theta|d) = \\frac{P(d|\\theta)P(\\theta)}{P(d)}, \n",
    "$$\n",
    "\n",
    "where:\n",
    "- $\\theta$ is the cosmological parameters and  $d$ is the observed data, or samples. \n",
    "- $P(\\theta|d)$ is the posterior probability for $\\theta$, and it represents our degree of belief about the value of $\\theta$ after we have seen the data $d$. \n",
    "- $P(d|\\theta)=\\mathcal{L}(\\theta)$ is the likelihood function we already encountered. It is the probability of the data given a certain value of the parameters.\n",
    "- $P(\\theta)$ is the prior probability distribution. It represents our degree of belief in the value of $\\theta$ before we see the data (hence the name).\n",
    "- $P(d)$ is a normalizing constant, or the evidence, it ensures that the posterior is normalized to unity:$$ P(d)=\\int d \\theta P(d|\\theta)P(\\theta).$$\n",
    "\n",
    "\n",
    "In our case, the posterior probability for $H_0$, $q_0$ and $j_0$ is given by\n",
    "$$ \n",
    "P(H_0,q_0,j_0|SN) = \\frac{P(H_0)P(q_0)P(j_0)\\mathcal{L}((H_0,q_0,j_0))}{\\mathcal{E}}, \n",
    "$$\n",
    "\n",
    "where $\\mathcal{E}$ is the evidence.\n",
    "\n",
    "From now on, we use logarithm of probabilities to compute the log of posterior probability.\n",
    "\n",
    "The log-prior probability is assumed to be zero if all the parameters are within their bounds and $-\\infty$ if any of the parameters are outside their bounds."
   ]
  },
  {
   "cell_type": "code",
   "execution_count": 76,
   "metadata": {},
   "outputs": [],
   "source": [
    "# Compute the logarithm of the prior probability\n",
    "# Input: H0 vector of parameters, parameters q_0 and j_0\n",
    "# Output: the value of the prior at the specified parameter values\n",
    "\n",
    "def log_uniprior(parameters):\n",
    "    M_B, H0, q0, j0 = parameters\n",
    "    if (65 < H0 < 85) and (-5 < q0 < 5) and (-80 < j0 < 80):\n",
    "        return 0.0\n",
    "    return -np.infty"
   ]
  },
  {
   "cell_type": "code",
   "execution_count": 77,
   "metadata": {},
   "outputs": [
    {
     "data": {
      "text/plain": [
       "0.0"
      ]
     },
     "execution_count": 77,
     "metadata": {},
     "output_type": "execute_result"
    }
   ],
   "source": [
    "parameters = [-19.3,73,-0.55,1]\n",
    "log_uniprior(parameters)"
   ]
  },
  {
   "cell_type": "code",
   "execution_count": 78,
   "metadata": {},
   "outputs": [],
   "source": [
    "# Compute log_normal prior\n",
    "# Input: H0 vector of parameters, parameters q_0 and j_0\n",
    "# Output: the value of the posterior at the specified parameter values\n",
    "\n",
    "def log_normal(parameters):\n",
    "    M_B, H0, q0, j0 = parameters\n",
    "    mu = -19.258    #mean value\n",
    "    sigma = 0.032   #standard deviation\n",
    "    log_prior = -0.5 * ((M_B - mu) / sigma)**2 \n",
    "    return log_prior "
   ]
  },
  {
   "cell_type": "code",
   "execution_count": 79,
   "metadata": {},
   "outputs": [
    {
     "data": {
      "text/plain": [
       "-0.38281249999996425"
      ]
     },
     "execution_count": 79,
     "metadata": {},
     "output_type": "execute_result"
    }
   ],
   "source": [
    "parameters = [-19.23,73,-0.55,1]\n",
    "log_normal(parameters)"
   ]
  },
  {
   "cell_type": "markdown",
   "metadata": {},
   "source": [
    "The posterior distribution combines the uniprior, gaussian prior and the likelihood. It outputs negative infinity if the parameters lie outside the range of the prior."
   ]
  },
  {
   "cell_type": "code",
   "execution_count": 80,
   "metadata": {},
   "outputs": [],
   "source": [
    "# Compute log_posterior \n",
    "# Input: vector of parameters H0, parameters q_0 and j_0\n",
    "# Output: the value of the posterior at the specified parameter values\n",
    "\n",
    "def log_posterior(parameters):\n",
    "    M_B, H0, q0, j0 = parameters\n",
    "    lu = log_uniprior(parameters)\n",
    "    normal = log_normal(parameters)\n",
    "    if not (np.isfinite(lu) and np.isfinite(normal)):\n",
    "        return -np.inf\n",
    "    return log_likelihood(parameters) + lu + normal"
   ]
  },
  {
   "cell_type": "code",
   "execution_count": 81,
   "metadata": {},
   "outputs": [
    {
     "data": {
      "text/plain": [
       "-229.41000642452997"
      ]
     },
     "execution_count": 81,
     "metadata": {},
     "output_type": "execute_result"
    }
   ],
   "source": [
    "parameters = [-19.3,73,-0.55,1]\n",
    "log_posterior(parameters)"
   ]
  },
  {
   "cell_type": "markdown",
   "metadata": {},
   "source": [
    "The purpose of a Markov chain Monte Carlo algorithm is to construct a sequence of points (or “samples”) in parameter space (called “a chain”). The crucial property of the chain is that the density of samples is proportional to the posterior pdf. This allows to construct a map of the posterior distribution.\n",
    "\n",
    "To sample the posterior we use `emcee`, an open-source sampler for MCMC, and for analyzing the chains we use `getdist`. `emcee` requires a function that returns the log-posterior probability.\n",
    "\n",
    "First, we define two key variables: `ndim` and `nwalkers`. The `nwalkers` variable is the number of \"walkers\" (different Markov Chains that run in parallel). "
   ]
  },
  {
   "cell_type": "code",
   "execution_count": 82,
   "metadata": {},
   "outputs": [
    {
     "name": "stderr",
     "output_type": "stream",
     "text": [
      "100%|██████████| 20000/20000 [02:45<00:00, 120.59it/s]"
     ]
    },
    {
     "name": "stdout",
     "output_type": "stream",
     "text": [
      "Samples shape: (20000, 10, 4)\n"
     ]
    },
    {
     "name": "stderr",
     "output_type": "stream",
     "text": [
      "\n"
     ]
    }
   ],
   "source": [
    "# Set initial parameters\n",
    "initial_parameters = [-19.3, 73.04, q0_fix, j0_fix]  \n",
    "\n",
    "nwalkers = 10\n",
    "nsteps = 20000\n",
    "\n",
    "# Generate initial values for each walker\n",
    "initial_positions = [initial_parameters + 1e-4*np.random.randn(4) for _ in range(nwalkers)]\n",
    "\n",
    "# Initialize the sampler\n",
    "sampler = emcee.EnsembleSampler(nwalkers, len(initial_parameters), log_posterior)\n",
    "sampler.run_mcmc(initial_positions, nsteps, progress=True)\n",
    "\n",
    "# Get Markov chains\n",
    "samples = sampler.get_chain()\n",
    "\n",
    "# Print the results\n",
    "print(\"Samples shape:\", samples.shape)\n"
   ]
  },
  {
   "cell_type": "markdown",
   "metadata": {},
   "source": [
    "The walkers start in small distributions around the maximum likelihood values and then they quickly wander and start exploring the full posterior distribution. In fact, after fewer than 50 steps, the samples seem pretty well “burnt-in”. That is a hard statement to make quantitatively, but we can look at an estimate of the integrated autocorrelation time:"
   ]
  },
  {
   "cell_type": "code",
   "execution_count": 83,
   "metadata": {},
   "outputs": [
    {
     "name": "stdout",
     "output_type": "stream",
     "text": [
      "[ 56.48977701 112.33913917 122.33908097 122.60099659]\n"
     ]
    }
   ],
   "source": [
    "tau = sampler.get_autocorr_time()\n",
    "print(tau)"
   ]
  },
  {
   "cell_type": "markdown",
   "metadata": {},
   "source": [
    "This suggests that about 60-? steps are needed for the chain to “forget” where it started?"
   ]
  },
  {
   "cell_type": "markdown",
   "metadata": {},
   "source": [
    "## Results"
   ]
  },
  {
   "cell_type": "markdown",
   "metadata": {},
   "source": [
    "Now we have the list of samples, let’s make a corner plot. "
   ]
  },
  {
   "cell_type": "code",
   "execution_count": 84,
   "metadata": {},
   "outputs": [
    {
     "name": "stdout",
     "output_type": "stream",
     "text": [
      "Removed no burn in\n"
     ]
    },
    {
     "data": {
      "image/png": "[encoded data removed]",
      "text/plain": [
       "<Figure size 800x800 with 10 Axes>"
      ]
     },
     "metadata": {},
     "output_type": "display_data"
    }
   ],
   "source": [
    "# Get the samples\n",
    "samples = sampler.get_chain(discard=2000, thin=30, flat=True) \n",
    "\n",
    "# Set labels for parameters\n",
    "param_names = ['M_B', 'H_0', 'q_0', 'j_0']\n",
    "\n",
    "# Create an MCSamples object with the samples\n",
    "mcsamples = getdist.MCSamples(samples=samples, names=param_names, labels=param_names)\n",
    "\n",
    "# Plot the triplot\n",
    "g = plots.get_subplot_plotter()\n",
    "g.settings.figure_legend_frame = False\n",
    "g.settings.alpha_filled_add=0.4\n",
    "g.settings.title_limit_fontsize = 12\n",
    "g.triangle_plot(mcsamples, filled=True, line_args=[{'lw':2, 'color':'darkblue'}], \n",
    "                contour_colors=['darkblue'], title_limit=1)\n",
    "\n",
    "g.set_axes(labelLines = param_names)\n",
    "\n",
    "plt.show()\n",
    "g.export('triplot_j0_60.png')"
   ]
  },
  {
   "cell_type": "markdown",
   "metadata": {},
   "source": [
    "The corner plot shows all the one and two dimensional projections of the posterior probability distributions of the parameters. And it demonstrates all of the covariances between parameters. "
   ]
  },
  {
   "cell_type": "markdown",
   "metadata": {},
   "source": [
    "The uncertainties based on the 16th, 50th, and 84th percentiles of the samples in the marginalized distributions: "
   ]
  },
  {
   "cell_type": "code",
   "execution_count": 87,
   "metadata": {},
   "outputs": [
    {
     "data": {
      "text/latex": [
       "$\\displaystyle \\mathrm{M_B} = -19.206_{-0.037}^{0.035}$"
      ],
      "text/plain": [
       "<IPython.core.display.Math object>"
      ]
     },
     "metadata": {},
     "output_type": "display_data"
    },
    {
     "data": {
      "text/latex": [
       "$\\displaystyle \\mathrm{H_0} = 73.996_{-1.215}^{1.063}$"
      ],
      "text/plain": [
       "<IPython.core.display.Math object>"
      ]
     },
     "metadata": {},
     "output_type": "display_data"
    },
    {
     "data": {
      "text/latex": [
       "$\\displaystyle \\mathrm{q_0} = 1.181_{-1.071}^{0.852}$"
      ],
      "text/plain": [
       "<IPython.core.display.Math object>"
      ]
     },
     "metadata": {},
     "output_type": "display_data"
    },
    {
     "data": {
      "text/latex": [
       "$\\displaystyle \\mathrm{j_0} = 35.465_{-26.849}^{31.075}$"
      ],
      "text/plain": [
       "<IPython.core.display.Math object>"
      ]
     },
     "metadata": {},
     "output_type": "display_data"
    }
   ],
   "source": [
    "from IPython.display import display, Math\n",
    "\n",
    "labels=param_names\n",
    "\n",
    "for i in range(4):\n",
    "    mcmc = np.percentile(samples[:, i], [68, 95, 99.7])\n",
    "    q = np.diff(mcmc)\n",
    "    txt = \"\\mathrm{{{3}}} = {0:.3f}_{{-{1:.3f}}}^{{{2:.3f}}}\"\n",
    "    txt = txt.format(mcmc[1], q[0], q[1], labels[i])\n",
    "    display(Math(txt))"
   ]
  },
  {
   "cell_type": "markdown",
   "metadata": {},
   "source": [
    "## Autocorrelation analysis and convergence"
   ]
  },
  {
   "cell_type": "code",
   "execution_count": 86,
   "metadata": {},
   "outputs": [
    {
     "data": {
      "image/png": "[encoded data removed]",
      "text/plain": [
       "<Figure size 640x480 with 1 Axes>"
      ]
     },
     "metadata": {},
     "output_type": "display_data"
    }
   ],
   "source": [
    "# Marginalized density in the first dimension\n",
    "\n",
    "chain = sampler.get_chain()[:, :, 0].T\n",
    "\n",
    "plt.hist(chain.flatten(), 100)\n",
    "plt.gca().set_yticks([])\n",
    "plt.xlabel(r\"$\\theta$\")\n",
    "plt.ylabel(r\"$p(\\theta)$\");"
   ]
  },
  {
   "cell_type": "code",
   "execution_count": 61,
   "metadata": {},
   "outputs": [],
   "source": [
    "def next_pow_two(n):\n",
    "    i = 1\n",
    "    while i < n:\n",
    "        i = i << 1\n",
    "    return i"
   ]
  },
  {
   "cell_type": "code",
   "execution_count": 62,
   "metadata": {},
   "outputs": [],
   "source": [
    "def autocorr_func_1d(x, norm=True):\n",
    "    x = np.atleast_1d(x)\n",
    "    if len(x.shape) != 1:\n",
    "        raise ValueError(\"invalid dimensions for 1D autocorrelation function\")\n",
    "    n = next_pow_two(len(x))\n",
    "    \n",
    "    # Compute the FFT and then (from that) the auto-correlation function\n",
    "    f = np.fft.fft(x - np.mean(x), n=2 * n)\n",
    "    acf = np.fft.ifft(f * np.conjugate(f))[: len(x)].real\n",
    "    acf /= 4 * n\n",
    "\n",
    "    # Optionally normalize\n",
    "    if norm:\n",
    "        acf /= acf[0]\n",
    "\n",
    "    return acf"
   ]
  },
  {
   "cell_type": "code",
   "execution_count": 63,
   "metadata": {},
   "outputs": [],
   "source": [
    "# Automated windowing procedure following Sokal (1989)\n",
    "\n",
    "def auto_window(taus, c):\n",
    "    m = np.arange(len(taus)) < c * taus\n",
    "    if np.any(m):\n",
    "        return np.argmin(m)\n",
    "    return len(taus) - 1"
   ]
  },
  {
   "cell_type": "code",
   "execution_count": 64,
   "metadata": {},
   "outputs": [],
   "source": [
    "# Following the suggestion from Goodman & Weare (2010)\n",
    "\n",
    "def autocorr_gw2010(y, c=5):\n",
    "    f = autocorr_func_1d(np.mean(y, axis=0))\n",
    "    taus = 2 * np.cumsum(f) - 1\n",
    "    window = auto_window(taus, c)\n",
    "    return taus[window]"
   ]
  },
  {
   "cell_type": "code",
   "execution_count": 65,
   "metadata": {},
   "outputs": [],
   "source": [
    "def autocorr_new(y, c=5.0):\n",
    "    f = np.zeros(y.shape[1])\n",
    "    for yy in y:\n",
    "        f += autocorr_func_1d(yy)\n",
    "    f /= len(y)\n",
    "    taus = 2 * np.cumsum(f) - 1\n",
    "    window = auto_window(taus, c)\n",
    "    return taus[window]"
   ]
  },
  {
   "cell_type": "code",
   "execution_count": 66,
   "metadata": {},
   "outputs": [],
   "source": [
    "# Compute the estimators for a few different chain lengths\n",
    "\n",
    "N = np.exp(np.linspace(np.log(100), np.log(chain.shape[1]), 10)).astype(int)\n",
    "gw2010 = np.empty(len(N))\n",
    "new = np.empty(len(N))\n",
    "for i, n in enumerate(N):\n",
    "    gw2010[i] = autocorr_gw2010(chain[:, :n])\n",
    "    new[i] = autocorr_new(chain[:, :n])"
   ]
  },
  {
   "cell_type": "code",
   "execution_count": 67,
   "metadata": {},
   "outputs": [
    {
     "data": {
      "image/png": "[encoded data removed]",
      "text/plain": [
       "<Figure size 640x480 with 1 Axes>"
      ]
     },
     "metadata": {},
     "output_type": "display_data"
    }
   ],
   "source": [
    "# Plot the comparisons\n",
    "\n",
    "plt.loglog(N, gw2010, \"o-\", label=\"G&W 2010\")\n",
    "plt.loglog(N, new, \"o-\", label=\"new\")\n",
    "ylim = plt.gca().get_ylim()\n",
    "plt.plot(N, N / 50.0, \"--k\", label=r\"$\\tau = N/50$\")\n",
    "#plt.axhline(true_tau, color=\"k\", label=\"truth\", zorder=-100)\n",
    "plt.ylim(ylim)\n",
    "plt.xlabel(\"number of samples, $N$\")\n",
    "plt.ylabel(r\"$\\tau$ estimates\")\n",
    "plt.legend(fontsize=14);"
   ]
  },
  {
   "cell_type": "markdown",
   "metadata": {},
   "source": []
  },
  {
   "cell_type": "markdown",
   "metadata": {},
   "source": [
    "## References\n",
    "\n",
    "[1] D. Scolnic, D. Brout, A. Carr, A. G. Riess, T. M. Davis, A. Dwomoh, D. O. Jones, N. Ali, P. Charvu and R. Chen, et al. _The Pantheon+ Analysis: The Full Data Set and Light-curve Release_, Astrophys. J. 938 (2022).\n",
    "\n",
    "[1] David Camarena and Valerio Marra, _Local determination of the Hubble constant and the deceleration parameter_, Phys. Rev. Research 2, 013028 (2020).\n",
    "\n",
    "\n",
    "[2] Oliver Piattella, _Lecture Notes in Cosmology_, Springer Cham (2018). \n",
    "\n",
    "\n",
    "[3] D. Foreman-Mackey, D. W. Hogg, D. Lang, and J. Goodman, _emcee: The MCMC Hammer_, Publ. Astron. Soc. Pac. 125 (2013) 306–312, https://arxiv.org/abs/1202.3665\n",
    "\n",
    "\n",
    "[4] A. Lewis, _GetDist: a Python package for analysing Monte Carlo samples_, arXiv:1910.13970, https://getdist.readthedocs.io."
   ]
  },
  {
   "cell_type": "code",
   "execution_count": null,
   "metadata": {},
   "outputs": [],
   "source": []
  }
 ],
 "metadata": {
  "kernelspec": {
   "display_name": "Python 3",
   "language": "python",
   "name": "python3"
  },
  "language_info": {
   "codemirror_mode": {
    "name": "ipython",
    "version": 3
   },
   "file_extension": ".py",
   "mimetype": "text/x-python",
   "name": "python",
   "nbconvert_exporter": "python",
   "pygments_lexer": "ipython3",
   "version": "3.8.5"
  }
 },
 "nbformat": 4,
 "nbformat_minor": 4
}
