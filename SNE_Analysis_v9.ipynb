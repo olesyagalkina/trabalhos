{
 "cells": [
  {
   "cell_type": "markdown",
   "metadata": {},
   "source": [
    "# Markov chain Monte Carlo–based Bayesian data analysis for type Ia Supernovae \n",
    "\n",
    "Author: Olesya Galkina"
   ]
  },
  {
   "cell_type": "markdown",
   "metadata": {},
   "source": [
    "Markov chain Monte Carlo (MCMC) and Bayesian statistics are two independent disciplines, the former being a method to sample from a distribution while the latter is a theory to interpret observed data.\n",
    "\n",
    "O que é H_0\n",
    "\n",
    "O que é Hubble tension ou Crise cosmológica. \n",
    "In recent years, the tension between different measurements of H_0 has garnered significant attention. While the Planck satellite mission, which analyzed the CMB, reported a value of H_0 around 67 km/s/Mpc, independent measurements using the local distance ladder technique, such as the SH0ES collaboration, have consistently obtained higher values, closer to 73 km/s/Mpc. This discrepancy, significant at the 5σ level and often referred to as the “Hubble tension,” has led to considerable interest in exploring cosmological models that can reconcile these conflicting results."
   ]
  },
  {
   "cell_type": "code",
   "execution_count": 1,
   "metadata": {},
   "outputs": [],
   "source": [
    "import pandas as pd\n",
    "import numpy as np\n",
    "import math\n",
    "\n",
    "# For data visualization\n",
    "import matplotlib.pyplot as plt\n",
    "import seaborn as sns\n",
    "%matplotlib inline\n",
    "\n",
    "from scipy import constants\n",
    "\n",
    "# For analysing Monte Carlo samples\n",
    "import emcee\n",
    "from emcee import EnsembleSampler\n",
    "\n",
    "# For plotting Monte Carlo samples\n",
    "import getdist\n",
    "from getdist import plots"
   ]
  },
  {
   "cell_type": "markdown",
   "metadata": {},
   "source": [
    "In this work we use the latest data from the Pantheon+SH0ES collaboration that provides $1701$ light curve measurements of $1550$ Supernova objects. The data set is available [here](https://github.com/PantheonPlusSH0ES/DataRelease/tree/main)."
   ]
  },
  {
   "cell_type": "code",
   "execution_count": 2,
   "metadata": {},
   "outputs": [
    {
     "data": {
      "text/plain": [
       "(1701, 47)"
      ]
     },
     "execution_count": 2,
     "metadata": {},
     "output_type": "execute_result"
    }
   ],
   "source": [
    "# Load the data\n",
    "\n",
    "file_path = \"/home/olesya/Документы/A_Rabota/Rabota/Cosmological Tensions/Data/Pantheon+SH0ES.dat\"\n",
    "df = pd.read_csv(file_path, delimiter='\\s+')\n",
    "\n",
    "df.shape"
   ]
  },
  {
   "cell_type": "code",
   "execution_count": 3,
   "metadata": {},
   "outputs": [
    {
     "data": {
      "text/html": [
       "<div>\n",
       "<style scoped>\n",
       "    .dataframe tbody tr th:only-of-type {\n",
       "        vertical-align: middle;\n",
       "    }\n",
       "\n",
       "    .dataframe tbody tr th {\n",
       "        vertical-align: top;\n",
       "    }\n",
       "\n",
       "    .dataframe thead th {\n",
       "        text-align: right;\n",
       "    }\n",
       "</style>\n",
       "<table border=\"1\" class=\"dataframe\">\n",
       "  <thead>\n",
       "    <tr style=\"text-align: right;\">\n",
       "      <th></th>\n",
       "      <th>CID</th>\n",
       "      <th>IDSURVEY</th>\n",
       "      <th>zHD</th>\n",
       "      <th>zHDERR</th>\n",
       "      <th>zCMB</th>\n",
       "      <th>zCMBERR</th>\n",
       "      <th>zHEL</th>\n",
       "      <th>zHELERR</th>\n",
       "      <th>m_b_corr</th>\n",
       "      <th>m_b_corr_err_DIAG</th>\n",
       "      <th>...</th>\n",
       "      <th>PKMJDERR</th>\n",
       "      <th>NDOF</th>\n",
       "      <th>FITCHI2</th>\n",
       "      <th>FITPROB</th>\n",
       "      <th>m_b_corr_err_RAW</th>\n",
       "      <th>m_b_corr_err_VPEC</th>\n",
       "      <th>biasCor_m_b</th>\n",
       "      <th>biasCorErr_m_b</th>\n",
       "      <th>biasCor_m_b_COVSCALE</th>\n",
       "      <th>biasCor_m_b_COVADD</th>\n",
       "    </tr>\n",
       "  </thead>\n",
       "  <tbody>\n",
       "    <tr>\n",
       "      <th>0</th>\n",
       "      <td>2011fe</td>\n",
       "      <td>51</td>\n",
       "      <td>0.00122</td>\n",
       "      <td>0.00084</td>\n",
       "      <td>0.00122</td>\n",
       "      <td>0.00002</td>\n",
       "      <td>0.00082</td>\n",
       "      <td>0.00002</td>\n",
       "      <td>9.74571</td>\n",
       "      <td>1.516210</td>\n",
       "      <td>...</td>\n",
       "      <td>0.1071</td>\n",
       "      <td>36</td>\n",
       "      <td>26.8859</td>\n",
       "      <td>0.864470</td>\n",
       "      <td>0.0991</td>\n",
       "      <td>1.4960</td>\n",
       "      <td>0.0381</td>\n",
       "      <td>0.005</td>\n",
       "      <td>1.0</td>\n",
       "      <td>0.003</td>\n",
       "    </tr>\n",
       "    <tr>\n",
       "      <th>1</th>\n",
       "      <td>2011fe</td>\n",
       "      <td>56</td>\n",
       "      <td>0.00122</td>\n",
       "      <td>0.00084</td>\n",
       "      <td>0.00122</td>\n",
       "      <td>0.00002</td>\n",
       "      <td>0.00082</td>\n",
       "      <td>0.00002</td>\n",
       "      <td>9.80286</td>\n",
       "      <td>1.517230</td>\n",
       "      <td>...</td>\n",
       "      <td>0.0579</td>\n",
       "      <td>101</td>\n",
       "      <td>88.3064</td>\n",
       "      <td>0.812220</td>\n",
       "      <td>0.0971</td>\n",
       "      <td>1.4960</td>\n",
       "      <td>-0.0252</td>\n",
       "      <td>0.003</td>\n",
       "      <td>1.0</td>\n",
       "      <td>0.004</td>\n",
       "    </tr>\n",
       "    <tr>\n",
       "      <th>2</th>\n",
       "      <td>2012cg</td>\n",
       "      <td>51</td>\n",
       "      <td>0.00256</td>\n",
       "      <td>0.00084</td>\n",
       "      <td>0.00256</td>\n",
       "      <td>0.00002</td>\n",
       "      <td>0.00144</td>\n",
       "      <td>0.00002</td>\n",
       "      <td>11.47030</td>\n",
       "      <td>0.781906</td>\n",
       "      <td>...</td>\n",
       "      <td>0.0278</td>\n",
       "      <td>165</td>\n",
       "      <td>233.5000</td>\n",
       "      <td>0.000358</td>\n",
       "      <td>0.0399</td>\n",
       "      <td>0.7134</td>\n",
       "      <td>0.0545</td>\n",
       "      <td>0.019</td>\n",
       "      <td>1.0</td>\n",
       "      <td>0.036</td>\n",
       "    </tr>\n",
       "    <tr>\n",
       "      <th>3</th>\n",
       "      <td>2012cg</td>\n",
       "      <td>56</td>\n",
       "      <td>0.00256</td>\n",
       "      <td>0.00084</td>\n",
       "      <td>0.00256</td>\n",
       "      <td>0.00002</td>\n",
       "      <td>0.00144</td>\n",
       "      <td>0.00002</td>\n",
       "      <td>11.49190</td>\n",
       "      <td>0.798612</td>\n",
       "      <td>...</td>\n",
       "      <td>0.0667</td>\n",
       "      <td>55</td>\n",
       "      <td>100.1220</td>\n",
       "      <td>0.000193</td>\n",
       "      <td>0.0931</td>\n",
       "      <td>0.7134</td>\n",
       "      <td>0.0622</td>\n",
       "      <td>0.028</td>\n",
       "      <td>1.0</td>\n",
       "      <td>0.040</td>\n",
       "    </tr>\n",
       "    <tr>\n",
       "      <th>4</th>\n",
       "      <td>1994DRichmond</td>\n",
       "      <td>50</td>\n",
       "      <td>0.00299</td>\n",
       "      <td>0.00084</td>\n",
       "      <td>0.00299</td>\n",
       "      <td>0.00004</td>\n",
       "      <td>0.00187</td>\n",
       "      <td>0.00004</td>\n",
       "      <td>11.52270</td>\n",
       "      <td>0.880798</td>\n",
       "      <td>...</td>\n",
       "      <td>0.0522</td>\n",
       "      <td>146</td>\n",
       "      <td>109.8390</td>\n",
       "      <td>0.988740</td>\n",
       "      <td>0.0567</td>\n",
       "      <td>0.6110</td>\n",
       "      <td>0.0650</td>\n",
       "      <td>0.009</td>\n",
       "      <td>1.0</td>\n",
       "      <td>0.006</td>\n",
       "    </tr>\n",
       "    <tr>\n",
       "      <th>5</th>\n",
       "      <td>1981B</td>\n",
       "      <td>50</td>\n",
       "      <td>0.00317</td>\n",
       "      <td>0.00084</td>\n",
       "      <td>0.00350</td>\n",
       "      <td>0.00001</td>\n",
       "      <td>0.00236</td>\n",
       "      <td>0.00001</td>\n",
       "      <td>11.54160</td>\n",
       "      <td>0.613941</td>\n",
       "      <td>...</td>\n",
       "      <td>0.2973</td>\n",
       "      <td>41</td>\n",
       "      <td>43.2260</td>\n",
       "      <td>0.376420</td>\n",
       "      <td>0.0732</td>\n",
       "      <td>0.5763</td>\n",
       "      <td>0.0206</td>\n",
       "      <td>0.007</td>\n",
       "      <td>1.0</td>\n",
       "      <td>0.013</td>\n",
       "    </tr>\n",
       "    <tr>\n",
       "      <th>6</th>\n",
       "      <td>2013aa</td>\n",
       "      <td>56</td>\n",
       "      <td>0.00331</td>\n",
       "      <td>0.00085</td>\n",
       "      <td>0.00478</td>\n",
       "      <td>0.00015</td>\n",
       "      <td>0.00411</td>\n",
       "      <td>0.00015</td>\n",
       "      <td>11.20740</td>\n",
       "      <td>0.594070</td>\n",
       "      <td>...</td>\n",
       "      <td>0.1580</td>\n",
       "      <td>31</td>\n",
       "      <td>27.5263</td>\n",
       "      <td>0.645500</td>\n",
       "      <td>0.1104</td>\n",
       "      <td>0.5586</td>\n",
       "      <td>0.0298</td>\n",
       "      <td>0.003</td>\n",
       "      <td>1.0</td>\n",
       "      <td>0.003</td>\n",
       "    </tr>\n",
       "    <tr>\n",
       "      <th>7</th>\n",
       "      <td>2013aa</td>\n",
       "      <td>5</td>\n",
       "      <td>0.00331</td>\n",
       "      <td>0.00085</td>\n",
       "      <td>0.00478</td>\n",
       "      <td>0.00015</td>\n",
       "      <td>0.00411</td>\n",
       "      <td>0.00015</td>\n",
       "      <td>11.29980</td>\n",
       "      <td>0.579622</td>\n",
       "      <td>...</td>\n",
       "      <td>0.1190</td>\n",
       "      <td>56</td>\n",
       "      <td>35.0505</td>\n",
       "      <td>0.987280</td>\n",
       "      <td>0.0620</td>\n",
       "      <td>0.5586</td>\n",
       "      <td>0.0727</td>\n",
       "      <td>0.007</td>\n",
       "      <td>1.0</td>\n",
       "      <td>0.003</td>\n",
       "    </tr>\n",
       "    <tr>\n",
       "      <th>8</th>\n",
       "      <td>2017cbv</td>\n",
       "      <td>5</td>\n",
       "      <td>0.00331</td>\n",
       "      <td>0.00085</td>\n",
       "      <td>0.00478</td>\n",
       "      <td>0.00015</td>\n",
       "      <td>0.00411</td>\n",
       "      <td>0.00015</td>\n",
       "      <td>11.14830</td>\n",
       "      <td>0.577815</td>\n",
       "      <td>...</td>\n",
       "      <td>0.0381</td>\n",
       "      <td>94</td>\n",
       "      <td>69.7345</td>\n",
       "      <td>0.971300</td>\n",
       "      <td>0.0580</td>\n",
       "      <td>0.5586</td>\n",
       "      <td>0.0516</td>\n",
       "      <td>0.004</td>\n",
       "      <td>1.0</td>\n",
       "      <td>0.003</td>\n",
       "    </tr>\n",
       "    <tr>\n",
       "      <th>9</th>\n",
       "      <td>2017cbv</td>\n",
       "      <td>18</td>\n",
       "      <td>0.00331</td>\n",
       "      <td>0.00085</td>\n",
       "      <td>0.00478</td>\n",
       "      <td>0.00015</td>\n",
       "      <td>0.00411</td>\n",
       "      <td>0.00015</td>\n",
       "      <td>11.25770</td>\n",
       "      <td>0.577916</td>\n",
       "      <td>...</td>\n",
       "      <td>0.0500</td>\n",
       "      <td>92</td>\n",
       "      <td>45.1690</td>\n",
       "      <td>0.999990</td>\n",
       "      <td>0.0607</td>\n",
       "      <td>0.5586</td>\n",
       "      <td>0.0216</td>\n",
       "      <td>0.003</td>\n",
       "      <td>1.0</td>\n",
       "      <td>0.003</td>\n",
       "    </tr>\n",
       "  </tbody>\n",
       "</table>\n",
       "<p>10 rows × 47 columns</p>\n",
       "</div>"
      ],
      "text/plain": [
       "             CID  IDSURVEY      zHD   zHDERR     zCMB  zCMBERR     zHEL  \\\n",
       "0         2011fe        51  0.00122  0.00084  0.00122  0.00002  0.00082   \n",
       "1         2011fe        56  0.00122  0.00084  0.00122  0.00002  0.00082   \n",
       "2         2012cg        51  0.00256  0.00084  0.00256  0.00002  0.00144   \n",
       "3         2012cg        56  0.00256  0.00084  0.00256  0.00002  0.00144   \n",
       "4  1994DRichmond        50  0.00299  0.00084  0.00299  0.00004  0.00187   \n",
       "5          1981B        50  0.00317  0.00084  0.00350  0.00001  0.00236   \n",
       "6         2013aa        56  0.00331  0.00085  0.00478  0.00015  0.00411   \n",
       "7         2013aa         5  0.00331  0.00085  0.00478  0.00015  0.00411   \n",
       "8        2017cbv         5  0.00331  0.00085  0.00478  0.00015  0.00411   \n",
       "9        2017cbv        18  0.00331  0.00085  0.00478  0.00015  0.00411   \n",
       "\n",
       "   zHELERR  m_b_corr  m_b_corr_err_DIAG  ...  PKMJDERR  NDOF   FITCHI2  \\\n",
       "0  0.00002   9.74571           1.516210  ...    0.1071    36   26.8859   \n",
       "1  0.00002   9.80286           1.517230  ...    0.0579   101   88.3064   \n",
       "2  0.00002  11.47030           0.781906  ...    0.0278   165  233.5000   \n",
       "3  0.00002  11.49190           0.798612  ...    0.0667    55  100.1220   \n",
       "4  0.00004  11.52270           0.880798  ...    0.0522   146  109.8390   \n",
       "5  0.00001  11.54160           0.613941  ...    0.2973    41   43.2260   \n",
       "6  0.00015  11.20740           0.594070  ...    0.1580    31   27.5263   \n",
       "7  0.00015  11.29980           0.579622  ...    0.1190    56   35.0505   \n",
       "8  0.00015  11.14830           0.577815  ...    0.0381    94   69.7345   \n",
       "9  0.00015  11.25770           0.577916  ...    0.0500    92   45.1690   \n",
       "\n",
       "    FITPROB  m_b_corr_err_RAW  m_b_corr_err_VPEC  biasCor_m_b  biasCorErr_m_b  \\\n",
       "0  0.864470            0.0991             1.4960       0.0381           0.005   \n",
       "1  0.812220            0.0971             1.4960      -0.0252           0.003   \n",
       "2  0.000358            0.0399             0.7134       0.0545           0.019   \n",
       "3  0.000193            0.0931             0.7134       0.0622           0.028   \n",
       "4  0.988740            0.0567             0.6110       0.0650           0.009   \n",
       "5  0.376420            0.0732             0.5763       0.0206           0.007   \n",
       "6  0.645500            0.1104             0.5586       0.0298           0.003   \n",
       "7  0.987280            0.0620             0.5586       0.0727           0.007   \n",
       "8  0.971300            0.0580             0.5586       0.0516           0.004   \n",
       "9  0.999990            0.0607             0.5586       0.0216           0.003   \n",
       "\n",
       "   biasCor_m_b_COVSCALE  biasCor_m_b_COVADD  \n",
       "0                   1.0               0.003  \n",
       "1                   1.0               0.004  \n",
       "2                   1.0               0.036  \n",
       "3                   1.0               0.040  \n",
       "4                   1.0               0.006  \n",
       "5                   1.0               0.013  \n",
       "6                   1.0               0.003  \n",
       "7                   1.0               0.003  \n",
       "8                   1.0               0.003  \n",
       "9                   1.0               0.003  \n",
       "\n",
       "[10 rows x 47 columns]"
      ]
     },
     "execution_count": 3,
     "metadata": {},
     "output_type": "execute_result"
    }
   ],
   "source": [
    "df.head(10)"
   ]
  },
  {
   "cell_type": "markdown",
   "metadata": {},
   "source": [
    "We are interested in following parameters:\n",
    "\n",
    " - `zHD` Hubble Diagram Redshift $z$ (with CMB and VPEC corrections)  \n",
    " - `zHDERR` Hubble Diagram Redshift Uncertainty\n",
    " - `zHEL` heliocentric redshift $z_{hel}$\n",
    " - `zHELERR` heliocentric redshift uncertainty\n",
    " - `m_b_corr` corrected apparent $m_b$ magnitude.\n",
    " - `m_b_corr_err_DIAG` corrected $m_b$ magnitude uncertainty as determined from the diagonal of the covariance matrix. "
   ]
  },
  {
   "cell_type": "code",
   "execution_count": 4,
   "metadata": {},
   "outputs": [
    {
     "data": {
      "image/png": "[encoded data removed]",
      "text/plain": [
       "<Figure size 800x500 with 1 Axes>"
      ]
     },
     "metadata": {},
     "output_type": "display_data"
    }
   ],
   "source": [
    "# Plot observed CMB corrected redshift vs observed magnitude\n",
    "\n",
    "plt.figure(figsize=(8, 5))\n",
    "plt.scatter(df['zHD'], df['m_b_corr'], alpha=0.5)\n",
    "plt.title('Hubble redshift vs observed magnitude')\n",
    "plt.xlabel('Hubble diagram redshift')\n",
    "plt.ylabel('Magnitude')\n",
    "plt.grid(False)\n",
    "\n",
    "plt.show()"
   ]
  },
  {
   "cell_type": "code",
   "execution_count": 6,
   "metadata": {},
   "outputs": [
    {
     "data": {
      "image/png": "[encoded data removed]",
      "text/plain": [
       "<Figure size 1000x600 with 1 Axes>"
      ]
     },
     "metadata": {},
     "output_type": "display_data"
    }
   ],
   "source": [
    "# Plot with error bars\n",
    "\n",
    "plt.figure(figsize=(10, 6))\n",
    "plt.errorbar(df['zHD'], df['m_b_corr'], xerr=df['zHDERR'], yerr=df['m_b_corr_err_DIAG'], fmt='o', alpha=0.5,\n",
    "             capsize=3, markersize=5)\n",
    "plt.title('Hubble redshift vs observed magnitude with error bars')\n",
    "plt.xlabel('Hubble diagram redshift')\n",
    "plt.ylabel('The observed magnitude')\n",
    "plt.grid(False)\n",
    "\n",
    "plt.show()"
   ]
  },
  {
   "cell_type": "markdown",
   "metadata": {},
   "source": [
    "In our work we are interested in the Hubble constant $H_0$ in the redshift range $0.023<z<0.15$, we select the range and save it as numpy array.\n",
    "EXPLICAR"
   ]
  },
  {
   "cell_type": "code",
   "execution_count": 7,
   "metadata": {},
   "outputs": [
    {
     "name": "stdout",
     "output_type": "stream",
     "text": [
      "The Hubble diagram redshift range is:  0.00122 < z < 2.26137\n"
     ]
    }
   ],
   "source": [
    "# Verify the total range\n",
    "\n",
    "print('The Hubble diagram redshift range is: ', df['zHD'].min(), '< z <', df['zHD'].max())"
   ]
  },
  {
   "cell_type": "code",
   "execution_count": 8,
   "metadata": {},
   "outputs": [
    {
     "data": {
      "text/plain": [
       "(496,)"
      ]
     },
     "execution_count": 8,
     "metadata": {},
     "output_type": "execute_result"
    }
   ],
   "source": [
    "# Assign values in the selected range to 'z-values' using a boolean mask\n",
    "\n",
    "z_values = df.loc[(df['zHD'] > 0.023) & (df['zHD'] < 0.15), 'zHD'].to_numpy()\n",
    "\n",
    "z_values.shape"
   ]
  },
  {
   "cell_type": "markdown",
   "metadata": {},
   "source": [
    "We have $496$ values out of $1701$ in this range."
   ]
  },
  {
   "cell_type": "code",
   "execution_count": 9,
   "metadata": {},
   "outputs": [
    {
     "data": {
      "image/png": "[encoded data removed]",
      "text/plain": [
       "<Figure size 640x480 with 1 Axes>"
      ]
     },
     "metadata": {},
     "output_type": "display_data"
    }
   ],
   "source": [
    "data = df.loc[(df['zHD'] > 0.023) & (df['zHD'] < 0.15), 'zHD']\n",
    "num_bins = 20\n",
    "n, bins, patches = plt.hist(data, num_bins, \n",
    "                            density = 1, \n",
    "                            color ='green',\n",
    "                            alpha = 0.7)\n",
    "plt.show()"
   ]
  },
  {
   "cell_type": "markdown",
   "metadata": {},
   "source": [
    "Let's select others parameters in this range."
   ]
  },
  {
   "cell_type": "code",
   "execution_count": 10,
   "metadata": {},
   "outputs": [],
   "source": [
    "# Selects values from specific columns \n",
    "\n",
    "def select_values_in_range(df, column_name, lower_bound, upper_bound, other_columns):\n",
    "    selected_rows = df.loc[(df[column_name] > lower_bound) & (df[column_name] < upper_bound)]\n",
    "    selected_values = selected_rows[other_columns]\n",
    "    \n",
    "    return selected_values"
   ]
  },
  {
   "cell_type": "code",
   "execution_count": 11,
   "metadata": {},
   "outputs": [],
   "source": [
    "# Define the columns we want to select\n",
    "\n",
    "other_columns = ['zHDERR', 'zHEL', 'zHELERR', 'm_b_corr', 'm_b_corr_err_DIAG']  "
   ]
  },
  {
   "cell_type": "code",
   "execution_count": 12,
   "metadata": {},
   "outputs": [
    {
     "data": {
      "text/html": [
       "<div>\n",
       "<style scoped>\n",
       "    .dataframe tbody tr th:only-of-type {\n",
       "        vertical-align: middle;\n",
       "    }\n",
       "\n",
       "    .dataframe tbody tr th {\n",
       "        vertical-align: top;\n",
       "    }\n",
       "\n",
       "    .dataframe thead th {\n",
       "        text-align: right;\n",
       "    }\n",
       "</style>\n",
       "<table border=\"1\" class=\"dataframe\">\n",
       "  <thead>\n",
       "    <tr style=\"text-align: right;\">\n",
       "      <th></th>\n",
       "      <th>zHDERR</th>\n",
       "      <th>zHEL</th>\n",
       "      <th>zHELERR</th>\n",
       "      <th>m_b_corr</th>\n",
       "      <th>m_b_corr_err_DIAG</th>\n",
       "    </tr>\n",
       "  </thead>\n",
       "  <tbody>\n",
       "    <tr>\n",
       "      <th>330</th>\n",
       "      <td>0.00086</td>\n",
       "      <td>0.02341</td>\n",
       "      <td>0.00009</td>\n",
       "      <td>15.7320</td>\n",
       "      <td>0.188819</td>\n",
       "    </tr>\n",
       "    <tr>\n",
       "      <th>331</th>\n",
       "      <td>0.00086</td>\n",
       "      <td>0.02338</td>\n",
       "      <td>0.00006</td>\n",
       "      <td>15.5136</td>\n",
       "      <td>0.339266</td>\n",
       "    </tr>\n",
       "    <tr>\n",
       "      <th>332</th>\n",
       "      <td>0.00085</td>\n",
       "      <td>0.02233</td>\n",
       "      <td>0.00004</td>\n",
       "      <td>15.7695</td>\n",
       "      <td>0.269874</td>\n",
       "    </tr>\n",
       "    <tr>\n",
       "      <th>333</th>\n",
       "      <td>0.00087</td>\n",
       "      <td>0.02315</td>\n",
       "      <td>0.00015</td>\n",
       "      <td>15.6300</td>\n",
       "      <td>0.273642</td>\n",
       "    </tr>\n",
       "    <tr>\n",
       "      <th>334</th>\n",
       "      <td>0.00085</td>\n",
       "      <td>0.02237</td>\n",
       "      <td>0.00001</td>\n",
       "      <td>15.6638</td>\n",
       "      <td>0.176470</td>\n",
       "    </tr>\n",
       "    <tr>\n",
       "      <th>...</th>\n",
       "      <td>...</td>\n",
       "      <td>...</td>\n",
       "      <td>...</td>\n",
       "      <td>...</td>\n",
       "      <td>...</td>\n",
       "    </tr>\n",
       "    <tr>\n",
       "      <th>821</th>\n",
       "      <td>0.00108</td>\n",
       "      <td>0.14896</td>\n",
       "      <td>0.00050</td>\n",
       "      <td>19.9755</td>\n",
       "      <td>0.183004</td>\n",
       "    </tr>\n",
       "    <tr>\n",
       "      <th>822</th>\n",
       "      <td>0.00096</td>\n",
       "      <td>0.14927</td>\n",
       "      <td>0.00004</td>\n",
       "      <td>19.7852</td>\n",
       "      <td>0.155606</td>\n",
       "    </tr>\n",
       "    <tr>\n",
       "      <th>823</th>\n",
       "      <td>0.00108</td>\n",
       "      <td>0.14915</td>\n",
       "      <td>0.00050</td>\n",
       "      <td>19.7709</td>\n",
       "      <td>0.140105</td>\n",
       "    </tr>\n",
       "    <tr>\n",
       "      <th>824</th>\n",
       "      <td>0.00096</td>\n",
       "      <td>0.15021</td>\n",
       "      <td>0.00002</td>\n",
       "      <td>19.9076</td>\n",
       "      <td>0.172844</td>\n",
       "    </tr>\n",
       "    <tr>\n",
       "      <th>825</th>\n",
       "      <td>0.00509</td>\n",
       "      <td>0.15020</td>\n",
       "      <td>0.00500</td>\n",
       "      <td>19.8574</td>\n",
       "      <td>0.173123</td>\n",
       "    </tr>\n",
       "  </tbody>\n",
       "</table>\n",
       "<p>496 rows × 5 columns</p>\n",
       "</div>"
      ],
      "text/plain": [
       "      zHDERR     zHEL  zHELERR  m_b_corr  m_b_corr_err_DIAG\n",
       "330  0.00086  0.02341  0.00009   15.7320           0.188819\n",
       "331  0.00086  0.02338  0.00006   15.5136           0.339266\n",
       "332  0.00085  0.02233  0.00004   15.7695           0.269874\n",
       "333  0.00087  0.02315  0.00015   15.6300           0.273642\n",
       "334  0.00085  0.02237  0.00001   15.6638           0.176470\n",
       "..       ...      ...      ...       ...                ...\n",
       "821  0.00108  0.14896  0.00050   19.9755           0.183004\n",
       "822  0.00096  0.14927  0.00004   19.7852           0.155606\n",
       "823  0.00108  0.14915  0.00050   19.7709           0.140105\n",
       "824  0.00096  0.15021  0.00002   19.9076           0.172844\n",
       "825  0.00509  0.15020  0.00500   19.8574           0.173123\n",
       "\n",
       "[496 rows x 5 columns]"
      ]
     },
     "execution_count": 12,
     "metadata": {},
     "output_type": "execute_result"
    }
   ],
   "source": [
    "# Call the function\n",
    "\n",
    "selected_values = select_values_in_range(df, 'zHD', 0.023, 0.15, other_columns)\n",
    "selected_values"
   ]
  },
  {
   "cell_type": "markdown",
   "metadata": {},
   "source": [
    "### The luminosity distance\n",
    "\n",
    "The luminosity distance is a very important notion of distance for observation. It is based on the knowledge of the intrinsic luminosity _L_ of a source, which is therefore called _standard candle_. Type Ia supernovae are standard candles, for example.\n",
    "\n",
    "\n",
    "The luminosity distance $d_{L}(z, z_{hel})$ in a flat expanding Friedmann-Lemaitre-Robertson-Walker universe is defined as:\n",
    "$$\n",
    "d_{L}(z, z_{hel})=\\frac{1+z_{hel}}{1+z}d_L(z),\n",
    "$$\n",
    "with\n",
    "\n",
    "$$\n",
    "d_{L}(z)=\\frac{c}{H_0}\\left[z+\\frac{1}{2}(1-q_0)z^2-\\frac{1}{6}(3q_0^2+q_0-j_0-1)(z^3)\\right], \n",
    "$$\n",
    "\n",
    "where $z_{hel}$  is heliocentric redshift, $H_0$ is the Hubble constant, $q_0$ is a deceleration parameter and $j_0$ is a \"jerk parameter\" (third order derivative parameter).\n",
    "\n",
    "Let's calculate the luminosity distance (up to second order) assuming the value of the Hubble constant $H_0$ as measured by the _SH0ES_ collaboration and the following parameters:"
   ]
  },
  {
   "cell_type": "markdown",
   "metadata": {},
   "source": [
    "We use NumPy to perform vectorized operations and avoid using explicit loops."
   ]
  },
  {
   "cell_type": "code",
   "execution_count": 23,
   "metadata": {},
   "outputs": [],
   "source": [
    "# Function to calculate the luminosity distance d_L(z) \n",
    "cc = constants.c/1000.\n",
    "j0 = 1\n",
    "\n",
    "def lum_distance(z,H0,q0):\n",
    "    dL = cc*z*(1+(1-q0)*(z/2)+(3*q0**2+q0-j0-1)*((z**2)/6))/H0\n",
    "    return dL"
   ]
  },
  {
   "cell_type": "code",
   "execution_count": 24,
   "metadata": {},
   "outputs": [],
   "source": [
    "# Transform selected_values['zHEL'] to NumPy array\n",
    "\n",
    "z_hel = selected_values['zHEL'].to_numpy()"
   ]
  },
  {
   "cell_type": "code",
   "execution_count": 25,
   "metadata": {},
   "outputs": [],
   "source": [
    "# Calculate the luminosity distance d_L(z,z_hel)\n",
    "\n",
    "def lum_distance_total(z,z_hel,H0,q0):\n",
    "    dL_total = ((1+z_hel)/(1+z)) * lum_distance(z,H0,q0)\n",
    "    return dL_total"
   ]
  },
  {
   "cell_type": "code",
   "execution_count": 26,
   "metadata": {},
   "outputs": [
    {
     "data": {
      "text/plain": [
       "array([ 96.28843924,  96.45197073,  96.6022792 ,  96.80449491,\n",
       "        96.93842028,  97.19007828,  97.3033862 ,  97.3033862 ,\n",
       "        97.78210935,  97.78210935,  97.78210935,  97.84277971,\n",
       "        97.84277971,  97.97336502,  98.29249788,  98.45544182,\n",
       "        98.58698008,  98.58698008,  98.41945269,  98.81352513,\n",
       "        99.01651882,  99.90483954,  99.87188633,  99.8679815 ,\n",
       "        99.9671592 , 100.50260565, 100.86374068, 100.86374068,\n",
       "       100.7841722 , 101.04919682, 101.04919682, 101.50454643,\n",
       "       101.51635872, 101.62018366, 101.62018366, 101.77811316,\n",
       "       101.69732353, 102.69410204, 102.69410204, 102.69410204,\n",
       "       102.78135015, 102.8998482 , 102.8998482 , 102.8998482 ,\n",
       "       102.94875489, 102.94875489, 103.25642391, 104.29217746,\n",
       "       104.29790601, 105.02200486, 105.16304201, 105.16304201,\n",
       "       105.0851465 , 105.16304201, 105.03915386, 105.2089984 ,\n",
       "       105.27374765, 105.27374765, 105.27374765, 105.37028773,\n",
       "       105.37028773, 105.57596527, 105.61672671, 105.61672671,\n",
       "       106.04790853, 106.10792022, 107.03836684, 106.89207547,\n",
       "       108.16647372, 108.3716205 , 108.79147934, 108.70084736,\n",
       "       108.70084736, 108.70084736, 108.78251831, 109.89856709,\n",
       "       109.89856709, 110.32329266, 111.69475971, 112.77781955,\n",
       "       112.77781955, 112.86632106, 113.54128677, 113.8299004 ,\n",
       "       114.56696941, 114.5284202 , 114.46711605, 114.46711605,\n",
       "       114.46711605, 114.49112605, 114.93926488, 114.92613507,\n",
       "       115.14040339, 115.14040339, 115.14040339, 116.07034207,\n",
       "       117.61882386, 117.68389407, 117.95997164, 118.13667693,\n",
       "       118.14208822, 118.40926595, 118.52520315, 118.52520315,\n",
       "       118.52520315, 118.84638709, 119.33965122, 119.33965122,\n",
       "       119.58645248, 119.28886097, 119.28886097, 119.28886097,\n",
       "       119.59110235, 119.76501382, 119.77867237, 120.38888786,\n",
       "       120.29300052, 120.42076584, 121.27980075, 121.58699884,\n",
       "       121.68858731, 122.19549132, 122.43461476, 122.4561748 ,\n",
       "       122.45740554, 123.25151883, 123.22395248, 123.60360709,\n",
       "       123.81406582, 123.92399072, 123.99100024, 124.16562822,\n",
       "       124.02201504, 124.67878436, 125.15010983, 124.96182467,\n",
       "       125.67534258, 125.96857227, 126.66122456, 126.66122456,\n",
       "       126.66122456, 127.04044806, 127.40892147, 127.40218084,\n",
       "       127.81084858, 128.59012491, 129.37459079, 129.3084854 ,\n",
       "       129.60695506, 129.63275933, 129.95727001, 130.06878011,\n",
       "       130.62128981, 130.6238246 , 130.6238246 , 130.7947871 ,\n",
       "       131.0494273 , 131.0494273 , 131.01609514, 130.9993729 ,\n",
       "       131.03347087, 131.09783491, 131.09783491, 131.09783491,\n",
       "       131.348268  , 131.348268  , 131.348268  , 131.53713128,\n",
       "       131.99064787, 132.21235812, 132.34219291, 132.24659872,\n",
       "       132.47507706, 133.04834925, 133.04834925, 133.25932461,\n",
       "       134.17387946, 134.55332359, 136.03999115, 136.91238391,\n",
       "       137.11181741, 137.11181741, 137.13775508, 137.13775508,\n",
       "       137.45575181, 137.8501402 , 137.8501402 , 137.8501402 ,\n",
       "       138.24686084, 138.51938221, 138.33588361, 138.67734686,\n",
       "       138.56476167, 138.56476167, 138.72214073, 140.33112295,\n",
       "       140.33112295, 140.46497688, 140.80289433, 140.80289433,\n",
       "       142.09313507, 141.90048633, 142.27143684, 142.17252589,\n",
       "       142.72840003, 143.40369952, 144.5285256 , 144.5285256 ,\n",
       "       144.90357654, 145.08209849, 145.20649362, 146.01257367,\n",
       "       146.44750311, 147.1050384 , 148.04288819, 148.24995096,\n",
       "       148.18292183, 148.18292183, 148.46674602, 148.88738197,\n",
       "       149.74576801, 150.51345565, 150.89185214, 150.89185214,\n",
       "       150.99505166, 151.05673573, 151.80886874, 152.41245753,\n",
       "       153.08190479, 153.23916595, 155.58759255, 155.58759255,\n",
       "       156.34852651, 156.10440226, 156.10440226, 156.36219432,\n",
       "       156.43304945, 156.41389496, 156.45533981, 157.31621331,\n",
       "       157.31621331, 157.18078011, 158.1026242 , 158.42584557,\n",
       "       158.60491636, 158.60491636, 160.18161026, 160.11451025,\n",
       "       160.26840546, 161.17975253, 161.17975253, 161.91921812,\n",
       "       161.96005409, 162.69853788, 162.39269554, 163.61174288,\n",
       "       164.05803796, 164.88139019, 165.21269896, 165.19728865,\n",
       "       170.07166082, 170.65431061, 171.70249629, 171.70249629,\n",
       "       172.68265102, 172.90495662, 173.27289601, 173.38051007,\n",
       "       173.63949833, 176.41726726, 179.21077599, 180.62165402,\n",
       "       180.77435315, 180.82469072, 181.54129018, 181.54129018,\n",
       "       181.97943298, 182.4466492 , 184.38818696, 184.60039368,\n",
       "       184.60039368, 185.61128667, 186.87849342, 188.46205073,\n",
       "       188.62679353, 188.62372476, 189.59648707, 190.67081784,\n",
       "       191.81750633, 192.82506651, 194.46923397, 194.46923397,\n",
       "       194.55423884, 194.87248847, 196.44777371, 196.75446389,\n",
       "       197.38899564, 197.79759916, 198.14705063, 198.98907759,\n",
       "       198.98907759, 199.44557106, 201.26022475, 202.28304355,\n",
       "       203.08286376, 203.13331672, 205.0911563 , 206.04508174,\n",
       "       207.23287984, 207.3527875 , 210.4863944 , 210.18377318,\n",
       "       210.48049339, 212.3373473 , 212.41257644, 213.94052697,\n",
       "       214.38165054, 214.50183717, 214.85175172, 215.586954  ,\n",
       "       215.30541901, 215.83952307, 218.13700907, 219.10818309,\n",
       "       219.70825257, 221.43168491, 222.31538228, 222.31538228,\n",
       "       223.16397521, 225.14071568, 226.75205072, 227.07752444,\n",
       "       228.45800857, 233.61191732, 233.77830655, 235.26233723,\n",
       "       236.90618872, 240.28238459, 242.42920162, 243.56799877,\n",
       "       244.6454403 , 245.35421536, 249.83525355, 249.83525355,\n",
       "       250.01117685, 252.25804659, 252.25804659, 256.51897243,\n",
       "       261.39775205, 261.84696387, 261.84696387, 263.2216586 ,\n",
       "       263.98184552, 263.98184552, 264.7349275 , 274.39873421,\n",
       "       274.60807333, 277.18520303, 281.47430142, 285.40779228,\n",
       "       287.16605966, 289.30234007, 290.2743429 , 293.27147053,\n",
       "       295.39749572, 297.21994803, 297.82086934, 303.54657966,\n",
       "       304.96350646, 304.96350646, 305.71747716, 306.15682248,\n",
       "       307.01332221, 306.50877642, 307.06698078, 307.88997537,\n",
       "       310.17108061, 310.01310327, 311.13325361, 312.90015173,\n",
       "       313.94344508, 320.46357781, 322.93673969, 322.64854041,\n",
       "       326.59655745, 326.59655745, 328.29672306, 329.06487136,\n",
       "       329.18467266, 341.51031105, 341.58548434, 342.81422928,\n",
       "       342.81422928, 343.84692974, 344.30112259, 345.46220686,\n",
       "       347.62688716, 348.56947014, 356.36318294, 359.3813737 ,\n",
       "       361.56647394, 362.88940306, 367.50060442, 375.00539464,\n",
       "       380.97621807, 388.91352312, 396.06262166, 398.38523661,\n",
       "       404.52038178, 407.87629562, 438.58436556, 448.89932501,\n",
       "       451.34469094, 452.60238153, 455.4382164 , 458.85652035,\n",
       "       459.48865093, 465.80397581, 473.06325367, 475.27074506,\n",
       "       475.48235283, 474.61618976, 478.34915839, 478.46626727,\n",
       "       484.87214437, 488.40366524, 501.62432546, 507.75158797,\n",
       "       520.35331289, 520.21807975, 525.39032261, 527.22685292,\n",
       "       528.47893223, 531.54202242, 537.90100086, 540.02545223,\n",
       "       540.43217899, 547.25682671, 547.70053406, 550.32573757,\n",
       "       552.47457897, 554.45598306, 555.47463616, 555.78524572,\n",
       "       555.96845742, 556.84199615, 560.0969947 , 564.38450868,\n",
       "       567.03823433, 571.48254349, 571.65690845, 571.76321493,\n",
       "       572.40269138, 581.72239319, 581.62700356, 583.30412741,\n",
       "       583.76154585, 593.69203068, 598.44078652, 603.4284244 ,\n",
       "       603.85015269, 608.75259429, 611.91074112, 615.65628507,\n",
       "       617.8623204 , 620.06391888, 620.76896548, 622.3329912 ,\n",
       "       626.05901075, 626.18460817, 627.01735187, 627.57044794,\n",
       "       628.6045027 , 628.98887927, 632.2718648 , 638.89680318,\n",
       "       640.02305284, 640.74329181, 641.28126603, 650.55397419,\n",
       "       651.88605364, 652.67095414, 654.63858985, 655.81518024,\n",
       "       661.63377786, 666.26322192, 666.79037577, 671.00998878,\n",
       "       671.95192808, 673.07035344, 672.60990874, 674.56365408,\n",
       "       674.87743908, 676.03670575, 679.47303622, 681.31246538])"
      ]
     },
     "execution_count": 26,
     "metadata": {},
     "output_type": "execute_result"
    }
   ],
   "source": [
    "#check\n",
    "\n",
    "lum_distance_total(z_values,z_hel,73,-0.55)"
   ]
  },
  {
   "cell_type": "markdown",
   "metadata": {},
   "source": [
    "### The distance modulus\n",
    "\n",
    "The distance modulus $\\mu$ of a supernova at redshift $z$ is defined as:\n",
    "\n",
    "$$\n",
    "\\mu=m_B-M_B=5\\log_{10}\\left(\\frac{d_{L}(z,z_{hel})}{1 Mpc}\\right)+25,\n",
    "$$\n",
    "\n",
    "where $m_B$ is apparent magnitude and $M_B$ is the absolute magnitude (the hypothetical apparent magnitude of an object as if it were at a distance of $10$ $pc$). We use the Megaparsec ($Mpc$) as a more appropriate distance scale for cosmology."
   ]
  },
  {
   "cell_type": "code",
   "execution_count": 27,
   "metadata": {},
   "outputs": [
    {
     "name": "stdout",
     "output_type": "stream",
     "text": [
      "(496,)\n"
     ]
    }
   ],
   "source": [
    "# Transform selected_values['m_b_corr'] to NumPy array\n",
    "\n",
    "m_data = selected_values['m_b_corr'].to_numpy()\n",
    "print(m_data.shape)"
   ]
  },
  {
   "cell_type": "code",
   "execution_count": 28,
   "metadata": {},
   "outputs": [],
   "source": [
    "# Function to calculate the magnitude m_B\n",
    "\n",
    "def magnitude(z, z_hel, H0, q0, M_B=-19.258):\n",
    "    lum_dist = lum_distance_total(z, z_hel, H0, q0)\n",
    "    m_B = 5 * np.log10(lum_dist) + 25 + M_B\n",
    "    return m_B"
   ]
  },
  {
   "cell_type": "markdown",
   "metadata": {},
   "source": [
    "### Chi-square $\\chi^2$ statistic\n",
    "\n",
    "\n",
    "The $\\chi^2$ function defined as\n",
    "\n",
    "$$\n",
    "\\chi^2_{sne}(H_0,q_0,j_0)=\\left[\\mu_{i,data}-\\mu_{model}(z_i)\\right]\\Sigma^{-1}_{sne,ij}\\left[\\mu_{j,data}-\\mu_{model}(z_j)\\right],\n",
    "$$\n",
    "\n",
    "where $\\mu_{i,data}$ and $\\mu_{model}(z_i)$ are the _observed_ and _predicted_ distance moduli at the redshift $z_i$, respectively; $\\Sigma^{-1}_{sne,ij}$ is the supernova covariance matrix from the Pantheon+ SH0ES collaboration (considering both statistical and systematic errors). First, we explore the covariance matrix.\n"
   ]
  },
  {
   "cell_type": "markdown",
   "metadata": {},
   "source": [
    "#### Covariance matrix\n",
    "\n",
    "The format of the covariance (.cov) file is NxN lines, where the first line gives the number of rows/columns in the matrix ($N=1701$). We are interested in the Statistical+Systematic covariance matrix `STAT+SYS`, it includes all the covariance between SNe (and also Cepheid host covariance) due to systematic uncertainties. Let's import the matrix and transform it into a Numpy array format."
   ]
  },
  {
   "cell_type": "code",
   "execution_count": 29,
   "metadata": {},
   "outputs": [],
   "source": [
    "# Load the covariant matrix\n",
    "\n",
    "path = \"/home/olesya/Документы/A_Rabota/Rabota/Cosmological Tensions/Data/Pantheon+SH0ES_STAT+SYS.cov\"\n",
    "cov_matrix = np.loadtxt(path)\n",
    "n_sne = int(cov_matrix[0])\n",
    "cov_matrix = cov_matrix[1:].reshape((n_sne, n_sne))"
   ]
  },
  {
   "cell_type": "code",
   "execution_count": 30,
   "metadata": {},
   "outputs": [
    {
     "data": {
      "text/plain": [
       "(1701, 1701)"
      ]
     },
     "execution_count": 30,
     "metadata": {},
     "output_type": "execute_result"
    }
   ],
   "source": [
    "cov_matrix.shape"
   ]
  },
  {
   "cell_type": "code",
   "execution_count": 31,
   "metadata": {},
   "outputs": [
    {
     "data": {
      "text/plain": [
       "(496, 496)"
      ]
     },
     "execution_count": 31,
     "metadata": {},
     "output_type": "execute_result"
    }
   ],
   "source": [
    "# Get the indices of z_values in the original dataframe\n",
    "selected_indices = df[(df['zHD'] > 0.023) & (df['zHD'] < 0.15)].index\n",
    "\n",
    "# Select the corresponding rows and columns from the covariance matrix\n",
    "cov_matrix_selected = cov_matrix[selected_indices][:, selected_indices]\n",
    "\n",
    "# Verify the shape of the selected covariance matrix\n",
    "cov_matrix_selected.shape"
   ]
  },
  {
   "cell_type": "markdown",
   "metadata": {},
   "source": [
    "## Likelihood\n",
    "\n",
    "We define the likelihood $\\mathcal{L}_{sne}$ using the $\\chi^2$ :\n",
    "\n",
    "$$\n",
    "\\mathcal{L}_{sne}(H_0,q_0,j_0)=\\mathcal{N}e^{-\\frac{1}{2}\\chi^{2}},\n",
    "$$\n",
    "\n",
    "where $\\mathcal{N}=|2\\pi\\Sigma_{sne}|^{-\\frac{1}{2}}$ is a normalization constant. The likelihood represents the probability of having a dataset given a cosmological model. We are interested in the contrary, i.e.\n",
    "in the probability of having a certain cosmological model given a dataset. This is called **posterior probability**. \n",
    "\n",
    "Let's compute the Gaussian log-likelihood for the _observed_ and _predicted_ apparent magnitude at the redshifts $z_i$ e $z_{hel}$. For now, we omit the normalization constant."
   ]
  },
  {
   "cell_type": "code",
   "execution_count": 32,
   "metadata": {},
   "outputs": [],
   "source": [
    "# Calculate the inverse of the covariance matrix  \n",
    "\n",
    "cov_inv = np.linalg.inv(cov_matrix_selected)"
   ]
  },
  {
   "cell_type": "code",
   "execution_count": 33,
   "metadata": {},
   "outputs": [],
   "source": [
    "# Function to compute the logarithm of the likelihood\n",
    "# Input: vector of parameters H0, parameters q_0 and j_0\n",
    "# Output: the value of the likelihood at the specified parameter values\n",
    "\n",
    "def log_likelihood(parameters):\n",
    "    M_B, H0, q0 = parameters\n",
    "    m_modelo = magnitude(z_values, z_hel, H0, q0) #Calculate model magnitudes for observed data\n",
    "    diff = m_data - m_modelo #residuals\n",
    "    diff = np.array(diff)\n",
    "    log_likelihood_values = -0.5 * np.dot(diff, np.dot(diff, cov_inv))\n",
    "    \n",
    "    return log_likelihood_values"
   ]
  },
  {
   "cell_type": "code",
   "execution_count": 34,
   "metadata": {},
   "outputs": [
    {
     "data": {
      "text/plain": [
       "-217.76527386293392"
      ]
     },
     "execution_count": 34,
     "metadata": {},
     "output_type": "execute_result"
    }
   ],
   "source": [
    "# Check the function\n",
    "\n",
    "parameters = [-19.3,73,-0.55]\n",
    "log_likelihood(parameters)"
   ]
  },
  {
   "cell_type": "code",
   "execution_count": 35,
   "metadata": {},
   "outputs": [],
   "source": [
    "# Fix the parameters \n",
    "\n",
    "q0_fix = -0.55\n",
    "\n",
    "H0_range = np.linspace(65,85,25)\n",
    "#log_likelihood = np.vectorize(log_likelihood)"
   ]
  },
  {
   "cell_type": "markdown",
   "metadata": {},
   "source": [
    "### Posterior probability \n",
    "\n",
    "In this section we will sample the posterior probability using the algorithm EMCEE to implement the Markov Chain Monte Carlo (MCMC) method. MCMC is a method for fitting models to data. \n",
    "\n",
    "According to Bayes Theorem, the posterior probability is given by\n",
    "\n",
    "$$ \n",
    "P(\\theta|d) = \\frac{P(d|\\theta)P(\\theta)}{P(d)}, \n",
    "$$\n",
    "\n",
    "where:\n",
    "- $\\theta$ is the cosmological parameters and  $d$ is the observed data, or samples. \n",
    "- $P(\\theta|d)$ is the posterior probability for $\\theta$, and it represents our degree of belief about the value of $\\theta$ after we have seen the data $d$. \n",
    "- $P(d|\\theta)=\\mathcal{L}(\\theta)$ is the likelihood function we already encountered. It is the probability of the data given a certain value of the parameters.\n",
    "- $P(\\theta)$ is the prior probability distribution. It represents our degree of belief in the value of $\\theta$ before we see the data (hence the name).\n",
    "- $P(d)$ is a normalizing constant, or the evidence, it ensures that the posterior is normalized to unity:$$ P(d)=\\int d \\theta P(d|\\theta)P(\\theta).$$\n",
    "\n",
    "\n",
    "In our case, the posterior probability for $H_0$, $q_0$ and $j_0$ is given by\n",
    "$$ \n",
    "P(H_0,q_0,j_0|SN) = \\frac{P(H_0)P(q_0)P(j_0)\\mathcal{L}((H_0,q_0,j_0))}{\\mathcal{E}}, \n",
    "$$\n",
    "\n",
    "where $\\mathcal{E}$ is the evidence.\n",
    "\n",
    "From now on, we use logarithm of probabilities to compute the log of posterior probability.\n",
    "\n",
    "The log-prior probability is assumed to be zero if all the parameters are within their bounds and $-\\infty$ if any of the parameters are outside their bounds."
   ]
  },
  {
   "cell_type": "code",
   "execution_count": 36,
   "metadata": {},
   "outputs": [],
   "source": [
    "# Compute the logarithm of the prior probability\n",
    "# Input: H0 vector of parameters, parameters q_0 and j_0\n",
    "# Output: the value of the prior at the specified parameter values\n",
    "\n",
    "def log_uniprior(parameters):\n",
    "    M_B, H0, q0 = parameters\n",
    "    if (65 < H0 < 85) and (-10 < q0 < 10):\n",
    "        return 0.0\n",
    "    return -np.infty"
   ]
  },
  {
   "cell_type": "code",
   "execution_count": 37,
   "metadata": {},
   "outputs": [
    {
     "data": {
      "text/plain": [
       "0.0"
      ]
     },
     "execution_count": 37,
     "metadata": {},
     "output_type": "execute_result"
    }
   ],
   "source": [
    "parameters = [-19.3,73,-0.55]\n",
    "log_uniprior(parameters)"
   ]
  },
  {
   "cell_type": "code",
   "execution_count": 38,
   "metadata": {},
   "outputs": [],
   "source": [
    "# Compute log_normal prior\n",
    "# Input: H0 vector of parameters, parameters q_0 and j_0\n",
    "# Output: the value of the posterior at the specified parameter values\n",
    "\n",
    "def log_normal(parameters):\n",
    "    M_B, H0, q0 = parameters\n",
    "    mu = -19.258    #mean value\n",
    "    sigma = 0.032   #standard deviation\n",
    "    log_prior = -0.5 * ((M_B - mu) / sigma)**2 \n",
    "    return log_prior "
   ]
  },
  {
   "cell_type": "code",
   "execution_count": 39,
   "metadata": {},
   "outputs": [
    {
     "data": {
      "text/plain": [
       "-0.38281249999996425"
      ]
     },
     "execution_count": 39,
     "metadata": {},
     "output_type": "execute_result"
    }
   ],
   "source": [
    "parameters = [-19.23,73,-0.55]\n",
    "log_normal(parameters)"
   ]
  },
  {
   "cell_type": "markdown",
   "metadata": {},
   "source": [
    "The posterior distribution combines the uniprior, gaussian prior and the likelihood. It outputs negative infinity if the parameters lie outside the range of the prior."
   ]
  },
  {
   "cell_type": "code",
   "execution_count": 40,
   "metadata": {},
   "outputs": [],
   "source": [
    "# Compute log_posterior \n",
    "# Input: vector of parameters\n",
    "# Output: the value of the posterior at the specified parameter values\n",
    "\n",
    "def log_posterior(parameters):\n",
    "    M_B, H0, q0 = parameters\n",
    "    lu = log_uniprior(parameters)\n",
    "    normal = log_normal(parameters)\n",
    "    if not (np.isfinite(lu) and np.isfinite(normal)):\n",
    "        return -np.inf\n",
    "    return log_likelihood(parameters) + lu + normal"
   ]
  },
  {
   "cell_type": "code",
   "execution_count": 41,
   "metadata": {},
   "outputs": [
    {
     "data": {
      "text/plain": [
       "-218.62660198793398"
      ]
     },
     "execution_count": 41,
     "metadata": {},
     "output_type": "execute_result"
    }
   ],
   "source": [
    "parameters = [-19.3,73,-0.55]\n",
    "log_posterior(parameters)"
   ]
  },
  {
   "cell_type": "markdown",
   "metadata": {},
   "source": [
    "The purpose of a Markov chain Monte Carlo algorithm is to construct a sequence of points (or “samples”) in parameter space (called “a chain”). The crucial property of the chain is that the density of samples is proportional to the posterior pdf. This allows to construct a map of the posterior distribution.\n",
    "\n",
    "To sample the posterior we use `emcee`, an open-source sampler for MCMC, and for analyzing the chains we use `getdist`. `emcee` requires a function that returns the log-posterior probability.\n",
    "\n",
    "First, we define two key variables: `ndim` and `nwalkers`. The `nwalkers` variable is the number of \"walkers\" (different Markov Chains that run in parallel). "
   ]
  },
  {
   "cell_type": "code",
   "execution_count": 42,
   "metadata": {},
   "outputs": [
    {
     "name": "stderr",
     "output_type": "stream",
     "text": [
      "100%|██████████| 20000/20000 [02:47<00:00, 119.57it/s]"
     ]
    },
    {
     "name": "stdout",
     "output_type": "stream",
     "text": [
      "Samples shape: (20000, 10, 3)\n"
     ]
    },
    {
     "name": "stderr",
     "output_type": "stream",
     "text": [
      "\n"
     ]
    }
   ],
   "source": [
    "# Set initial parameters\n",
    "initial_parameters = [-19.3, 73.04, q0_fix]  \n",
    "\n",
    "nwalkers = 10\n",
    "nsteps = 20000\n",
    "\n",
    "# Generate initial values for each walker\n",
    "initial_positions = [initial_parameters + 1e-4*np.random.randn(3) for _ in range(nwalkers)]\n",
    "\n",
    "# Initialize the sampler\n",
    "sampler = emcee.EnsembleSampler(nwalkers, len(initial_parameters), log_posterior)\n",
    "sampler.run_mcmc(initial_positions, nsteps, progress=True)\n",
    "\n",
    "# Get Markov chains\n",
    "samples = sampler.get_chain()\n",
    "\n",
    "# Print the results\n",
    "print(\"Samples shape:\", samples.shape)\n"
   ]
  },
  {
   "cell_type": "markdown",
   "metadata": {},
   "source": [
    "The walkers start in small distributions around the maximum likelihood values and then they quickly wander and start exploring the full posterior distribution. In fact, after fewer than 50 steps, the samples seem pretty well “burnt-in”. That is a hard statement to make quantitatively, but we can look at an estimate of the integrated autocorrelation time:"
   ]
  },
  {
   "cell_type": "code",
   "execution_count": 43,
   "metadata": {},
   "outputs": [
    {
     "name": "stdout",
     "output_type": "stream",
     "text": [
      "[46.55360685 44.77817085 46.49987295]\n"
     ]
    }
   ],
   "source": [
    "tau = sampler.get_autocorr_time()\n",
    "print(tau)"
   ]
  },
  {
   "cell_type": "markdown",
   "metadata": {},
   "source": [
    "This suggests that about 45 steps are needed for the chain to “forget” where it started."
   ]
  },
  {
   "cell_type": "markdown",
   "metadata": {},
   "source": [
    "## Results"
   ]
  },
  {
   "cell_type": "markdown",
   "metadata": {},
   "source": [
    "Now we have the list of samples, let’s make a corner plot. "
   ]
  },
  {
   "cell_type": "code",
   "execution_count": 44,
   "metadata": {},
   "outputs": [
    {
     "name": "stdout",
     "output_type": "stream",
     "text": [
      "Removed no burn in\n"
     ]
    },
    {
     "data": {
      "image/png": "[encoded data removed]",
      "text/plain": [
       "<Figure size 600x600 with 6 Axes>"
      ]
     },
     "metadata": {},
     "output_type": "display_data"
    }
   ],
   "source": [
    "# Get the samples\n",
    "samples = sampler.get_chain(discard=2000, thin=15, flat=True) \n",
    "\n",
    "# Set labels for parameters\n",
    "param_names = ['M_B', 'H_0', 'q_0']\n",
    "\n",
    "# Create an MCSamples object with the samples\n",
    "mcsamples = getdist.MCSamples(samples=samples, names=param_names, labels=param_names)\n",
    "\n",
    "# Plot the triplot\n",
    "g = plots.get_subplot_plotter()\n",
    "g.settings.figure_legend_frame = False\n",
    "g.settings.alpha_filled_add=0.4\n",
    "g.settings.title_limit_fontsize = 12\n",
    "g.triangle_plot(mcsamples, filled=True, line_args=[{'lw':2, 'color':'darkblue'}], \n",
    "                contour_colors=['darkblue'], title_limit=1)\n",
    "\n",
    "g.set_axes(labelLines = param_names)\n",
    "\n",
    "plt.show()\n",
    "g.export('triplot.png')"
   ]
  },
  {
   "cell_type": "code",
   "execution_count": 45,
   "metadata": {},
   "outputs": [
    {
     "name": "stdout",
     "output_type": "stream",
     "text": [
      "Marginalized limits: 0.68; 0.95; 0.99\n",
      "\n",
      "parameter   mean           sddev          lower1         upper1         limit1 lower2         upper2         limit2 lower3         upper3         limit3 \n",
      "M_B        -1.9258324E+01  3.1575672E-02 -1.9290057E+01 -1.9227067E+01  two   -1.9319649E+01 -1.9195225E+01  two   -1.9340538E+01 -1.9174685E+01  two     M_B\n",
      "H_0         7.3138458E+01  4.7105320E-01  7.2676674E+01  7.3609136E+01  two    7.2212653E+01  7.4058905E+01  two    7.1906671E+01  7.4367957E+01  two     H_0\n",
      "q_0        -5.1772547E-01  1.7193799E-01 -6.8868167E-01 -3.4817621E-01  two   -8.4553302E-01 -1.6958020E-01  two   -9.4814616E-01 -5.8392124E-02  two     q_0\n",
      "\n"
     ]
    }
   ],
   "source": [
    "marg = mcsamples.getMargeStats()\n",
    "print(marg)"
   ]
  },
  {
   "cell_type": "markdown",
   "metadata": {},
   "source": [
    "The corner plot shows all the one and two dimensional projections of the posterior probability distributions of the parameters. And it demonstrates all of the covariances between parameters. "
   ]
  },
  {
   "cell_type": "markdown",
   "metadata": {},
   "source": [
    "The uncertainties based on the 68th, 95th, and 99.7 percentiles of the samples in the marginalized distributions: "
   ]
  },
  {
   "cell_type": "code",
   "execution_count": 46,
   "metadata": {},
   "outputs": [
    {
     "data": {
      "text/latex": [
       "$\\displaystyle \\mathrm{M_B} = -19.207_{-0.036}^{0.038}$"
      ],
      "text/plain": [
       "<IPython.core.display.Math object>"
      ]
     },
     "metadata": {},
     "output_type": "display_data"
    },
    {
     "data": {
      "text/latex": [
       "$\\displaystyle \\mathrm{H_0} = 73.925_{-0.566}^{0.534}$"
      ],
      "text/plain": [
       "<IPython.core.display.Math object>"
      ]
     },
     "metadata": {},
     "output_type": "display_data"
    },
    {
     "data": {
      "text/latex": [
       "$\\displaystyle \\mathrm{q_0} = -0.226_{-0.214}^{0.194}$"
      ],
      "text/plain": [
       "<IPython.core.display.Math object>"
      ]
     },
     "metadata": {},
     "output_type": "display_data"
    }
   ],
   "source": [
    "from IPython.display import display, Math\n",
    "\n",
    "labels=param_names\n",
    "\n",
    "for i in range(3):\n",
    "    mcmc = np.percentile(samples[:, i], [68, 95, 99.7])\n",
    "    q = np.diff(mcmc)\n",
    "    txt = \"\\mathrm{{{3}}} = {0:.3f}_{{-{1:.3f}}}^{{{2:.3f}}}\"\n",
    "    txt = txt.format(mcmc[1], q[0], q[1], labels[i])\n",
    "    display(Math(txt))"
   ]
  },
  {
   "cell_type": "markdown",
   "metadata": {},
   "source": [
    "## Autocorrelation analysis and convergence"
   ]
  },
  {
   "cell_type": "code",
   "execution_count": 47,
   "metadata": {},
   "outputs": [
    {
     "data": {
      "image/png": "[encoded data removed]",
      "text/plain": [
       "<Figure size 640x480 with 1 Axes>"
      ]
     },
     "metadata": {},
     "output_type": "display_data"
    }
   ],
   "source": [
    "# Marginalized density in the first dimension\n",
    "\n",
    "chain = sampler.get_chain()[:, :, 0].T\n",
    "\n",
    "plt.hist(chain.flatten(), 100)\n",
    "plt.gca().set_yticks([])\n",
    "plt.xlabel(r\"$\\theta$\")\n",
    "plt.ylabel(r\"$p(\\theta)$\");"
   ]
  },
  {
   "cell_type": "code",
   "execution_count": 48,
   "metadata": {},
   "outputs": [],
   "source": [
    "def next_pow_two(n):\n",
    "    i = 1\n",
    "    while i < n:\n",
    "        i = i << 1\n",
    "    return i"
   ]
  },
  {
   "cell_type": "code",
   "execution_count": 49,
   "metadata": {},
   "outputs": [],
   "source": [
    "def autocorr_func_1d(x, norm=True):\n",
    "    x = np.atleast_1d(x)\n",
    "    if len(x.shape) != 1:\n",
    "        raise ValueError(\"invalid dimensions for 1D autocorrelation function\")\n",
    "    n = next_pow_two(len(x))\n",
    "    \n",
    "    # Compute the FFT and then (from that) the auto-correlation function\n",
    "    f = np.fft.fft(x - np.mean(x), n=2 * n)\n",
    "    acf = np.fft.ifft(f * np.conjugate(f))[: len(x)].real\n",
    "    acf /= 4 * n\n",
    "\n",
    "    # Optionally normalize\n",
    "    if norm:\n",
    "        acf /= acf[0]\n",
    "\n",
    "    return acf"
   ]
  },
  {
   "cell_type": "code",
   "execution_count": 50,
   "metadata": {},
   "outputs": [],
   "source": [
    "# Automated windowing procedure following Sokal (1989)\n",
    "\n",
    "def auto_window(taus, c):\n",
    "    m = np.arange(len(taus)) < c * taus\n",
    "    if np.any(m):\n",
    "        return np.argmin(m)\n",
    "    return len(taus) - 1"
   ]
  },
  {
   "cell_type": "code",
   "execution_count": 51,
   "metadata": {},
   "outputs": [],
   "source": [
    "# Following the suggestion from Goodman & Weare (2010)\n",
    "\n",
    "def autocorr_gw2010(y, c=5):\n",
    "    f = autocorr_func_1d(np.mean(y, axis=0))\n",
    "    taus = 2 * np.cumsum(f) - 1\n",
    "    window = auto_window(taus, c)\n",
    "    return taus[window]"
   ]
  },
  {
   "cell_type": "code",
   "execution_count": 52,
   "metadata": {},
   "outputs": [],
   "source": [
    "def autocorr_new(y, c=5.0):\n",
    "    f = np.zeros(y.shape[1])\n",
    "    for yy in y:\n",
    "        f += autocorr_func_1d(yy)\n",
    "    f /= len(y)\n",
    "    taus = 2 * np.cumsum(f) - 1\n",
    "    window = auto_window(taus, c)\n",
    "    return taus[window]"
   ]
  },
  {
   "cell_type": "code",
   "execution_count": 53,
   "metadata": {},
   "outputs": [],
   "source": [
    "# Compute the estimators for a few different chain lengths\n",
    "\n",
    "N = np.exp(np.linspace(np.log(100), np.log(chain.shape[1]), 10)).astype(int)\n",
    "gw2010 = np.empty(len(N))\n",
    "new = np.empty(len(N))\n",
    "for i, n in enumerate(N):\n",
    "    gw2010[i] = autocorr_gw2010(chain[:, :n])\n",
    "    new[i] = autocorr_new(chain[:, :n])"
   ]
  },
  {
   "cell_type": "code",
   "execution_count": 54,
   "metadata": {},
   "outputs": [
    {
     "data": {
      "image/png": "[encoded data removed]",
      "text/plain": [
       "<Figure size 640x480 with 1 Axes>"
      ]
     },
     "metadata": {},
     "output_type": "display_data"
    }
   ],
   "source": [
    "# Plot the comparisons\n",
    "\n",
    "plt.loglog(N, gw2010, \"o-\", label=\"G&W 2010\")\n",
    "plt.loglog(N, new, \"o-\", label=\"new\")\n",
    "ylim = plt.gca().get_ylim()\n",
    "plt.plot(N, N / 50.0, \"--k\", label=r\"$\\tau = N/50$\")\n",
    "#plt.axhline(true_tau, color=\"k\", label=\"truth\", zorder=-100)\n",
    "plt.ylim(ylim)\n",
    "plt.xlabel(\"number of samples, $N$\")\n",
    "plt.ylabel(r\"$\\tau$ estimates\")\n",
    "plt.legend(fontsize=12);"
   ]
  },
  {
   "cell_type": "markdown",
   "metadata": {},
   "source": [
    "## References\n",
    "\n",
    "[1] D. Scolnic, D. Brout, A. Carr, A. G. Riess, T. M. Davis, A. Dwomoh, D. O. Jones, N. Ali, P. Charvu and R. Chen, et al. _The Pantheon+ Analysis: The Full Data Set and Light-curve Release_, Astrophys. J. 938 (2022).\n",
    "\n",
    "[1] David Camarena and Valerio Marra, _Local determination of the Hubble constant and the deceleration parameter_, Phys. Rev. Research 2, 013028 (2020).\n",
    "\n",
    "\n",
    "[2] Oliver Piattella, _Lecture Notes in Cosmology_, Springer Cham (2018). \n",
    "\n",
    "\n",
    "[3] D. Foreman-Mackey, D. W. Hogg, D. Lang, and J. Goodman, _emcee: The MCMC Hammer_, Publ. Astron. Soc. Pac. 125 (2013) 306–312, https://arxiv.org/abs/1202.3665\n",
    "\n",
    "\n",
    "[4] A. Lewis, _GetDist: a Python package for analysing Monte Carlo samples_, arXiv:1910.13970, https://getdist.readthedocs.io."
   ]
  },
  {
   "cell_type": "code",
   "execution_count": null,
   "metadata": {},
   "outputs": [],
   "source": []
  }
 ],
 "metadata": {
  "kernelspec": {
   "display_name": "Python 3",
   "language": "python",
   "name": "python3"
  },
  "language_info": {
   "codemirror_mode": {
    "name": "ipython",
    "version": 3
   },
   "file_extension": ".py",
   "mimetype": "text/x-python",
   "name": "python",
   "nbconvert_exporter": "python",
   "pygments_lexer": "ipython3",
   "version": "3.8.5"
  }
 },
 "nbformat": 4,
 "nbformat_minor": 4
}
