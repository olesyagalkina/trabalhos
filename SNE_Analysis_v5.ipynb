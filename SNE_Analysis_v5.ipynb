{
 "cells": [
  {
   "cell_type": "markdown",
   "metadata": {},
   "source": [
    "# Markov Chain Monte Carlo analysis using type Ia Supernovae data"
   ]
  },
  {
   "cell_type": "code",
   "execution_count": 1,
   "metadata": {},
   "outputs": [],
   "source": [
    "import pandas as pd\n",
    "import numpy as np\n",
    "import math\n",
    "import matplotlib.pyplot as plt\n",
    "\n",
    "from scipy import constants\n",
    "\n",
    "# For analysing Monte Carlo samples\n",
    "import emcee\n",
    "from emcee import EnsembleSampler\n",
    "\n",
    "# For plotting Monte Carlo samples\n",
    "import getdist\n",
    "from getdist import plots"
   ]
  },
  {
   "cell_type": "code",
   "execution_count": 2,
   "metadata": {},
   "outputs": [
    {
     "data": {
      "text/plain": [
       "(1701, 47)"
      ]
     },
     "execution_count": 2,
     "metadata": {},
     "output_type": "execute_result"
    }
   ],
   "source": [
    "file_path = \"/home/olesya/Документы/A_Rabota/Rabota/Cosmological Tensions/Data/Pantheon+SH0ES.dat\"\n",
    "df = pd.read_csv(file_path, delimiter='\\s+')\n",
    "\n",
    "df.shape"
   ]
  },
  {
   "cell_type": "code",
   "execution_count": 3,
   "metadata": {},
   "outputs": [
    {
     "data": {
      "text/html": [
       "<div>\n",
       "<style scoped>\n",
       "    .dataframe tbody tr th:only-of-type {\n",
       "        vertical-align: middle;\n",
       "    }\n",
       "\n",
       "    .dataframe tbody tr th {\n",
       "        vertical-align: top;\n",
       "    }\n",
       "\n",
       "    .dataframe thead th {\n",
       "        text-align: right;\n",
       "    }\n",
       "</style>\n",
       "<table border=\"1\" class=\"dataframe\">\n",
       "  <thead>\n",
       "    <tr style=\"text-align: right;\">\n",
       "      <th></th>\n",
       "      <th>CID</th>\n",
       "      <th>IDSURVEY</th>\n",
       "      <th>zHD</th>\n",
       "      <th>zHDERR</th>\n",
       "      <th>zCMB</th>\n",
       "      <th>zCMBERR</th>\n",
       "      <th>zHEL</th>\n",
       "      <th>zHELERR</th>\n",
       "      <th>m_b_corr</th>\n",
       "      <th>m_b_corr_err_DIAG</th>\n",
       "      <th>...</th>\n",
       "      <th>PKMJDERR</th>\n",
       "      <th>NDOF</th>\n",
       "      <th>FITCHI2</th>\n",
       "      <th>FITPROB</th>\n",
       "      <th>m_b_corr_err_RAW</th>\n",
       "      <th>m_b_corr_err_VPEC</th>\n",
       "      <th>biasCor_m_b</th>\n",
       "      <th>biasCorErr_m_b</th>\n",
       "      <th>biasCor_m_b_COVSCALE</th>\n",
       "      <th>biasCor_m_b_COVADD</th>\n",
       "    </tr>\n",
       "  </thead>\n",
       "  <tbody>\n",
       "    <tr>\n",
       "      <th>0</th>\n",
       "      <td>2011fe</td>\n",
       "      <td>51</td>\n",
       "      <td>0.00122</td>\n",
       "      <td>0.00084</td>\n",
       "      <td>0.00122</td>\n",
       "      <td>0.00002</td>\n",
       "      <td>0.00082</td>\n",
       "      <td>0.00002</td>\n",
       "      <td>9.74571</td>\n",
       "      <td>1.516210</td>\n",
       "      <td>...</td>\n",
       "      <td>0.1071</td>\n",
       "      <td>36</td>\n",
       "      <td>26.8859</td>\n",
       "      <td>0.864470</td>\n",
       "      <td>0.0991</td>\n",
       "      <td>1.4960</td>\n",
       "      <td>0.0381</td>\n",
       "      <td>0.005</td>\n",
       "      <td>1.0</td>\n",
       "      <td>0.003</td>\n",
       "    </tr>\n",
       "    <tr>\n",
       "      <th>1</th>\n",
       "      <td>2011fe</td>\n",
       "      <td>56</td>\n",
       "      <td>0.00122</td>\n",
       "      <td>0.00084</td>\n",
       "      <td>0.00122</td>\n",
       "      <td>0.00002</td>\n",
       "      <td>0.00082</td>\n",
       "      <td>0.00002</td>\n",
       "      <td>9.80286</td>\n",
       "      <td>1.517230</td>\n",
       "      <td>...</td>\n",
       "      <td>0.0579</td>\n",
       "      <td>101</td>\n",
       "      <td>88.3064</td>\n",
       "      <td>0.812220</td>\n",
       "      <td>0.0971</td>\n",
       "      <td>1.4960</td>\n",
       "      <td>-0.0252</td>\n",
       "      <td>0.003</td>\n",
       "      <td>1.0</td>\n",
       "      <td>0.004</td>\n",
       "    </tr>\n",
       "    <tr>\n",
       "      <th>2</th>\n",
       "      <td>2012cg</td>\n",
       "      <td>51</td>\n",
       "      <td>0.00256</td>\n",
       "      <td>0.00084</td>\n",
       "      <td>0.00256</td>\n",
       "      <td>0.00002</td>\n",
       "      <td>0.00144</td>\n",
       "      <td>0.00002</td>\n",
       "      <td>11.47030</td>\n",
       "      <td>0.781906</td>\n",
       "      <td>...</td>\n",
       "      <td>0.0278</td>\n",
       "      <td>165</td>\n",
       "      <td>233.5000</td>\n",
       "      <td>0.000358</td>\n",
       "      <td>0.0399</td>\n",
       "      <td>0.7134</td>\n",
       "      <td>0.0545</td>\n",
       "      <td>0.019</td>\n",
       "      <td>1.0</td>\n",
       "      <td>0.036</td>\n",
       "    </tr>\n",
       "    <tr>\n",
       "      <th>3</th>\n",
       "      <td>2012cg</td>\n",
       "      <td>56</td>\n",
       "      <td>0.00256</td>\n",
       "      <td>0.00084</td>\n",
       "      <td>0.00256</td>\n",
       "      <td>0.00002</td>\n",
       "      <td>0.00144</td>\n",
       "      <td>0.00002</td>\n",
       "      <td>11.49190</td>\n",
       "      <td>0.798612</td>\n",
       "      <td>...</td>\n",
       "      <td>0.0667</td>\n",
       "      <td>55</td>\n",
       "      <td>100.1220</td>\n",
       "      <td>0.000193</td>\n",
       "      <td>0.0931</td>\n",
       "      <td>0.7134</td>\n",
       "      <td>0.0622</td>\n",
       "      <td>0.028</td>\n",
       "      <td>1.0</td>\n",
       "      <td>0.040</td>\n",
       "    </tr>\n",
       "    <tr>\n",
       "      <th>4</th>\n",
       "      <td>1994DRichmond</td>\n",
       "      <td>50</td>\n",
       "      <td>0.00299</td>\n",
       "      <td>0.00084</td>\n",
       "      <td>0.00299</td>\n",
       "      <td>0.00004</td>\n",
       "      <td>0.00187</td>\n",
       "      <td>0.00004</td>\n",
       "      <td>11.52270</td>\n",
       "      <td>0.880798</td>\n",
       "      <td>...</td>\n",
       "      <td>0.0522</td>\n",
       "      <td>146</td>\n",
       "      <td>109.8390</td>\n",
       "      <td>0.988740</td>\n",
       "      <td>0.0567</td>\n",
       "      <td>0.6110</td>\n",
       "      <td>0.0650</td>\n",
       "      <td>0.009</td>\n",
       "      <td>1.0</td>\n",
       "      <td>0.006</td>\n",
       "    </tr>\n",
       "    <tr>\n",
       "      <th>5</th>\n",
       "      <td>1981B</td>\n",
       "      <td>50</td>\n",
       "      <td>0.00317</td>\n",
       "      <td>0.00084</td>\n",
       "      <td>0.00350</td>\n",
       "      <td>0.00001</td>\n",
       "      <td>0.00236</td>\n",
       "      <td>0.00001</td>\n",
       "      <td>11.54160</td>\n",
       "      <td>0.613941</td>\n",
       "      <td>...</td>\n",
       "      <td>0.2973</td>\n",
       "      <td>41</td>\n",
       "      <td>43.2260</td>\n",
       "      <td>0.376420</td>\n",
       "      <td>0.0732</td>\n",
       "      <td>0.5763</td>\n",
       "      <td>0.0206</td>\n",
       "      <td>0.007</td>\n",
       "      <td>1.0</td>\n",
       "      <td>0.013</td>\n",
       "    </tr>\n",
       "    <tr>\n",
       "      <th>6</th>\n",
       "      <td>2013aa</td>\n",
       "      <td>56</td>\n",
       "      <td>0.00331</td>\n",
       "      <td>0.00085</td>\n",
       "      <td>0.00478</td>\n",
       "      <td>0.00015</td>\n",
       "      <td>0.00411</td>\n",
       "      <td>0.00015</td>\n",
       "      <td>11.20740</td>\n",
       "      <td>0.594070</td>\n",
       "      <td>...</td>\n",
       "      <td>0.1580</td>\n",
       "      <td>31</td>\n",
       "      <td>27.5263</td>\n",
       "      <td>0.645500</td>\n",
       "      <td>0.1104</td>\n",
       "      <td>0.5586</td>\n",
       "      <td>0.0298</td>\n",
       "      <td>0.003</td>\n",
       "      <td>1.0</td>\n",
       "      <td>0.003</td>\n",
       "    </tr>\n",
       "    <tr>\n",
       "      <th>7</th>\n",
       "      <td>2013aa</td>\n",
       "      <td>5</td>\n",
       "      <td>0.00331</td>\n",
       "      <td>0.00085</td>\n",
       "      <td>0.00478</td>\n",
       "      <td>0.00015</td>\n",
       "      <td>0.00411</td>\n",
       "      <td>0.00015</td>\n",
       "      <td>11.29980</td>\n",
       "      <td>0.579622</td>\n",
       "      <td>...</td>\n",
       "      <td>0.1190</td>\n",
       "      <td>56</td>\n",
       "      <td>35.0505</td>\n",
       "      <td>0.987280</td>\n",
       "      <td>0.0620</td>\n",
       "      <td>0.5586</td>\n",
       "      <td>0.0727</td>\n",
       "      <td>0.007</td>\n",
       "      <td>1.0</td>\n",
       "      <td>0.003</td>\n",
       "    </tr>\n",
       "    <tr>\n",
       "      <th>8</th>\n",
       "      <td>2017cbv</td>\n",
       "      <td>5</td>\n",
       "      <td>0.00331</td>\n",
       "      <td>0.00085</td>\n",
       "      <td>0.00478</td>\n",
       "      <td>0.00015</td>\n",
       "      <td>0.00411</td>\n",
       "      <td>0.00015</td>\n",
       "      <td>11.14830</td>\n",
       "      <td>0.577815</td>\n",
       "      <td>...</td>\n",
       "      <td>0.0381</td>\n",
       "      <td>94</td>\n",
       "      <td>69.7345</td>\n",
       "      <td>0.971300</td>\n",
       "      <td>0.0580</td>\n",
       "      <td>0.5586</td>\n",
       "      <td>0.0516</td>\n",
       "      <td>0.004</td>\n",
       "      <td>1.0</td>\n",
       "      <td>0.003</td>\n",
       "    </tr>\n",
       "    <tr>\n",
       "      <th>9</th>\n",
       "      <td>2017cbv</td>\n",
       "      <td>18</td>\n",
       "      <td>0.00331</td>\n",
       "      <td>0.00085</td>\n",
       "      <td>0.00478</td>\n",
       "      <td>0.00015</td>\n",
       "      <td>0.00411</td>\n",
       "      <td>0.00015</td>\n",
       "      <td>11.25770</td>\n",
       "      <td>0.577916</td>\n",
       "      <td>...</td>\n",
       "      <td>0.0500</td>\n",
       "      <td>92</td>\n",
       "      <td>45.1690</td>\n",
       "      <td>0.999990</td>\n",
       "      <td>0.0607</td>\n",
       "      <td>0.5586</td>\n",
       "      <td>0.0216</td>\n",
       "      <td>0.003</td>\n",
       "      <td>1.0</td>\n",
       "      <td>0.003</td>\n",
       "    </tr>\n",
       "  </tbody>\n",
       "</table>\n",
       "<p>10 rows × 47 columns</p>\n",
       "</div>"
      ],
      "text/plain": [
       "             CID  IDSURVEY      zHD   zHDERR     zCMB  zCMBERR     zHEL  \\\n",
       "0         2011fe        51  0.00122  0.00084  0.00122  0.00002  0.00082   \n",
       "1         2011fe        56  0.00122  0.00084  0.00122  0.00002  0.00082   \n",
       "2         2012cg        51  0.00256  0.00084  0.00256  0.00002  0.00144   \n",
       "3         2012cg        56  0.00256  0.00084  0.00256  0.00002  0.00144   \n",
       "4  1994DRichmond        50  0.00299  0.00084  0.00299  0.00004  0.00187   \n",
       "5          1981B        50  0.00317  0.00084  0.00350  0.00001  0.00236   \n",
       "6         2013aa        56  0.00331  0.00085  0.00478  0.00015  0.00411   \n",
       "7         2013aa         5  0.00331  0.00085  0.00478  0.00015  0.00411   \n",
       "8        2017cbv         5  0.00331  0.00085  0.00478  0.00015  0.00411   \n",
       "9        2017cbv        18  0.00331  0.00085  0.00478  0.00015  0.00411   \n",
       "\n",
       "   zHELERR  m_b_corr  m_b_corr_err_DIAG  ...  PKMJDERR  NDOF   FITCHI2  \\\n",
       "0  0.00002   9.74571           1.516210  ...    0.1071    36   26.8859   \n",
       "1  0.00002   9.80286           1.517230  ...    0.0579   101   88.3064   \n",
       "2  0.00002  11.47030           0.781906  ...    0.0278   165  233.5000   \n",
       "3  0.00002  11.49190           0.798612  ...    0.0667    55  100.1220   \n",
       "4  0.00004  11.52270           0.880798  ...    0.0522   146  109.8390   \n",
       "5  0.00001  11.54160           0.613941  ...    0.2973    41   43.2260   \n",
       "6  0.00015  11.20740           0.594070  ...    0.1580    31   27.5263   \n",
       "7  0.00015  11.29980           0.579622  ...    0.1190    56   35.0505   \n",
       "8  0.00015  11.14830           0.577815  ...    0.0381    94   69.7345   \n",
       "9  0.00015  11.25770           0.577916  ...    0.0500    92   45.1690   \n",
       "\n",
       "    FITPROB  m_b_corr_err_RAW  m_b_corr_err_VPEC  biasCor_m_b  biasCorErr_m_b  \\\n",
       "0  0.864470            0.0991             1.4960       0.0381           0.005   \n",
       "1  0.812220            0.0971             1.4960      -0.0252           0.003   \n",
       "2  0.000358            0.0399             0.7134       0.0545           0.019   \n",
       "3  0.000193            0.0931             0.7134       0.0622           0.028   \n",
       "4  0.988740            0.0567             0.6110       0.0650           0.009   \n",
       "5  0.376420            0.0732             0.5763       0.0206           0.007   \n",
       "6  0.645500            0.1104             0.5586       0.0298           0.003   \n",
       "7  0.987280            0.0620             0.5586       0.0727           0.007   \n",
       "8  0.971300            0.0580             0.5586       0.0516           0.004   \n",
       "9  0.999990            0.0607             0.5586       0.0216           0.003   \n",
       "\n",
       "   biasCor_m_b_COVSCALE  biasCor_m_b_COVADD  \n",
       "0                   1.0               0.003  \n",
       "1                   1.0               0.004  \n",
       "2                   1.0               0.036  \n",
       "3                   1.0               0.040  \n",
       "4                   1.0               0.006  \n",
       "5                   1.0               0.013  \n",
       "6                   1.0               0.003  \n",
       "7                   1.0               0.003  \n",
       "8                   1.0               0.003  \n",
       "9                   1.0               0.003  \n",
       "\n",
       "[10 rows x 47 columns]"
      ]
     },
     "execution_count": 3,
     "metadata": {},
     "output_type": "execute_result"
    }
   ],
   "source": [
    "df.head(10)"
   ]
  },
  {
   "cell_type": "markdown",
   "metadata": {},
   "source": [
    "We are interested in:\n",
    "\n",
    " - `df['zCMB']` CMB Corrected Redshift.\n",
    " - `df['zCMBERR']` CMB Corrected Redshift Uncertainty.\n",
    " - `df['m_b_corr']` corrected/standardized m_b magnitude.\n",
    " - `df['m_b_corr_err_DIAG']` corrected/standardized m_b magnitude uncertainty as determined from the diagonal of the covariance matrix. WARNING, DO NOT FIT COSMOLOGICAL PARAMETERS WITH THESE UNCERTAINTIES. YOU MUST USE THE FULL COVARIANCE. THIS IS ONLY FOR PLOTTING/VISUAL PURPOSES."
   ]
  },
  {
   "cell_type": "markdown",
   "metadata": {},
   "source": [
    "### The luminosity distance\n",
    "\n",
    "The luminosity distance is a very important notion of distance for observation. It is based on the knowledge of the intrinsic luminosity _L_ of a source, which is therefore called _standard candle_. Type Ia supernovae are standard candles, for example.\n",
    "\n",
    "\n",
    "The luminosity distance in a flat expanding Friedmann-Lemaitre-Robertson-Walker universe is defined as:\n",
    "\n",
    "$$\n",
    "d_{L}(z)=\\frac{c}{H_0}\\left[z+\\frac{1}{2}(1-q_0)z^2-\\frac{1}{6}(3q_0^2+q_0-j_0-1)(z^3)\\right], \n",
    "$$\n",
    "\n",
    "where $H_0$ is the Hubble constant, $q_0$ is a deceleration parameter and $j_0$ is a \"jerk parameter\" (third order derivative parameter).\n",
    "\n",
    "Let's calculate the luminosity distance (up to second order) assuming the value of the Hubble constant $H_0$ as measured by the _SH0ES_ collaboration and the following parameters:"
   ]
  },
  {
   "cell_type": "markdown",
   "metadata": {},
   "source": [
    "We use NumPy to perform vectorized operations and avoid using explicit loops."
   ]
  },
  {
   "cell_type": "code",
   "execution_count": 6,
   "metadata": {},
   "outputs": [
    {
     "name": "stdout",
     "output_type": "stream",
     "text": [
      "(1701,)\n",
      "(1701,)\n"
     ]
    }
   ],
   "source": [
    "# Transform df['m_b_corr'] and df[\"zCMB\"] and  to NumPy array\n",
    "\n",
    "m_data = df['m_b_corr'].to_numpy()\n",
    "z_values = df[\"zCMB\"].to_numpy()\n",
    "print(m_data.shape)\n",
    "print(z_values.shape)"
   ]
  },
  {
   "cell_type": "code",
   "execution_count": 165,
   "metadata": {},
   "outputs": [],
   "source": [
    "# Function to calculate the luminosity distance d_L\n",
    "cc = constants.c/1000.\n",
    "\n",
    "def lum_distance(z,H0,q0,j0):\n",
    "    dL = cc*z*(1+(1-q0)*(z/2)+(3*q0**2+q0-j0-1)*((z**2)/6))/H0\n",
    "    return dL"
   ]
  },
  {
   "cell_type": "markdown",
   "metadata": {},
   "source": [
    "### The apparent magnitude\n",
    "\n",
    "The apparent magnitude $m_B$ of a supernova at redshift $z$ is defined as:\n",
    "\n",
    "$$\n",
    "m_B=5\\log_{10}\\left(\\frac{d_{L}(z)}{1 Mpc}\\right)+25+M_B,\n",
    "$$\n",
    "\n",
    "where $M_B=-19.3$ is the absolute magnitude (the hypothetical apparent magnitude of an object as if it were at a distance of 10 pc). We use the Megaparsec (Mpc) as a more appropriate distance scale for cosmology."
   ]
  },
  {
   "cell_type": "code",
   "execution_count": 166,
   "metadata": {},
   "outputs": [],
   "source": [
    "# Function to calculate the magnitude m_B\n",
    "M_B = -19.3 # Fixing M_B\n",
    "\n",
    "def magnitude(z, H0, q0, j0):\n",
    "    lum_dist = lum_distance(z, H0, q0, j0)\n",
    "    m_B = 5 * np.log10(lum_dist) + 25 + M_B\n",
    "    return m_B"
   ]
  },
  {
   "cell_type": "code",
   "execution_count": 168,
   "metadata": {},
   "outputs": [
    {
     "data": {
      "image/png": "[encoded data removed]",
      "text/plain": [
       "<Figure size 432x288 with 1 Axes>"
      ]
     },
     "metadata": {
      "needs_background": "light"
     },
     "output_type": "display_data"
    }
   ],
   "source": [
    "z = df['zCMB']\n",
    "plt.semilogy(z, lum_distance(z,73,-0.55,1))\n",
    "plt.show()"
   ]
  },
  {
   "cell_type": "markdown",
   "metadata": {},
   "source": [
    "### Chi-square $\\chi^2$ statistic\n",
    "\n",
    "\n",
    "The $\\chi^2$ function defined as\n",
    "\n",
    "$$\n",
    "\\chi^2_{sne}(H_0,q_0,j_0)=\\left[\\mu_{i,data}-\\mu_{model}(z_i)\\right]\\Sigma^{-1}_{sne,ij}\\left[\\mu_{j,data}-\\mu_{model}(z_j)\\right],\n",
    "$$\n",
    "\n",
    "where $\\mu_{i,data}$ and $\\mu_{model}(z_i)$ are the _observed_ and _predicted_ distance moduli at the redshift $z_i$, respectively; $\\Sigma^{-1}_{sne,ij}$ is the supernova covariance matrix from the Pantheon+ SH0ES collaboration (considering both statistical and systematic errors). First, we explore the covariance matrix.\n",
    "\n",
    "### Covariance matrix\n",
    "\n",
    "The format of the covariance (.cov) file is $NxN$ lines, where the first line gives the number of rows/columns in the matrix ($N=1701$). We are interested in the Statistical+Systematic covariance matrix `STAT+SYS`, it includes all the covariance between SNe (and also Cepheid host covariance) due to systematic uncertainties. Let's import the matrix and transform it into a Numpy array format."
   ]
  },
  {
   "cell_type": "code",
   "execution_count": 9,
   "metadata": {},
   "outputs": [],
   "source": [
    "# Load the covariant matrix\n",
    "\n",
    "path = \"/home/olesya/Документы/A_Rabota/Rabota/Cosmological Tensions/Data/Pantheon+SH0ES_STAT+SYS.cov\"\n",
    "cov_matrix = np.loadtxt(path)\n",
    "n_sne = int(cov_matrix[0])\n",
    "cov_matrix = cov_matrix[1:].reshape((n_sne, n_sne))"
   ]
  },
  {
   "cell_type": "code",
   "execution_count": 10,
   "metadata": {},
   "outputs": [
    {
     "data": {
      "text/plain": [
       "(1701, 1701)"
      ]
     },
     "execution_count": 10,
     "metadata": {},
     "output_type": "execute_result"
    }
   ],
   "source": [
    "cov_matrix.shape"
   ]
  },
  {
   "cell_type": "markdown",
   "metadata": {},
   "source": [
    "### Likelihood\n",
    "\n",
    "Through the $\\chi^2$ we define the likelihood:\n",
    "\n",
    "$$\n",
    "\\mathcal{L}_{sne}(H_0,q_0,j_0)=\\mathcal{N}e^{-\\frac{1}{2}\\chi^{2}},\n",
    "$$\n",
    "\n",
    "where $\\mathcal{N}=|2\\pi\\Sigma_{sne}|^{-\\frac{1}{2}}$ is a normalization constant. The likelihood represents the probability of having a dataset given a cosmological model. We are interested in the contrary, i.e.\n",
    "in the probability of having a certain cosmological model given a dataset. This is called **posterior probability**. \n",
    "\n",
    "Let's compute the Gaussian log-likelihood for the _observed_ and _predicted_ apparent magnitude at the redshift $z_i$, respectively. For now, we omit the normalization constant."
   ]
  },
  {
   "cell_type": "code",
   "execution_count": 15,
   "metadata": {},
   "outputs": [],
   "source": [
    "# Calculate the inverse of the covariance matrix  \n",
    "\n",
    "cov_inv = np.linalg.inv(cov_matrix)"
   ]
  },
  {
   "cell_type": "code",
   "execution_count": 169,
   "metadata": {},
   "outputs": [],
   "source": [
    "# Function to compute the logarithm of the likelihood\n",
    "# Input: vector of parameters H0, parameters q_0 and j_0\n",
    "# Output: the value of the likelihood at the specified parameter values\n",
    "\n",
    "def log_likelihood(parameters):\n",
    "    H0, q0, j0 = parameters\n",
    "    m_modelo = magnitude(z_values, H0, q0, j0) #Calculate model magnitudes for observed data\n",
    "    diff = m_data - m_modelo #residuals\n",
    "    diff = np.array(diff)\n",
    "    log_likelihood_values = -0.5 * np.dot(diff, np.dot(diff, cov_inv))\n",
    "    \n",
    "    return log_likelihood_values"
   ]
  },
  {
   "cell_type": "code",
   "execution_count": 170,
   "metadata": {},
   "outputs": [
    {
     "data": {
      "text/plain": [
       "-1094.2658543794344"
      ]
     },
     "execution_count": 170,
     "metadata": {},
     "output_type": "execute_result"
    }
   ],
   "source": [
    "parameters = [73,-0.55,1]\n",
    "log_likelihood(parameters)"
   ]
  },
  {
   "cell_type": "code",
   "execution_count": 171,
   "metadata": {},
   "outputs": [],
   "source": [
    "# Fix the parameters q_0, j_0, H_0\n",
    "\n",
    "q0_fix = -0.55\n",
    "j0_fix = 1.\n",
    "\n",
    "H0_range = np.linspace(65,85,25)\n",
    "#log_likelihood = np.vectorize(log_likelihood)\n",
    "#log_likelihood"
   ]
  },
  {
   "cell_type": "markdown",
   "metadata": {},
   "source": [
    "### Posterior probability \n",
    "\n",
    "In this section we will sample the posterior probability using the algorithm EMCEE to implement the Markov Chain Monte Carlo (MCMC) method. MCMC is a method for fitting models to data. \n",
    "\n",
    "According to Bayes Theorem, the posterior probability is given by\n",
    "\n",
    "$$ \n",
    "P(\\theta|d) = \\frac{P(d|\\theta)P(\\theta)}{P(d)}, \n",
    "$$\n",
    "\n",
    "where:\n",
    "- $\\theta$ is the cosmological parameters and  $d$ is the observed data, or samples. \n",
    "- $P(\\theta|d)$ is the posterior probability for $\\theta$, and it represents our degree of belief about the value of $\\theta$ after we have seen the data $d$. \n",
    "- $P(d|\\theta)=\\mathcal{L}(\\theta)$ is the likelihood function we already encountered. It is the probability of the data given a certain value of the parameters.\n",
    "- $P(\\theta)$ is the prior probability distribution. It represents our degree of belief in the value of $\\theta$ before we see the data (hence the name).\n",
    "- $P(d)$ is a normalizing constant, or the evidence, it ensures that the posterior is normalized to unity:$$ P(d)=\\int d \\theta P(d|\\theta)P(\\theta).$$\n",
    "\n",
    "\n",
    "In our case, the posterior probability for $H_0$, $q_0$ and $j_0$ is given by\n",
    "$$ \n",
    "P(H_0,q_0,j_0|SN) = \\frac{P(H_0)P(q_0)P(j_0)\\mathcal{L}((H_0,q_0,j_0))}{\\mathcal{E}}, \n",
    "$$\n",
    "\n",
    "where $\\mathcal{E}$ is the evidence.\n",
    "\n",
    "From now on, we use logarithm of probabilities to compute the log of posterior probability.\n",
    "\n",
    "The log-prior probability is assumed to be zero if all the parameters are within their bounds and $-\\infty$ if any of the parameters are outside their bounds."
   ]
  },
  {
   "cell_type": "code",
   "execution_count": 184,
   "metadata": {},
   "outputs": [],
   "source": [
    "# Compute the logarithm of the prior probability\n",
    "# Input: H0 vector of parameters\n",
    "# Output: the value of the prior at the specified parameter values\n",
    "\n",
    "def log_uniprior(parameters):\n",
    "    H0, q0, j0 = parameters\n",
    "    if 65 < H0 < 85 and -10 < q0 < 10 and -20 < j0 < 20:\n",
    "        return 0.0\n",
    "    return -np.infty"
   ]
  },
  {
   "cell_type": "code",
   "execution_count": 185,
   "metadata": {},
   "outputs": [
    {
     "data": {
      "text/plain": [
       "0.0"
      ]
     },
     "execution_count": 185,
     "metadata": {},
     "output_type": "execute_result"
    }
   ],
   "source": [
    "parameters = [73,-0.55,1]\n",
    "log_uniprior(parameters)"
   ]
  },
  {
   "cell_type": "markdown",
   "metadata": {},
   "source": [
    "The posterior distribution combines the prior and the likelihood. It outputs negative infinity if the parameters lie outside the range of the prior."
   ]
  },
  {
   "cell_type": "code",
   "execution_count": 186,
   "metadata": {},
   "outputs": [],
   "source": [
    "# Compute log_posterior \n",
    "# Input: vector of parameters H0, parameters q_0 and j_0\n",
    "# Output: the value of the posterior at the specified parameter values\n",
    "\n",
    "def log_posterior(parameters):\n",
    "    H0, q0, j0 = parameters\n",
    "    lu = log_uniprior(parameters)\n",
    "    if not np.isfinite(lu):\n",
    "        return -np.inf\n",
    "    return log_likelihood(parameters) + lu"
   ]
  },
  {
   "cell_type": "code",
   "execution_count": 187,
   "metadata": {},
   "outputs": [
    {
     "data": {
      "text/plain": [
       "-1094.2658543794344"
      ]
     },
     "execution_count": 187,
     "metadata": {},
     "output_type": "execute_result"
    }
   ],
   "source": [
    "parameters = [73,-0.55,1]\n",
    "log_posterior(parameters)"
   ]
  },
  {
   "cell_type": "markdown",
   "metadata": {},
   "source": [
    "The purpose of a Markov chain Monte Carlo algorithm is to construct a sequence of points (or “samples”) in parameter space (called “a chain”). The crucial property of the chain is that the density of samples is proportional to the posterior pdf. This allows to construct a map of the posterior distribution.\n",
    "\n",
    "To sample the posterior we use `emcee`, an open-source sampler for MCMC, and for analyzing the chains we use `getdist`. `emcee` requires a function that returns the log-posterior probability.\n",
    "\n",
    "First, we define two key variables: `ndim` and `nwalkers`. The `nwalkers` variable is the number of \"walkers\" (different Markov Chains that run in parallel). "
   ]
  },
  {
   "cell_type": "code",
   "execution_count": 191,
   "metadata": {},
   "outputs": [
    {
     "name": "stderr",
     "output_type": "stream",
     "text": [
      "100%|██████████| 20000/20000 [09:14<00:00, 36.09it/s]"
     ]
    },
    {
     "name": "stdout",
     "output_type": "stream",
     "text": [
      "Samples shape: (20000, 10, 3)\n"
     ]
    },
    {
     "name": "stderr",
     "output_type": "stream",
     "text": [
      "\n"
     ]
    }
   ],
   "source": [
    "# Set initial parameters\n",
    "initial_parameters = [73.04, q0_fix, j0_fix]  \n",
    "\n",
    "nwalkers = 10\n",
    "nsteps = 20000\n",
    "\n",
    "# Generate initial values for each walker\n",
    "initial_positions = [initial_parameters + 1e-4*np.random.randn(3) for _ in range(nwalkers)]\n",
    "\n",
    "# Initialize the sampler\n",
    "sampler = emcee.EnsembleSampler(nwalkers, len(initial_parameters), log_posterior)\n",
    "sampler.run_mcmc(initial_positions, nsteps, progress=True)\n",
    "\n",
    "# Get Markov chains\n",
    "samples = sampler.get_chain()\n",
    "\n",
    "# Print the results\n",
    "print(\"Samples shape:\", samples.shape)\n"
   ]
  },
  {
   "cell_type": "code",
   "execution_count": 198,
   "metadata": {},
   "outputs": [
    {
     "name": "stdout",
     "output_type": "stream",
     "text": [
      "Removed no burn in\n"
     ]
    },
    {
     "data": {
      "image/png": "[encoded data removed]",
      "text/plain": [
       "<Figure size 432x432 with 6 Axes>"
      ]
     },
     "metadata": {
      "needs_background": "light"
     },
     "output_type": "display_data"
    }
   ],
   "source": [
    "# Get the samples\n",
    "samples = sampler.get_chain(discard=100, thin=15, flat=True) \n",
    "\n",
    "# Set labels for parameters\n",
    "param_names = ['H0','q0','j0']\n",
    "\n",
    "# Create an MCSamples object with the samples\n",
    "mcsamples = getdist.MCSamples(samples=samples, names=param_names, labels=param_names)\n",
    "\n",
    "# Plot the triplot\n",
    "g = plots.get_subplot_plotter()\n",
    "g.settings.figure_legend_frame = False\n",
    "g.settings.alpha_filled_add=0.4\n",
    "g.settings.title_limit_fontsize = 12\n",
    "g.triangle_plot(mcsamples, filled=True, line_args=[{'lw':2, 'color':'darkblue'}], \n",
    "                contour_colors=['darkblue'], title_limit=1)\n",
    "\n",
    "plt.show()"
   ]
  },
  {
   "cell_type": "markdown",
   "metadata": {},
   "source": [
    "## References\n",
    "\n",
    "[1] David Camarena and Valerio Marra, _Local determination of the Hubble constant and the deceleration parameter_, Phys. Rev. Research 2, 013028 (2020).\n",
    "\n",
    "\n",
    "[2] Oliver Piattella, _Lecture Notes in Cosmology_, Springer Cham (2018). \n",
    "\n",
    "\n",
    "[3] D. Foreman-Mackey, D. W. Hogg, D. Lang, and J. Goodman, _emcee: The MCMC Hammer_, Publ. Astron. Soc. Pac. 125 (2013) 306–312, https://arxiv.org/abs/1202.3665\n",
    "\n",
    "\n",
    "[4] A. Lewis, _GetDist: a Python package for analysing Monte Carlo samples_, arXiv:1910.13970, https://getdist.readthedocs.io."
   ]
  }
 ],
 "metadata": {
  "kernelspec": {
   "display_name": "Python 3",
   "language": "python",
   "name": "python3"
  },
  "language_info": {
   "codemirror_mode": {
    "name": "ipython",
    "version": 3
   },
   "file_extension": ".py",
   "mimetype": "text/x-python",
   "name": "python",
   "nbconvert_exporter": "python",
   "pygments_lexer": "ipython3",
   "version": "3.8.5"
  }
 },
 "nbformat": 4,
 "nbformat_minor": 4
}
