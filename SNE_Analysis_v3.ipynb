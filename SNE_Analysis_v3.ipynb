{
 "cells": [
  {
   "cell_type": "code",
   "execution_count": 2,
   "metadata": {},
   "outputs": [],
   "source": [
    "import pandas as pd\n",
    "import numpy as np\n",
    "import math\n",
    "import matplotlib.pyplot as plt\n",
    "\n",
    "from scipy import constants\n",
    "\n",
    "# For analysing Monte Carlo samples\n",
    "import emcee\n",
    "from emcee import EnsembleSampler\n",
    "\n",
    "# For plotting Monte Carlo samples\n",
    "from getdist import plots"
   ]
  },
  {
   "cell_type": "code",
   "execution_count": 3,
   "metadata": {},
   "outputs": [
    {
     "data": {
      "text/plain": [
       "(1701, 47)"
      ]
     },
     "execution_count": 3,
     "metadata": {},
     "output_type": "execute_result"
    }
   ],
   "source": [
    "file_path = \"/home/olesya/Документы/A_Rabota/Rabota/Cosmological Tensions/Data/Pantheon+SH0ES.dat\"\n",
    "df = pd.read_csv(file_path, delimiter='\\s+')\n",
    "\n",
    "df.shape"
   ]
  },
  {
   "cell_type": "code",
   "execution_count": 4,
   "metadata": {},
   "outputs": [
    {
     "data": {
      "text/html": [
       "<div>\n",
       "<style scoped>\n",
       "    .dataframe tbody tr th:only-of-type {\n",
       "        vertical-align: middle;\n",
       "    }\n",
       "\n",
       "    .dataframe tbody tr th {\n",
       "        vertical-align: top;\n",
       "    }\n",
       "\n",
       "    .dataframe thead th {\n",
       "        text-align: right;\n",
       "    }\n",
       "</style>\n",
       "<table border=\"1\" class=\"dataframe\">\n",
       "  <thead>\n",
       "    <tr style=\"text-align: right;\">\n",
       "      <th></th>\n",
       "      <th>CID</th>\n",
       "      <th>IDSURVEY</th>\n",
       "      <th>zHD</th>\n",
       "      <th>zHDERR</th>\n",
       "      <th>zCMB</th>\n",
       "      <th>zCMBERR</th>\n",
       "      <th>zHEL</th>\n",
       "      <th>zHELERR</th>\n",
       "      <th>m_b_corr</th>\n",
       "      <th>m_b_corr_err_DIAG</th>\n",
       "      <th>...</th>\n",
       "      <th>PKMJDERR</th>\n",
       "      <th>NDOF</th>\n",
       "      <th>FITCHI2</th>\n",
       "      <th>FITPROB</th>\n",
       "      <th>m_b_corr_err_RAW</th>\n",
       "      <th>m_b_corr_err_VPEC</th>\n",
       "      <th>biasCor_m_b</th>\n",
       "      <th>biasCorErr_m_b</th>\n",
       "      <th>biasCor_m_b_COVSCALE</th>\n",
       "      <th>biasCor_m_b_COVADD</th>\n",
       "    </tr>\n",
       "  </thead>\n",
       "  <tbody>\n",
       "    <tr>\n",
       "      <th>0</th>\n",
       "      <td>2011fe</td>\n",
       "      <td>51</td>\n",
       "      <td>0.00122</td>\n",
       "      <td>0.00084</td>\n",
       "      <td>0.00122</td>\n",
       "      <td>0.00002</td>\n",
       "      <td>0.00082</td>\n",
       "      <td>0.00002</td>\n",
       "      <td>9.74571</td>\n",
       "      <td>1.516210</td>\n",
       "      <td>...</td>\n",
       "      <td>0.1071</td>\n",
       "      <td>36</td>\n",
       "      <td>26.8859</td>\n",
       "      <td>0.864470</td>\n",
       "      <td>0.0991</td>\n",
       "      <td>1.4960</td>\n",
       "      <td>0.0381</td>\n",
       "      <td>0.005</td>\n",
       "      <td>1.0</td>\n",
       "      <td>0.003</td>\n",
       "    </tr>\n",
       "    <tr>\n",
       "      <th>1</th>\n",
       "      <td>2011fe</td>\n",
       "      <td>56</td>\n",
       "      <td>0.00122</td>\n",
       "      <td>0.00084</td>\n",
       "      <td>0.00122</td>\n",
       "      <td>0.00002</td>\n",
       "      <td>0.00082</td>\n",
       "      <td>0.00002</td>\n",
       "      <td>9.80286</td>\n",
       "      <td>1.517230</td>\n",
       "      <td>...</td>\n",
       "      <td>0.0579</td>\n",
       "      <td>101</td>\n",
       "      <td>88.3064</td>\n",
       "      <td>0.812220</td>\n",
       "      <td>0.0971</td>\n",
       "      <td>1.4960</td>\n",
       "      <td>-0.0252</td>\n",
       "      <td>0.003</td>\n",
       "      <td>1.0</td>\n",
       "      <td>0.004</td>\n",
       "    </tr>\n",
       "    <tr>\n",
       "      <th>2</th>\n",
       "      <td>2012cg</td>\n",
       "      <td>51</td>\n",
       "      <td>0.00256</td>\n",
       "      <td>0.00084</td>\n",
       "      <td>0.00256</td>\n",
       "      <td>0.00002</td>\n",
       "      <td>0.00144</td>\n",
       "      <td>0.00002</td>\n",
       "      <td>11.47030</td>\n",
       "      <td>0.781906</td>\n",
       "      <td>...</td>\n",
       "      <td>0.0278</td>\n",
       "      <td>165</td>\n",
       "      <td>233.5000</td>\n",
       "      <td>0.000358</td>\n",
       "      <td>0.0399</td>\n",
       "      <td>0.7134</td>\n",
       "      <td>0.0545</td>\n",
       "      <td>0.019</td>\n",
       "      <td>1.0</td>\n",
       "      <td>0.036</td>\n",
       "    </tr>\n",
       "    <tr>\n",
       "      <th>3</th>\n",
       "      <td>2012cg</td>\n",
       "      <td>56</td>\n",
       "      <td>0.00256</td>\n",
       "      <td>0.00084</td>\n",
       "      <td>0.00256</td>\n",
       "      <td>0.00002</td>\n",
       "      <td>0.00144</td>\n",
       "      <td>0.00002</td>\n",
       "      <td>11.49190</td>\n",
       "      <td>0.798612</td>\n",
       "      <td>...</td>\n",
       "      <td>0.0667</td>\n",
       "      <td>55</td>\n",
       "      <td>100.1220</td>\n",
       "      <td>0.000193</td>\n",
       "      <td>0.0931</td>\n",
       "      <td>0.7134</td>\n",
       "      <td>0.0622</td>\n",
       "      <td>0.028</td>\n",
       "      <td>1.0</td>\n",
       "      <td>0.040</td>\n",
       "    </tr>\n",
       "    <tr>\n",
       "      <th>4</th>\n",
       "      <td>1994DRichmond</td>\n",
       "      <td>50</td>\n",
       "      <td>0.00299</td>\n",
       "      <td>0.00084</td>\n",
       "      <td>0.00299</td>\n",
       "      <td>0.00004</td>\n",
       "      <td>0.00187</td>\n",
       "      <td>0.00004</td>\n",
       "      <td>11.52270</td>\n",
       "      <td>0.880798</td>\n",
       "      <td>...</td>\n",
       "      <td>0.0522</td>\n",
       "      <td>146</td>\n",
       "      <td>109.8390</td>\n",
       "      <td>0.988740</td>\n",
       "      <td>0.0567</td>\n",
       "      <td>0.6110</td>\n",
       "      <td>0.0650</td>\n",
       "      <td>0.009</td>\n",
       "      <td>1.0</td>\n",
       "      <td>0.006</td>\n",
       "    </tr>\n",
       "    <tr>\n",
       "      <th>5</th>\n",
       "      <td>1981B</td>\n",
       "      <td>50</td>\n",
       "      <td>0.00317</td>\n",
       "      <td>0.00084</td>\n",
       "      <td>0.00350</td>\n",
       "      <td>0.00001</td>\n",
       "      <td>0.00236</td>\n",
       "      <td>0.00001</td>\n",
       "      <td>11.54160</td>\n",
       "      <td>0.613941</td>\n",
       "      <td>...</td>\n",
       "      <td>0.2973</td>\n",
       "      <td>41</td>\n",
       "      <td>43.2260</td>\n",
       "      <td>0.376420</td>\n",
       "      <td>0.0732</td>\n",
       "      <td>0.5763</td>\n",
       "      <td>0.0206</td>\n",
       "      <td>0.007</td>\n",
       "      <td>1.0</td>\n",
       "      <td>0.013</td>\n",
       "    </tr>\n",
       "    <tr>\n",
       "      <th>6</th>\n",
       "      <td>2013aa</td>\n",
       "      <td>56</td>\n",
       "      <td>0.00331</td>\n",
       "      <td>0.00085</td>\n",
       "      <td>0.00478</td>\n",
       "      <td>0.00015</td>\n",
       "      <td>0.00411</td>\n",
       "      <td>0.00015</td>\n",
       "      <td>11.20740</td>\n",
       "      <td>0.594070</td>\n",
       "      <td>...</td>\n",
       "      <td>0.1580</td>\n",
       "      <td>31</td>\n",
       "      <td>27.5263</td>\n",
       "      <td>0.645500</td>\n",
       "      <td>0.1104</td>\n",
       "      <td>0.5586</td>\n",
       "      <td>0.0298</td>\n",
       "      <td>0.003</td>\n",
       "      <td>1.0</td>\n",
       "      <td>0.003</td>\n",
       "    </tr>\n",
       "    <tr>\n",
       "      <th>7</th>\n",
       "      <td>2013aa</td>\n",
       "      <td>5</td>\n",
       "      <td>0.00331</td>\n",
       "      <td>0.00085</td>\n",
       "      <td>0.00478</td>\n",
       "      <td>0.00015</td>\n",
       "      <td>0.00411</td>\n",
       "      <td>0.00015</td>\n",
       "      <td>11.29980</td>\n",
       "      <td>0.579622</td>\n",
       "      <td>...</td>\n",
       "      <td>0.1190</td>\n",
       "      <td>56</td>\n",
       "      <td>35.0505</td>\n",
       "      <td>0.987280</td>\n",
       "      <td>0.0620</td>\n",
       "      <td>0.5586</td>\n",
       "      <td>0.0727</td>\n",
       "      <td>0.007</td>\n",
       "      <td>1.0</td>\n",
       "      <td>0.003</td>\n",
       "    </tr>\n",
       "    <tr>\n",
       "      <th>8</th>\n",
       "      <td>2017cbv</td>\n",
       "      <td>5</td>\n",
       "      <td>0.00331</td>\n",
       "      <td>0.00085</td>\n",
       "      <td>0.00478</td>\n",
       "      <td>0.00015</td>\n",
       "      <td>0.00411</td>\n",
       "      <td>0.00015</td>\n",
       "      <td>11.14830</td>\n",
       "      <td>0.577815</td>\n",
       "      <td>...</td>\n",
       "      <td>0.0381</td>\n",
       "      <td>94</td>\n",
       "      <td>69.7345</td>\n",
       "      <td>0.971300</td>\n",
       "      <td>0.0580</td>\n",
       "      <td>0.5586</td>\n",
       "      <td>0.0516</td>\n",
       "      <td>0.004</td>\n",
       "      <td>1.0</td>\n",
       "      <td>0.003</td>\n",
       "    </tr>\n",
       "    <tr>\n",
       "      <th>9</th>\n",
       "      <td>2017cbv</td>\n",
       "      <td>18</td>\n",
       "      <td>0.00331</td>\n",
       "      <td>0.00085</td>\n",
       "      <td>0.00478</td>\n",
       "      <td>0.00015</td>\n",
       "      <td>0.00411</td>\n",
       "      <td>0.00015</td>\n",
       "      <td>11.25770</td>\n",
       "      <td>0.577916</td>\n",
       "      <td>...</td>\n",
       "      <td>0.0500</td>\n",
       "      <td>92</td>\n",
       "      <td>45.1690</td>\n",
       "      <td>0.999990</td>\n",
       "      <td>0.0607</td>\n",
       "      <td>0.5586</td>\n",
       "      <td>0.0216</td>\n",
       "      <td>0.003</td>\n",
       "      <td>1.0</td>\n",
       "      <td>0.003</td>\n",
       "    </tr>\n",
       "  </tbody>\n",
       "</table>\n",
       "<p>10 rows × 47 columns</p>\n",
       "</div>"
      ],
      "text/plain": [
       "             CID  IDSURVEY      zHD   zHDERR     zCMB  zCMBERR     zHEL  \\\n",
       "0         2011fe        51  0.00122  0.00084  0.00122  0.00002  0.00082   \n",
       "1         2011fe        56  0.00122  0.00084  0.00122  0.00002  0.00082   \n",
       "2         2012cg        51  0.00256  0.00084  0.00256  0.00002  0.00144   \n",
       "3         2012cg        56  0.00256  0.00084  0.00256  0.00002  0.00144   \n",
       "4  1994DRichmond        50  0.00299  0.00084  0.00299  0.00004  0.00187   \n",
       "5          1981B        50  0.00317  0.00084  0.00350  0.00001  0.00236   \n",
       "6         2013aa        56  0.00331  0.00085  0.00478  0.00015  0.00411   \n",
       "7         2013aa         5  0.00331  0.00085  0.00478  0.00015  0.00411   \n",
       "8        2017cbv         5  0.00331  0.00085  0.00478  0.00015  0.00411   \n",
       "9        2017cbv        18  0.00331  0.00085  0.00478  0.00015  0.00411   \n",
       "\n",
       "   zHELERR  m_b_corr  m_b_corr_err_DIAG  ...  PKMJDERR  NDOF   FITCHI2  \\\n",
       "0  0.00002   9.74571           1.516210  ...    0.1071    36   26.8859   \n",
       "1  0.00002   9.80286           1.517230  ...    0.0579   101   88.3064   \n",
       "2  0.00002  11.47030           0.781906  ...    0.0278   165  233.5000   \n",
       "3  0.00002  11.49190           0.798612  ...    0.0667    55  100.1220   \n",
       "4  0.00004  11.52270           0.880798  ...    0.0522   146  109.8390   \n",
       "5  0.00001  11.54160           0.613941  ...    0.2973    41   43.2260   \n",
       "6  0.00015  11.20740           0.594070  ...    0.1580    31   27.5263   \n",
       "7  0.00015  11.29980           0.579622  ...    0.1190    56   35.0505   \n",
       "8  0.00015  11.14830           0.577815  ...    0.0381    94   69.7345   \n",
       "9  0.00015  11.25770           0.577916  ...    0.0500    92   45.1690   \n",
       "\n",
       "    FITPROB  m_b_corr_err_RAW  m_b_corr_err_VPEC  biasCor_m_b  biasCorErr_m_b  \\\n",
       "0  0.864470            0.0991             1.4960       0.0381           0.005   \n",
       "1  0.812220            0.0971             1.4960      -0.0252           0.003   \n",
       "2  0.000358            0.0399             0.7134       0.0545           0.019   \n",
       "3  0.000193            0.0931             0.7134       0.0622           0.028   \n",
       "4  0.988740            0.0567             0.6110       0.0650           0.009   \n",
       "5  0.376420            0.0732             0.5763       0.0206           0.007   \n",
       "6  0.645500            0.1104             0.5586       0.0298           0.003   \n",
       "7  0.987280            0.0620             0.5586       0.0727           0.007   \n",
       "8  0.971300            0.0580             0.5586       0.0516           0.004   \n",
       "9  0.999990            0.0607             0.5586       0.0216           0.003   \n",
       "\n",
       "   biasCor_m_b_COVSCALE  biasCor_m_b_COVADD  \n",
       "0                   1.0               0.003  \n",
       "1                   1.0               0.004  \n",
       "2                   1.0               0.036  \n",
       "3                   1.0               0.040  \n",
       "4                   1.0               0.006  \n",
       "5                   1.0               0.013  \n",
       "6                   1.0               0.003  \n",
       "7                   1.0               0.003  \n",
       "8                   1.0               0.003  \n",
       "9                   1.0               0.003  \n",
       "\n",
       "[10 rows x 47 columns]"
      ]
     },
     "execution_count": 4,
     "metadata": {},
     "output_type": "execute_result"
    }
   ],
   "source": [
    "df.head(10)"
   ]
  },
  {
   "cell_type": "code",
   "execution_count": 5,
   "metadata": {},
   "outputs": [
    {
     "data": {
      "text/plain": [
       "CID                     0\n",
       "IDSURVEY                0\n",
       "zHD                     0\n",
       "zHDERR                  0\n",
       "zCMB                    0\n",
       "zCMBERR                 0\n",
       "zHEL                    0\n",
       "zHELERR                 0\n",
       "m_b_corr                0\n",
       "m_b_corr_err_DIAG       0\n",
       "MU_SH0ES                0\n",
       "MU_SH0ES_ERR_DIAG       0\n",
       "CEPH_DIST               0\n",
       "IS_CALIBRATOR           0\n",
       "USED_IN_SH0ES_HF        0\n",
       "c                       0\n",
       "cERR                    0\n",
       "x1                      0\n",
       "x1ERR                   0\n",
       "mB                      0\n",
       "mBERR                   0\n",
       "x0                      0\n",
       "x0ERR                   0\n",
       "COV_x1_c                0\n",
       "COV_x1_x0               0\n",
       "COV_c_x0                0\n",
       "RA                      0\n",
       "DEC                     0\n",
       "HOST_RA                 0\n",
       "HOST_DEC                0\n",
       "HOST_ANGSEP             0\n",
       "VPEC                    0\n",
       "VPECERR                 0\n",
       "MWEBV                   0\n",
       "HOST_LOGMASS            0\n",
       "HOST_LOGMASS_ERR        0\n",
       "PKMJD                   0\n",
       "PKMJDERR                0\n",
       "NDOF                    0\n",
       "FITCHI2                 0\n",
       "FITPROB                 0\n",
       "m_b_corr_err_RAW        0\n",
       "m_b_corr_err_VPEC       0\n",
       "biasCor_m_b             0\n",
       "biasCorErr_m_b          0\n",
       "biasCor_m_b_COVSCALE    0\n",
       "biasCor_m_b_COVADD      0\n",
       "dtype: int64"
      ]
     },
     "execution_count": 5,
     "metadata": {},
     "output_type": "execute_result"
    }
   ],
   "source": [
    "#  Verify the number of missing values in each column in this dataset\n",
    "df.isna().sum()"
   ]
  },
  {
   "cell_type": "code",
   "execution_count": 6,
   "metadata": {},
   "outputs": [
    {
     "data": {
      "text/plain": [
       "CID                     0\n",
       "IDSURVEY                0\n",
       "zHD                     0\n",
       "zHDERR                  0\n",
       "zCMB                    0\n",
       "zCMBERR                 0\n",
       "zHEL                    0\n",
       "zHELERR                 0\n",
       "m_b_corr                0\n",
       "m_b_corr_err_DIAG       0\n",
       "MU_SH0ES                0\n",
       "MU_SH0ES_ERR_DIAG       0\n",
       "CEPH_DIST               0\n",
       "IS_CALIBRATOR           0\n",
       "USED_IN_SH0ES_HF        0\n",
       "c                       0\n",
       "cERR                    0\n",
       "x1                      0\n",
       "x1ERR                   0\n",
       "mB                      0\n",
       "mBERR                   0\n",
       "x0                      0\n",
       "x0ERR                   0\n",
       "COV_x1_c                0\n",
       "COV_x1_x0               0\n",
       "COV_c_x0                0\n",
       "RA                      0\n",
       "DEC                     0\n",
       "HOST_RA                 0\n",
       "HOST_DEC                0\n",
       "HOST_ANGSEP             0\n",
       "VPEC                    0\n",
       "VPECERR                 0\n",
       "MWEBV                   0\n",
       "HOST_LOGMASS            0\n",
       "HOST_LOGMASS_ERR        0\n",
       "PKMJD                   0\n",
       "PKMJDERR                0\n",
       "NDOF                    0\n",
       "FITCHI2                 0\n",
       "FITPROB                 0\n",
       "m_b_corr_err_RAW        0\n",
       "m_b_corr_err_VPEC       0\n",
       "biasCor_m_b             0\n",
       "biasCorErr_m_b          0\n",
       "biasCor_m_b_COVSCALE    0\n",
       "biasCor_m_b_COVADD      0\n",
       "dtype: int64"
      ]
     },
     "execution_count": 6,
     "metadata": {},
     "output_type": "execute_result"
    }
   ],
   "source": [
    "df.isnull().sum()"
   ]
  },
  {
   "cell_type": "markdown",
   "metadata": {},
   "source": [
    "We are interested in:\n",
    "\n",
    " - `df['zCMB']` CMB Corrected Redshift.\n",
    " - `df['zCMBERR']` CMB Corrected Redshift Uncertainty.\n",
    " - `df['m_b_corr']` corrected/standardized m_b magnitude.\n",
    " - `df['m_b_corr_err_DIAG']` corrected/standardized m_b magnitude uncertainty as determined from the diagonal of the covariance matrix. WARNING, DO NOT FIT COSMOLOGICAL PARAMETERS WITH THESE UNCERTAINTIES. YOU MUST USE THE FULL COVARIANCE. THIS IS ONLY FOR PLOTTING/VISUAL PURPOSES."
   ]
  },
  {
   "cell_type": "markdown",
   "metadata": {},
   "source": [
    "## MCMC analysis using type Ia supernovae data\n",
    "\n",
    "\n",
    "### The luminosity distance\n",
    "\n",
    "The luminosity distance is a very important notion of distance for observation. It is based on the knowledge of the intrinsic luminosity _L_ of a source, which is therefore called _standard candle_. Type Ia supernovae are standard candles, for example.\n",
    "\n",
    "\n",
    "The luminosity distance in a flat expanding Friedmann-Lemaitre-Robertson-Walker universe is defined as:\n",
    "\n",
    "$$\n",
    "d(z)=\\frac{c}{H_0}\\left[z+\\frac{1}{2}(1-q_0)z^2-\\frac{1}{6}(3q_0^2+q_0-j_0-1)(z^3)\\right], \n",
    "$$\n",
    "\n",
    "where $H_0$ is the Hubble constant, $q_0$ is a deceleration parameter and $j_0$ is a \"jerk parameter\" (third order derivative parameter).\n",
    "\n",
    "Let's calculate the luminosity distance (up to second order) assuming the value of the Hubble constant $H_0$ as measured by the _SH0ES_ collaboration and the following parameters:"
   ]
  },
  {
   "cell_type": "markdown",
   "metadata": {},
   "source": [
    "We use NumPy to perform vectorized operations and avoid using explicit loops."
   ]
  },
  {
   "cell_type": "code",
   "execution_count": 12,
   "metadata": {},
   "outputs": [
    {
     "data": {
      "text/plain": [
       "array([1.22000e-03, 1.22000e-03, 2.56000e-03, ..., 1.80111e+00,\n",
       "       1.91160e+00, 2.26130e+00])"
      ]
     },
     "execution_count": 12,
     "metadata": {},
     "output_type": "execute_result"
    }
   ],
   "source": [
    "# Transform df[\"zCMB\"] to NumPy array\n",
    "\n",
    "z_values = df[\"zCMB\"].to_numpy()\n",
    "z_values"
   ]
  },
  {
   "cell_type": "code",
   "execution_count": 13,
   "metadata": {},
   "outputs": [
    {
     "data": {
      "text/plain": [
       "(1701,)"
      ]
     },
     "execution_count": 13,
     "metadata": {},
     "output_type": "execute_result"
    }
   ],
   "source": [
    "z_values.shape"
   ]
  },
  {
   "cell_type": "code",
   "execution_count": 14,
   "metadata": {},
   "outputs": [],
   "source": [
    "# Function to calculate the luminosity distance\n",
    "cc = constants.c/1000.\n",
    "\n",
    "def lum_distance(z,H0,q0,j0):\n",
    "    return cc*z*(1+(1-q0)*(z/2)-(3*q0**2+q0-j0-1)*(z**2))/H0"
   ]
  },
  {
   "cell_type": "markdown",
   "metadata": {},
   "source": [
    "### The apparent magnitude\n",
    "\n",
    "The apparent magnitude $m_B$ of a supernova at redshift $z$ is defined as:\n",
    "\n",
    "$$\n",
    "m_B=5\\log_{10}\\left(\\frac{d(z)}{1 Mpc}\\right)+25+M_B,\n",
    "$$\n",
    "\n",
    "where $M_B=-19.3$ is the absolute magnitude (the hypothetical apparent magnitude of an object as if it were at a distance of 10 pc). We use the Megaparsec (Mpc) as a more appropriate distance scale for cosmology."
   ]
  },
  {
   "cell_type": "code",
   "execution_count": 75,
   "metadata": {},
   "outputs": [],
   "source": [
    "# Function to calculate the magnitude m_B\n",
    "M_B = -19.3\n",
    "\n",
    "#def magnitude(z, H0, q0, j0):\n",
    "#    return 5 * np.log10(lum_distance(z,H0,q0,j0)) + 25 + M_B \n",
    "\n",
    "def magnitude(z, H0, q0, j0):\n",
    "    lum_dist = lum_distance(z, H0, q0, j0)\n",
    "    \n",
    "    if lum_dist <= 0:\n",
    "        return -np.inf  # Returns negative infinity to indicate probability close to zero\n",
    "    else:\n",
    "        return 5 * np.log10(lum_dist) + 25 + M_B"
   ]
  },
  {
   "cell_type": "markdown",
   "metadata": {},
   "source": [
    "### Chi-square $\\chi^2$ statistic\n",
    "\n",
    "\n",
    "The $\\chi^2$ function defined as\n",
    "\n",
    "$$\n",
    "\\chi^2_{sne}(H_0,q_0,j_0)=\\left[\\mu_{i,data}-\\mu_{model}(z_i)\\right]\\Sigma^{-1}_{sne,ij}\\left[\\mu_{j,data}-\\mu_{model}(z_j)\\right],\n",
    "$$\n",
    "\n",
    "where $\\mu_{i,data}$ and $\\mu_{model}(z_i)$ are the _observed_ and _predicted_ distance moduli at the redshift $z_i$, respectively; $\\Sigma^{-1}_{sne,ij}$ is the supernova covariance matrix from the Pantheon+ SH0ES collaboration (considering both statistical and systematic errors). First, we explore the covariance matrix.\n",
    "\n",
    "### Covariance matrix\n",
    "\n",
    "The format of the covariance (.cov) file is $NxN$ lines, where the first line gives the number of rows/columns in the matrix ($N=1701$). We are interested in the Statistical+Systematic covariance matrix `STAT+SYS`, it includes all the covariance between SNe (and also Cepheid host covariance) due to systematic uncertainties. Let's import the matrix and transform it into a Numpy array format."
   ]
  },
  {
   "cell_type": "code",
   "execution_count": 11,
   "metadata": {},
   "outputs": [],
   "source": [
    "# Load the covariant matrix\n",
    "\n",
    "path = \"/home/olesya/Документы/A_Rabota/Rabota/Cosmological Tensions/Data/Pantheon+SH0ES_STAT+SYS.cov\"\n",
    "cov_matrix = np.loadtxt(path)\n",
    "n_sne = int(cov_matrix[0])\n",
    "cov_matrix = cov_matrix[1:].reshape((n_sne, n_sne))"
   ]
  },
  {
   "cell_type": "code",
   "execution_count": 16,
   "metadata": {},
   "outputs": [
    {
     "data": {
      "text/plain": [
       "(1701, 1701)"
      ]
     },
     "execution_count": 16,
     "metadata": {},
     "output_type": "execute_result"
    }
   ],
   "source": [
    "cov_matrix.shape"
   ]
  },
  {
   "cell_type": "code",
   "execution_count": 17,
   "metadata": {},
   "outputs": [
    {
     "data": {
      "text/plain": [
       "array([ 3.177108e-02,  5.754430e-03,  3.100600e-04, ...,  2.945500e-04,\n",
       "       -8.595000e-05, -2.701100e-04])"
      ]
     },
     "execution_count": 17,
     "metadata": {},
     "output_type": "execute_result"
    }
   ],
   "source": [
    "cov_matrix[0]"
   ]
  },
  {
   "cell_type": "code",
   "execution_count": 13,
   "metadata": {},
   "outputs": [
    {
     "data": {
      "text/plain": [
       "0"
      ]
     },
     "execution_count": 13,
     "metadata": {},
     "output_type": "execute_result"
    }
   ],
   "source": [
    "# Check for NaN elements\n",
    "np.isnan(cov_matrix).sum()"
   ]
  },
  {
   "cell_type": "code",
   "execution_count": 14,
   "metadata": {},
   "outputs": [
    {
     "data": {
      "text/plain": [
       "0"
      ]
     },
     "execution_count": 14,
     "metadata": {},
     "output_type": "execute_result"
    }
   ],
   "source": [
    "# Check for +/- ininite values\n",
    "np.isinf(cov_matrix).sum()"
   ]
  },
  {
   "cell_type": "code",
   "execution_count": 15,
   "metadata": {},
   "outputs": [
    {
     "data": {
      "text/plain": [
       "-0.03172511"
      ]
     },
     "execution_count": 15,
     "metadata": {},
     "output_type": "execute_result"
    }
   ],
   "source": [
    "np.min(cov_matrix)"
   ]
  },
  {
   "cell_type": "markdown",
   "metadata": {},
   "source": [
    "### Likelihood\n",
    "\n",
    "Through the $\\chi^2$ we define the likelihood:\n",
    "\n",
    "$$\n",
    "\\mathcal{L}_{sne}(H_0,q_0,j_0)=\\mathcal{N}e^{-\\frac{1}{2}\\chi^{2}},\n",
    "$$\n",
    "\n",
    "where $\\mathcal{N}=|2\\pi\\Sigma_{sne}|^{-\\frac{1}{2}}$ is a normalization constant. The likelihood represents the probability of having a dataset given a cosmological model. We are interested in the contrary, i.e.\n",
    "in the probability of having a certain cosmological model given a dataset. This is called **posterior probability**. \n",
    "\n",
    "Let's compute the Gaussian log-likelihood for the _observed_ and _predicted_ apparent magnitude at the redshift $z_i$, respectively. For now, we omit the normalization constant."
   ]
  },
  {
   "cell_type": "code",
   "execution_count": 18,
   "metadata": {},
   "outputs": [
    {
     "data": {
      "text/plain": [
       "(1701,)"
      ]
     },
     "execution_count": 18,
     "metadata": {},
     "output_type": "execute_result"
    }
   ],
   "source": [
    "# Convert df['m_b_corr'] to np.array\n",
    "\n",
    "m_data = df['m_b_corr'].to_numpy()\n",
    "m_data.shape"
   ]
  },
  {
   "cell_type": "code",
   "execution_count": 20,
   "metadata": {},
   "outputs": [],
   "source": [
    "# Calculate the inverse of the covariance matrix  \n",
    "\n",
    "cov_inv = np.linalg.inv(cov_matrix)"
   ]
  },
  {
   "cell_type": "code",
   "execution_count": 80,
   "metadata": {},
   "outputs": [],
   "source": [
    "# Function to compute the logarithm of the likelihood\n",
    "# Input: vector of parameters H0, parameters q_0 and j_0\n",
    "# Output: the value of the likelihood at the specified parameter values\n",
    "\n",
    "#def log_likelihood(H0,q0,j0):\n",
    "    \n",
    "def log_likelihood(params,H0_range,q0,j0):\n",
    "    H0, q0, j0 = params  # Unpack the parameters\n",
    "    diff = m_data - magnitude(z_values, H0, q0, j0)\n",
    "    diff = np.array(diff)\n",
    "    return -0.5 * np.dot(diff,np.dot(diff,cov_inv))"
   ]
  },
  {
   "cell_type": "code",
   "execution_count": 81,
   "metadata": {},
   "outputs": [
    {
     "data": {
      "text/plain": [
       "<numpy.vectorize at 0x7f9c53632730>"
      ]
     },
     "execution_count": 81,
     "metadata": {},
     "output_type": "execute_result"
    }
   ],
   "source": [
    "# Fix the parameters q_0, j_0, H_0\n",
    "\n",
    "q0_fix = -0.55\n",
    "j0_fix = 1.\n",
    "\n",
    "H0_range = np.linspace(65,85,25)\n",
    "log_likelihood = np.vectorize(log_likelihood)\n",
    "log_likelihood"
   ]
  },
  {
   "cell_type": "code",
   "execution_count": 82,
   "metadata": {},
   "outputs": [
    {
     "data": {
      "text/plain": [
       "array([65.        , 65.83333333, 66.66666667, 67.5       , 68.33333333,\n",
       "       69.16666667, 70.        , 70.83333333, 71.66666667, 72.5       ,\n",
       "       73.33333333, 74.16666667, 75.        , 75.83333333, 76.66666667,\n",
       "       77.5       , 78.33333333, 79.16666667, 80.        , 80.83333333,\n",
       "       81.66666667, 82.5       , 83.33333333, 84.16666667, 85.        ])"
      ]
     },
     "execution_count": 82,
     "metadata": {},
     "output_type": "execute_result"
    }
   ],
   "source": [
    "H0_range"
   ]
  },
  {
   "cell_type": "code",
   "execution_count": 84,
   "metadata": {},
   "outputs": [
    {
     "ename": "TypeError",
     "evalue": "cannot unpack non-iterable numpy.float64 object",
     "output_type": "error",
     "traceback": [
      "\u001b[0;31m---------------------------------------------------------------------------\u001b[0m",
      "\u001b[0;31mTypeError\u001b[0m                                 Traceback (most recent call last)",
      "\u001b[0;32m<ipython-input-84-8273da844a3c>\u001b[0m in \u001b[0;36m<module>\u001b[0;34m\u001b[0m\n\u001b[1;32m      3\u001b[0m \u001b[0;32mfor\u001b[0m \u001b[0mH0_value\u001b[0m \u001b[0;32min\u001b[0m \u001b[0mH0_range\u001b[0m\u001b[0;34m:\u001b[0m\u001b[0;34m\u001b[0m\u001b[0;34m\u001b[0m\u001b[0m\n\u001b[1;32m      4\u001b[0m     \u001b[0mparams\u001b[0m \u001b[0;34m=\u001b[0m \u001b[0;34m[\u001b[0m\u001b[0mH0_value\u001b[0m\u001b[0;34m,\u001b[0m \u001b[0mq0_fix\u001b[0m\u001b[0;34m,\u001b[0m \u001b[0mj0_fix\u001b[0m\u001b[0;34m]\u001b[0m\u001b[0;34m\u001b[0m\u001b[0;34m\u001b[0m\u001b[0m\n\u001b[0;32m----> 5\u001b[0;31m     \u001b[0mresult\u001b[0m \u001b[0;34m=\u001b[0m \u001b[0mlog_likelihood\u001b[0m\u001b[0;34m(\u001b[0m\u001b[0mparams\u001b[0m\u001b[0;34m,\u001b[0m \u001b[0mH0_range\u001b[0m\u001b[0;34m,\u001b[0m \u001b[0mq0_fix\u001b[0m\u001b[0;34m,\u001b[0m \u001b[0mj0_fix\u001b[0m\u001b[0;34m)\u001b[0m\u001b[0;34m\u001b[0m\u001b[0;34m\u001b[0m\u001b[0m\n\u001b[0m\u001b[1;32m      6\u001b[0m     \u001b[0mprint\u001b[0m\u001b[0;34m(\u001b[0m\u001b[0;34mf'H0: {H0_value}, Log Posterior: {result}'\u001b[0m\u001b[0;34m)\u001b[0m\u001b[0;34m\u001b[0m\u001b[0;34m\u001b[0m\u001b[0m\n",
      "\u001b[0;32m~/anaconda3/lib/python3.8/site-packages/numpy/lib/function_base.py\u001b[0m in \u001b[0;36m__call__\u001b[0;34m(self, *args, **kwargs)\u001b[0m\n\u001b[1;32m   2106\u001b[0m             \u001b[0mvargs\u001b[0m\u001b[0;34m.\u001b[0m\u001b[0mextend\u001b[0m\u001b[0;34m(\u001b[0m\u001b[0;34m[\u001b[0m\u001b[0mkwargs\u001b[0m\u001b[0;34m[\u001b[0m\u001b[0m_n\u001b[0m\u001b[0;34m]\u001b[0m \u001b[0;32mfor\u001b[0m \u001b[0m_n\u001b[0m \u001b[0;32min\u001b[0m \u001b[0mnames\u001b[0m\u001b[0;34m]\u001b[0m\u001b[0;34m)\u001b[0m\u001b[0;34m\u001b[0m\u001b[0;34m\u001b[0m\u001b[0m\n\u001b[1;32m   2107\u001b[0m \u001b[0;34m\u001b[0m\u001b[0m\n\u001b[0;32m-> 2108\u001b[0;31m         \u001b[0;32mreturn\u001b[0m \u001b[0mself\u001b[0m\u001b[0;34m.\u001b[0m\u001b[0m_vectorize_call\u001b[0m\u001b[0;34m(\u001b[0m\u001b[0mfunc\u001b[0m\u001b[0;34m=\u001b[0m\u001b[0mfunc\u001b[0m\u001b[0;34m,\u001b[0m \u001b[0margs\u001b[0m\u001b[0;34m=\u001b[0m\u001b[0mvargs\u001b[0m\u001b[0;34m)\u001b[0m\u001b[0;34m\u001b[0m\u001b[0;34m\u001b[0m\u001b[0m\n\u001b[0m\u001b[1;32m   2109\u001b[0m \u001b[0;34m\u001b[0m\u001b[0m\n\u001b[1;32m   2110\u001b[0m     \u001b[0;32mdef\u001b[0m \u001b[0m_get_ufunc_and_otypes\u001b[0m\u001b[0;34m(\u001b[0m\u001b[0mself\u001b[0m\u001b[0;34m,\u001b[0m \u001b[0mfunc\u001b[0m\u001b[0;34m,\u001b[0m \u001b[0margs\u001b[0m\u001b[0;34m)\u001b[0m\u001b[0;34m:\u001b[0m\u001b[0;34m\u001b[0m\u001b[0;34m\u001b[0m\u001b[0m\n",
      "\u001b[0;32m~/anaconda3/lib/python3.8/site-packages/numpy/lib/function_base.py\u001b[0m in \u001b[0;36m_vectorize_call\u001b[0;34m(self, func, args)\u001b[0m\n\u001b[1;32m   2184\u001b[0m             \u001b[0mres\u001b[0m \u001b[0;34m=\u001b[0m \u001b[0mfunc\u001b[0m\u001b[0;34m(\u001b[0m\u001b[0;34m)\u001b[0m\u001b[0;34m\u001b[0m\u001b[0;34m\u001b[0m\u001b[0m\n\u001b[1;32m   2185\u001b[0m         \u001b[0;32melse\u001b[0m\u001b[0;34m:\u001b[0m\u001b[0;34m\u001b[0m\u001b[0;34m\u001b[0m\u001b[0m\n\u001b[0;32m-> 2186\u001b[0;31m             \u001b[0mufunc\u001b[0m\u001b[0;34m,\u001b[0m \u001b[0motypes\u001b[0m \u001b[0;34m=\u001b[0m \u001b[0mself\u001b[0m\u001b[0;34m.\u001b[0m\u001b[0m_get_ufunc_and_otypes\u001b[0m\u001b[0;34m(\u001b[0m\u001b[0mfunc\u001b[0m\u001b[0;34m=\u001b[0m\u001b[0mfunc\u001b[0m\u001b[0;34m,\u001b[0m \u001b[0margs\u001b[0m\u001b[0;34m=\u001b[0m\u001b[0margs\u001b[0m\u001b[0;34m)\u001b[0m\u001b[0;34m\u001b[0m\u001b[0;34m\u001b[0m\u001b[0m\n\u001b[0m\u001b[1;32m   2187\u001b[0m \u001b[0;34m\u001b[0m\u001b[0m\n\u001b[1;32m   2188\u001b[0m             \u001b[0;31m# Convert args to object arrays first\u001b[0m\u001b[0;34m\u001b[0m\u001b[0;34m\u001b[0m\u001b[0;34m\u001b[0m\u001b[0m\n",
      "\u001b[0;32m~/anaconda3/lib/python3.8/site-packages/numpy/lib/function_base.py\u001b[0m in \u001b[0;36m_get_ufunc_and_otypes\u001b[0;34m(self, func, args)\u001b[0m\n\u001b[1;32m   2144\u001b[0m \u001b[0;34m\u001b[0m\u001b[0m\n\u001b[1;32m   2145\u001b[0m             \u001b[0minputs\u001b[0m \u001b[0;34m=\u001b[0m \u001b[0;34m[\u001b[0m\u001b[0marg\u001b[0m\u001b[0;34m.\u001b[0m\u001b[0mflat\u001b[0m\u001b[0;34m[\u001b[0m\u001b[0;36m0\u001b[0m\u001b[0;34m]\u001b[0m \u001b[0;32mfor\u001b[0m \u001b[0marg\u001b[0m \u001b[0;32min\u001b[0m \u001b[0margs\u001b[0m\u001b[0;34m]\u001b[0m\u001b[0;34m\u001b[0m\u001b[0;34m\u001b[0m\u001b[0m\n\u001b[0;32m-> 2146\u001b[0;31m             \u001b[0moutputs\u001b[0m \u001b[0;34m=\u001b[0m \u001b[0mfunc\u001b[0m\u001b[0;34m(\u001b[0m\u001b[0;34m*\u001b[0m\u001b[0minputs\u001b[0m\u001b[0;34m)\u001b[0m\u001b[0;34m\u001b[0m\u001b[0;34m\u001b[0m\u001b[0m\n\u001b[0m\u001b[1;32m   2147\u001b[0m \u001b[0;34m\u001b[0m\u001b[0m\n\u001b[1;32m   2148\u001b[0m             \u001b[0;31m# Performance note: profiling indicates that -- for simple\u001b[0m\u001b[0;34m\u001b[0m\u001b[0;34m\u001b[0m\u001b[0;34m\u001b[0m\u001b[0m\n",
      "\u001b[0;32m<ipython-input-80-50136ebb3f59>\u001b[0m in \u001b[0;36mlog_likelihood\u001b[0;34m(params, H0_range, q0, j0)\u001b[0m\n\u001b[1;32m      6\u001b[0m \u001b[0;34m\u001b[0m\u001b[0m\n\u001b[1;32m      7\u001b[0m \u001b[0;32mdef\u001b[0m \u001b[0mlog_likelihood\u001b[0m\u001b[0;34m(\u001b[0m\u001b[0mparams\u001b[0m\u001b[0;34m,\u001b[0m\u001b[0mH0_range\u001b[0m\u001b[0;34m,\u001b[0m\u001b[0mq0\u001b[0m\u001b[0;34m,\u001b[0m\u001b[0mj0\u001b[0m\u001b[0;34m)\u001b[0m\u001b[0;34m:\u001b[0m\u001b[0;34m\u001b[0m\u001b[0;34m\u001b[0m\u001b[0m\n\u001b[0;32m----> 8\u001b[0;31m     \u001b[0mH0\u001b[0m\u001b[0;34m,\u001b[0m \u001b[0mq0\u001b[0m\u001b[0;34m,\u001b[0m \u001b[0mj0\u001b[0m \u001b[0;34m=\u001b[0m \u001b[0mparams\u001b[0m  \u001b[0;31m# Unpack the parameters\u001b[0m\u001b[0;34m\u001b[0m\u001b[0;34m\u001b[0m\u001b[0m\n\u001b[0m\u001b[1;32m      9\u001b[0m     \u001b[0mdiff\u001b[0m \u001b[0;34m=\u001b[0m \u001b[0mm_data\u001b[0m \u001b[0;34m-\u001b[0m \u001b[0mmagnitude\u001b[0m\u001b[0;34m(\u001b[0m\u001b[0mz_values\u001b[0m\u001b[0;34m,\u001b[0m \u001b[0mH0\u001b[0m\u001b[0;34m,\u001b[0m \u001b[0mq0\u001b[0m\u001b[0;34m,\u001b[0m \u001b[0mj0\u001b[0m\u001b[0;34m)\u001b[0m\u001b[0;34m\u001b[0m\u001b[0;34m\u001b[0m\u001b[0m\n\u001b[1;32m     10\u001b[0m     \u001b[0mdiff\u001b[0m \u001b[0;34m=\u001b[0m \u001b[0mnp\u001b[0m\u001b[0;34m.\u001b[0m\u001b[0marray\u001b[0m\u001b[0;34m(\u001b[0m\u001b[0mdiff\u001b[0m\u001b[0;34m)\u001b[0m\u001b[0;34m\u001b[0m\u001b[0;34m\u001b[0m\u001b[0m\n",
      "\u001b[0;31mTypeError\u001b[0m: cannot unpack non-iterable numpy.float64 object"
     ]
    }
   ],
   "source": [
    "# Check the function\n",
    "\n",
    "for H0_value in H0_range:\n",
    "    params = [H0_value, q0_fix, j0_fix]\n",
    "    result = log_likelihood(params, H0_range, q0_fix, j0_fix)\n",
    "    print(f'H0: {H0_value}, Log Posterior: {result}')"
   ]
  },
  {
   "cell_type": "code",
   "execution_count": 27,
   "metadata": {},
   "outputs": [
    {
     "data": {
      "text/plain": [
       "Text(0.5, 0, '$H_0$')"
      ]
     },
     "execution_count": 27,
     "metadata": {},
     "output_type": "execute_result"
    },
    {
     "data": {
      "image/png": "[encoded data removed]",
      "text/plain": [
       "<Figure size 432x288 with 1 Axes>"
      ]
     },
     "metadata": {
      "needs_background": "light"
     },
     "output_type": "display_data"
    }
   ],
   "source": [
    "# Plot Chi-squared vs H_0\n",
    "\n",
    "plt.plot(H0_range, -2. * log_likelihood(H0_range, q0_fix,j0_fix))\n",
    "plt.ylabel(r'$\\chi^2$')\n",
    "plt.xlabel(r'$H_0$')"
   ]
  },
  {
   "cell_type": "markdown",
   "metadata": {},
   "source": [
    "### Posterior probability \n",
    "\n",
    "In this section we will sample the posterior probability using the algorithm EMCEE to implement the Markov Chain Monte Carlo (MCMC) method. MCMC is a method for fitting models to data. \n",
    "\n",
    "According to Bayes Theorem, the posterior probability is given by\n",
    "\n",
    "$$ \n",
    "P(\\theta|d) = \\frac{P(d|\\theta)P(\\theta)}{P(d)}, \n",
    "$$\n",
    "\n",
    "where:\n",
    "- $\\theta$ is the cosmological parameters and  $d$ is the observed data, or samples. \n",
    "- $P(\\theta|d)$ is the posterior probability for $\\theta$, and it represents our degree of belief about the value of $\\theta$ after we have seen the data $d$. \n",
    "- $P(d|\\theta)=\\mathcal{L}(\\theta)$ is the likelihood function we already encountered. It is the probability of the data given a certain value of the parameters.\n",
    "- $P(\\theta)$ is the prior probability distribution. It represents our degree of belief in the value of $\\theta$ before we see the data (hence the name).\n",
    "- $P(d)$ is a normalizing constant, or the evidence, it ensures that the posterior is normalized to unity:$$ P(d)=\\int d \\theta P(d|\\theta)P(\\theta).$$\n",
    "\n",
    "\n",
    "In our case, the posterior probability for $H_0$, $q_0$ and $j_0$ is given by\n",
    "$$ \n",
    "P(H_0,q_0,j_0|SN) = \\frac{P(H_0)P(q_0)P(j_0)\\mathcal{L}((H_0,q_0,j_0))}{\\mathcal{E}}, \n",
    "$$\n",
    "\n",
    "where $\\mathcal{E}$ is the evidence.\n",
    "\n",
    "From now on, we use logarithm of probabilities to compute the log of posterior probability.\n",
    "\n",
    "The log-prior probability is assumed to be zero if all the parameters are within their bounds and $-\\infty$ if any of the parameters are outside their bounds."
   ]
  },
  {
   "cell_type": "code",
   "execution_count": 28,
   "metadata": {},
   "outputs": [],
   "source": [
    "# Compute the logarithm of the prior probability\n",
    "# Input: H0 vector of parameters\n",
    "# Output: the value of the prior at the specified parameter values\n",
    "\n",
    "#def log_uniprior(H0,mu,sigma):\n",
    "def log_uniprior(H0):\n",
    "    if 65 < H0 < 85:\n",
    "        return 0.0\n",
    "    return -np.infty"
   ]
  },
  {
   "cell_type": "code",
   "execution_count": 31,
   "metadata": {},
   "outputs": [
    {
     "data": {
      "text/plain": [
       "0.0"
      ]
     },
     "execution_count": 31,
     "metadata": {},
     "output_type": "execute_result"
    }
   ],
   "source": [
    "# Check\n",
    "\n",
    "l1 = log_uniprior(73)\n",
    "l1"
   ]
  },
  {
   "cell_type": "markdown",
   "metadata": {},
   "source": [
    "The posterior distribution combines the prior and the likelihood. It outputs negative infinity if the parameters lie outside the range of the prior."
   ]
  },
  {
   "cell_type": "code",
   "execution_count": 63,
   "metadata": {},
   "outputs": [],
   "source": [
    "# Compute log_posterior \n",
    "# Input: vector of parameters H0, parameters q_0 and j_0\n",
    "# Output: the value of the posterior at the specified parameter values\n",
    "\n",
    "def log_posterior(params,H0_range,q0,j0):\n",
    "    H0, q0, j0 = params  # Unpack the parameters\n",
    "    lu = log_uniprior(H0)\n",
    "    if not np.isfinite(lu):\n",
    "        return -np.inf\n",
    "    return log_likelihood(H0,q0,j0) + lu"
   ]
  },
  {
   "cell_type": "code",
   "execution_count": 65,
   "metadata": {},
   "outputs": [
    {
     "name": "stdout",
     "output_type": "stream",
     "text": [
      "H0: 65.0, Log Posterior: -inf\n",
      "H0: 65.83333333333333, Log Posterior: -10705.713383206576\n",
      "H0: 66.66666666666667, Log Posterior: -9862.900098401591\n",
      "H0: 67.5, Log Posterior: -9085.691352620532\n",
      "H0: 68.33333333333333, Log Posterior: -8371.804784545626\n",
      "H0: 69.16666666666667, Log Posterior: -7719.057234121017\n",
      "H0: 70.0, Log Posterior: -7125.359411427917\n",
      "H0: 70.83333333333333, Log Posterior: -6588.7109082674615\n",
      "H0: 71.66666666666667, Log Posterior: -6107.195526816346\n",
      "H0: 72.5, Log Posterior: -5678.976901903826\n",
      "H0: 73.33333333333333, Log Posterior: -5302.294395434391\n",
      "H0: 74.16666666666667, Log Posterior: -4975.459243269719\n",
      "H0: 75.0, Log Posterior: -4696.850936505353\n",
      "H0: 75.83333333333333, Log Posterior: -4464.913820550266\n",
      "H0: 76.66666666666667, Log Posterior: -4278.153896755361\n",
      "H0: 77.5, Log Posterior: -4135.135812553972\n",
      "H0: 78.33333333333333, Log Posterior: -4034.480027185797\n",
      "H0: 79.16666666666667, Log Posterior: -3974.860141085875\n",
      "H0: 80.0, Log Posterior: -3955.0003779419676\n",
      "H0: 80.83333333333333, Log Posterior: -3973.673209265617\n",
      "H0: 81.66666666666667, Log Posterior: -4029.697112091793\n",
      "H0: 82.5, Log Posterior: -4121.9344511261215\n",
      "H0: 83.33333333333334, Log Posterior: -4249.2894773041035\n",
      "H0: 84.16666666666667, Log Posterior: -4410.706435317502\n",
      "H0: 85.0, Log Posterior: -inf\n"
     ]
    }
   ],
   "source": [
    "# Check the function\n",
    "\n",
    "for H0_value in H0_range:\n",
    "    params = [H0_value, q0_fix, j0_fix]\n",
    "    result = log_posterior(params, H0_range, q0_fix, j0_fix)\n",
    "    print(f'H0: {H0_value}, Log Posterior: {result}')"
   ]
  },
  {
   "cell_type": "markdown",
   "metadata": {},
   "source": [
    "The purpose of a Markov chain Monte Carlo algorithm is to construct a sequence of points (or “samples”) in parameter space (called “a chain”). The crucial property of the chain is that the density of samples is proportional to the posterior pdf. This allows to construct a map of the posterior distribution.\n",
    "\n",
    "To sample the posterior we use `emcee`, an open-source sampler for MCMC, and for analyzing the chains we use `getdist`. `emcee` requires a function that returns the log-posterior probability.\n",
    "\n",
    "First, we define two key variables: `ndim` and `nwalkers`. The `nwalkers` variable is the number of \"walkers\" (different Markov Chains that run in parallel). "
   ]
  },
  {
   "cell_type": "code",
   "execution_count": 67,
   "metadata": {},
   "outputs": [],
   "source": [
    "ndim = 3\n",
    "nwalkers = 10"
   ]
  },
  {
   "cell_type": "code",
   "execution_count": 68,
   "metadata": {},
   "outputs": [],
   "source": [
    "# The length of the burn-in period:\n",
    "burn_in_len = 400"
   ]
  },
  {
   "cell_type": "code",
   "execution_count": 72,
   "metadata": {},
   "outputs": [
    {
     "data": {
      "text/plain": [
       "array([[72.99525549, -0.54865962,  0.97990144],\n",
       "       [73.04425088, -0.59655222,  1.02955438],\n",
       "       [73.01515926, -0.59356011,  0.96551983],\n",
       "       [73.04041385, -0.58443385,  0.96102484],\n",
       "       [72.94514672, -0.49611053,  0.98810804],\n",
       "       [73.11802458, -0.62507899,  1.14170083],\n",
       "       [73.03427619, -0.50054353,  0.82091603],\n",
       "       [72.90591529, -0.66131344,  1.21925898],\n",
       "       [72.848205  , -0.62470993,  0.87178829],\n",
       "       [73.01519537, -0.42667905,  0.94995482]])"
      ]
     },
     "execution_count": 72,
     "metadata": {},
     "output_type": "execute_result"
    }
   ],
   "source": [
    "# Initializing the walkers \n",
    "#p0 = np.random.randn(nwalkers, ndim)\n",
    "\n",
    "central_values = [73,-0.55, 1.]\n",
    "p0 = np.random.normal(central_values, scale=0.1, size=(nwalkers, ndim))\n",
    "p0"
   ]
  },
  {
   "cell_type": "code",
   "execution_count": 73,
   "metadata": {},
   "outputs": [],
   "source": [
    "# Creating an EnsembleSampler object and sampling with it\n",
    "\n",
    "sampler = emcee.EnsembleSampler(nwalkers, ndim, log_posterior, args=(H0_range,q0_fix,j0_fix))"
   ]
  },
  {
   "cell_type": "code",
   "execution_count": 74,
   "metadata": {},
   "outputs": [
    {
     "name": "stdout",
     "output_type": "stream",
     "text": [
      "Starting MCMC\n"
     ]
    },
    {
     "name": "stderr",
     "output_type": "stream",
     "text": [
      "<ipython-input-25-573c75abc384>:5: RuntimeWarning: invalid value encountered in log10\n",
      "  return 5 * np.log10(lum_distance(z,H0,q0,j0)) + 25 + M_B\n"
     ]
    },
    {
     "ename": "ValueError",
     "evalue": "Probability function returned NaN",
     "output_type": "error",
     "traceback": [
      "\u001b[0;31m---------------------------------------------------------------------------\u001b[0m",
      "\u001b[0;31mValueError\u001b[0m                                Traceback (most recent call last)",
      "\u001b[0;32m<ipython-input-74-30416245089a>\u001b[0m in \u001b[0;36m<module>\u001b[0;34m\u001b[0m\n\u001b[1;32m      1\u001b[0m \u001b[0mprint\u001b[0m \u001b[0;34m(\u001b[0m\u001b[0;34m\"Starting MCMC\"\u001b[0m\u001b[0;34m)\u001b[0m\u001b[0;34m\u001b[0m\u001b[0;34m\u001b[0m\u001b[0m\n\u001b[0;32m----> 2\u001b[0;31m \u001b[0msampler\u001b[0m\u001b[0;34m.\u001b[0m\u001b[0mrun_mcmc\u001b[0m\u001b[0;34m(\u001b[0m\u001b[0mp0\u001b[0m\u001b[0;34m,\u001b[0m \u001b[0;36m10000\u001b[0m\u001b[0;34m)\u001b[0m\u001b[0;34m\u001b[0m\u001b[0;34m\u001b[0m\u001b[0m\n\u001b[0m\u001b[1;32m      3\u001b[0m \u001b[0mprint\u001b[0m \u001b[0;34m(\u001b[0m\u001b[0;34m\"Finished MCMC\"\u001b[0m\u001b[0;34m)\u001b[0m\u001b[0;34m\u001b[0m\u001b[0;34m\u001b[0m\u001b[0m\n",
      "\u001b[0;32m~/anaconda3/lib/python3.8/site-packages/emcee/ensemble.py\u001b[0m in \u001b[0;36mrun_mcmc\u001b[0;34m(self, initial_state, nsteps, **kwargs)\u001b[0m\n\u001b[1;32m    441\u001b[0m \u001b[0;34m\u001b[0m\u001b[0m\n\u001b[1;32m    442\u001b[0m         \u001b[0mresults\u001b[0m \u001b[0;34m=\u001b[0m \u001b[0;32mNone\u001b[0m\u001b[0;34m\u001b[0m\u001b[0;34m\u001b[0m\u001b[0m\n\u001b[0;32m--> 443\u001b[0;31m         \u001b[0;32mfor\u001b[0m \u001b[0mresults\u001b[0m \u001b[0;32min\u001b[0m \u001b[0mself\u001b[0m\u001b[0;34m.\u001b[0m\u001b[0msample\u001b[0m\u001b[0;34m(\u001b[0m\u001b[0minitial_state\u001b[0m\u001b[0;34m,\u001b[0m \u001b[0miterations\u001b[0m\u001b[0;34m=\u001b[0m\u001b[0mnsteps\u001b[0m\u001b[0;34m,\u001b[0m \u001b[0;34m**\u001b[0m\u001b[0mkwargs\u001b[0m\u001b[0;34m)\u001b[0m\u001b[0;34m:\u001b[0m\u001b[0;34m\u001b[0m\u001b[0;34m\u001b[0m\u001b[0m\n\u001b[0m\u001b[1;32m    444\u001b[0m             \u001b[0;32mpass\u001b[0m\u001b[0;34m\u001b[0m\u001b[0;34m\u001b[0m\u001b[0m\n\u001b[1;32m    445\u001b[0m \u001b[0;34m\u001b[0m\u001b[0m\n",
      "\u001b[0;32m~/anaconda3/lib/python3.8/site-packages/emcee/ensemble.py\u001b[0m in \u001b[0;36msample\u001b[0;34m(self, initial_state, log_prob0, rstate0, blobs0, iterations, tune, skip_initial_state_check, thin_by, thin, store, progress, progress_kwargs)\u001b[0m\n\u001b[1;32m    400\u001b[0m \u001b[0;34m\u001b[0m\u001b[0m\n\u001b[1;32m    401\u001b[0m                     \u001b[0;31m# Propose\u001b[0m\u001b[0;34m\u001b[0m\u001b[0;34m\u001b[0m\u001b[0;34m\u001b[0m\u001b[0m\n\u001b[0;32m--> 402\u001b[0;31m                     \u001b[0mstate\u001b[0m\u001b[0;34m,\u001b[0m \u001b[0maccepted\u001b[0m \u001b[0;34m=\u001b[0m \u001b[0mmove\u001b[0m\u001b[0;34m.\u001b[0m\u001b[0mpropose\u001b[0m\u001b[0;34m(\u001b[0m\u001b[0mmodel\u001b[0m\u001b[0;34m,\u001b[0m \u001b[0mstate\u001b[0m\u001b[0;34m)\u001b[0m\u001b[0;34m\u001b[0m\u001b[0;34m\u001b[0m\u001b[0m\n\u001b[0m\u001b[1;32m    403\u001b[0m                     \u001b[0mstate\u001b[0m\u001b[0;34m.\u001b[0m\u001b[0mrandom_state\u001b[0m \u001b[0;34m=\u001b[0m \u001b[0mself\u001b[0m\u001b[0;34m.\u001b[0m\u001b[0mrandom_state\u001b[0m\u001b[0;34m\u001b[0m\u001b[0;34m\u001b[0m\u001b[0m\n\u001b[1;32m    404\u001b[0m \u001b[0;34m\u001b[0m\u001b[0m\n",
      "\u001b[0;32m~/anaconda3/lib/python3.8/site-packages/emcee/moves/red_blue.py\u001b[0m in \u001b[0;36mpropose\u001b[0;34m(self, model, state)\u001b[0m\n\u001b[1;32m     91\u001b[0m \u001b[0;34m\u001b[0m\u001b[0m\n\u001b[1;32m     92\u001b[0m             \u001b[0;31m# Compute the lnprobs of the proposed position.\u001b[0m\u001b[0;34m\u001b[0m\u001b[0;34m\u001b[0m\u001b[0;34m\u001b[0m\u001b[0m\n\u001b[0;32m---> 93\u001b[0;31m             \u001b[0mnew_log_probs\u001b[0m\u001b[0;34m,\u001b[0m \u001b[0mnew_blobs\u001b[0m \u001b[0;34m=\u001b[0m \u001b[0mmodel\u001b[0m\u001b[0;34m.\u001b[0m\u001b[0mcompute_log_prob_fn\u001b[0m\u001b[0;34m(\u001b[0m\u001b[0mq\u001b[0m\u001b[0;34m)\u001b[0m\u001b[0;34m\u001b[0m\u001b[0;34m\u001b[0m\u001b[0m\n\u001b[0m\u001b[1;32m     94\u001b[0m \u001b[0;34m\u001b[0m\u001b[0m\n\u001b[1;32m     95\u001b[0m             \u001b[0;31m# Loop over the walkers and update them accordingly.\u001b[0m\u001b[0;34m\u001b[0m\u001b[0;34m\u001b[0m\u001b[0;34m\u001b[0m\u001b[0m\n",
      "\u001b[0;32m~/anaconda3/lib/python3.8/site-packages/emcee/ensemble.py\u001b[0m in \u001b[0;36mcompute_log_prob\u001b[0;34m(self, coords)\u001b[0m\n\u001b[1;32m    533\u001b[0m         \u001b[0;31m# Check for log_prob returning NaN.\u001b[0m\u001b[0;34m\u001b[0m\u001b[0;34m\u001b[0m\u001b[0;34m\u001b[0m\u001b[0m\n\u001b[1;32m    534\u001b[0m         \u001b[0;32mif\u001b[0m \u001b[0mnp\u001b[0m\u001b[0;34m.\u001b[0m\u001b[0many\u001b[0m\u001b[0;34m(\u001b[0m\u001b[0mnp\u001b[0m\u001b[0;34m.\u001b[0m\u001b[0misnan\u001b[0m\u001b[0;34m(\u001b[0m\u001b[0mlog_prob\u001b[0m\u001b[0;34m)\u001b[0m\u001b[0;34m)\u001b[0m\u001b[0;34m:\u001b[0m\u001b[0;34m\u001b[0m\u001b[0;34m\u001b[0m\u001b[0m\n\u001b[0;32m--> 535\u001b[0;31m             \u001b[0;32mraise\u001b[0m \u001b[0mValueError\u001b[0m\u001b[0;34m(\u001b[0m\u001b[0;34m\"Probability function returned NaN\"\u001b[0m\u001b[0;34m)\u001b[0m\u001b[0;34m\u001b[0m\u001b[0;34m\u001b[0m\u001b[0m\n\u001b[0m\u001b[1;32m    536\u001b[0m \u001b[0;34m\u001b[0m\u001b[0m\n\u001b[1;32m    537\u001b[0m         \u001b[0;32mreturn\u001b[0m \u001b[0mlog_prob\u001b[0m\u001b[0;34m,\u001b[0m \u001b[0mblob\u001b[0m\u001b[0;34m\u001b[0m\u001b[0;34m\u001b[0m\u001b[0m\n",
      "\u001b[0;31mValueError\u001b[0m: Probability function returned NaN"
     ]
    }
   ],
   "source": [
    "print (\"Starting MCMC\")\n",
    "sampler.run_mcmc(p0, 10000)\n",
    "print (\"Finished MCMC\")"
   ]
  },
  {
   "cell_type": "markdown",
   "metadata": {},
   "source": [
    "## References\n",
    "\n",
    "[1] David Camarena and Valerio Marra, _Local determination of the Hubble constant and the deceleration parameter_, Phys. Rev. Research 2, 013028 (2020).\n",
    "\n",
    "\n",
    "[2] Oliver Piattella, _Lecture Notes in Cosmology_, Springer Cham (2018). \n",
    "\n",
    "\n",
    "[3] D. Foreman-Mackey, D. W. Hogg, D. Lang, and J. Goodman, _emcee: The MCMC Hammer_, Publ. Astron. Soc. Pac. 125 (2013) 306–312, https://arxiv.org/abs/1202.3665\n",
    "\n",
    "\n",
    "[4] A. Lewis, _GetDist: a Python package for analysing Monte Carlo samples_, arXiv:1910.13970, https://getdist.readthedocs.io."
   ]
  }
 ],
 "metadata": {
  "kernelspec": {
   "display_name": "Python 3",
   "language": "python",
   "name": "python3"
  },
  "language_info": {
   "codemirror_mode": {
    "name": "ipython",
    "version": 3
   },
   "file_extension": ".py",
   "mimetype": "text/x-python",
   "name": "python",
   "nbconvert_exporter": "python",
   "pygments_lexer": "ipython3",
   "version": "3.8.5"
  }
 },
 "nbformat": 4,
 "nbformat_minor": 4
}
